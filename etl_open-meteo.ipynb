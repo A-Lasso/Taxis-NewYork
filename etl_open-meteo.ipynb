{
 "cells": [
  {
   "cell_type": "code",
   "execution_count": 1,
   "metadata": {},
   "outputs": [],
   "source": [
    "import pandas as pd\n",
    "import seaborn as sns"
   ]
  },
  {
   "cell_type": "code",
   "execution_count": 2,
   "metadata": {},
   "outputs": [
    {
     "data": {
      "text/html": [
       "<div>\n",
       "<style scoped>\n",
       "    .dataframe tbody tr th:only-of-type {\n",
       "        vertical-align: middle;\n",
       "    }\n",
       "\n",
       "    .dataframe tbody tr th {\n",
       "        vertical-align: top;\n",
       "    }\n",
       "\n",
       "    .dataframe thead th {\n",
       "        text-align: right;\n",
       "    }\n",
       "</style>\n",
       "<table border=\"1\" class=\"dataframe\">\n",
       "  <thead>\n",
       "    <tr style=\"text-align: right;\">\n",
       "      <th></th>\n",
       "      <th>time</th>\n",
       "      <th>apparent_temperature (°C)</th>\n",
       "      <th>rain (mm)</th>\n",
       "      <th>snowfall (cm)</th>\n",
       "    </tr>\n",
       "  </thead>\n",
       "  <tbody>\n",
       "    <tr>\n",
       "      <th>0</th>\n",
       "      <td>2021-01-01T00:00</td>\n",
       "      <td>-3.5</td>\n",
       "      <td>0.0</td>\n",
       "      <td>0.0</td>\n",
       "    </tr>\n",
       "    <tr>\n",
       "      <th>1</th>\n",
       "      <td>2021-01-01T01:00</td>\n",
       "      <td>-4.3</td>\n",
       "      <td>0.0</td>\n",
       "      <td>0.0</td>\n",
       "    </tr>\n",
       "    <tr>\n",
       "      <th>2</th>\n",
       "      <td>2021-01-01T02:00</td>\n",
       "      <td>-5.0</td>\n",
       "      <td>0.0</td>\n",
       "      <td>0.0</td>\n",
       "    </tr>\n",
       "    <tr>\n",
       "      <th>3</th>\n",
       "      <td>2021-01-01T03:00</td>\n",
       "      <td>-5.6</td>\n",
       "      <td>0.0</td>\n",
       "      <td>0.0</td>\n",
       "    </tr>\n",
       "    <tr>\n",
       "      <th>4</th>\n",
       "      <td>2021-01-01T04:00</td>\n",
       "      <td>-6.2</td>\n",
       "      <td>0.0</td>\n",
       "      <td>0.0</td>\n",
       "    </tr>\n",
       "    <tr>\n",
       "      <th>...</th>\n",
       "      <td>...</td>\n",
       "      <td>...</td>\n",
       "      <td>...</td>\n",
       "      <td>...</td>\n",
       "    </tr>\n",
       "    <tr>\n",
       "      <th>22699</th>\n",
       "      <td>2023-08-04T19:00</td>\n",
       "      <td>NaN</td>\n",
       "      <td>NaN</td>\n",
       "      <td>NaN</td>\n",
       "    </tr>\n",
       "    <tr>\n",
       "      <th>22700</th>\n",
       "      <td>2023-08-04T20:00</td>\n",
       "      <td>NaN</td>\n",
       "      <td>NaN</td>\n",
       "      <td>NaN</td>\n",
       "    </tr>\n",
       "    <tr>\n",
       "      <th>22701</th>\n",
       "      <td>2023-08-04T21:00</td>\n",
       "      <td>NaN</td>\n",
       "      <td>NaN</td>\n",
       "      <td>NaN</td>\n",
       "    </tr>\n",
       "    <tr>\n",
       "      <th>22702</th>\n",
       "      <td>2023-08-04T22:00</td>\n",
       "      <td>NaN</td>\n",
       "      <td>NaN</td>\n",
       "      <td>NaN</td>\n",
       "    </tr>\n",
       "    <tr>\n",
       "      <th>22703</th>\n",
       "      <td>2023-08-04T23:00</td>\n",
       "      <td>NaN</td>\n",
       "      <td>NaN</td>\n",
       "      <td>NaN</td>\n",
       "    </tr>\n",
       "  </tbody>\n",
       "</table>\n",
       "<p>22704 rows × 4 columns</p>\n",
       "</div>"
      ],
      "text/plain": [
       "                   time  apparent_temperature (°C)  rain (mm)  snowfall (cm)\n",
       "0      2021-01-01T00:00                       -3.5        0.0            0.0\n",
       "1      2021-01-01T01:00                       -4.3        0.0            0.0\n",
       "2      2021-01-01T02:00                       -5.0        0.0            0.0\n",
       "3      2021-01-01T03:00                       -5.6        0.0            0.0\n",
       "4      2021-01-01T04:00                       -6.2        0.0            0.0\n",
       "...                 ...                        ...        ...            ...\n",
       "22699  2023-08-04T19:00                        NaN        NaN            NaN\n",
       "22700  2023-08-04T20:00                        NaN        NaN            NaN\n",
       "22701  2023-08-04T21:00                        NaN        NaN            NaN\n",
       "22702  2023-08-04T22:00                        NaN        NaN            NaN\n",
       "22703  2023-08-04T23:00                        NaN        NaN            NaN\n",
       "\n",
       "[22704 rows x 4 columns]"
      ]
     },
     "execution_count": 2,
     "metadata": {},
     "output_type": "execute_result"
    }
   ],
   "source": [
    "#Llamada a la API sería: https://archive-api.open-meteo.com/v1/archive?latitude=40.7143&longitude=-74.006&start_date=2021-01-01&end_date=2023-08-04&hourly=apparent_temperature,rain,snowfall&timezone=America%2FNew_York\n",
    "df = pd.read_csv('Datasets\\weather_nyc_temperature_rain_snowfall_raw.csv', skiprows=3)\n",
    "#Con skiprows omitimos la primera información sobre latitud, longitud, y huso horario de NYC ya que es innecesaria.\n",
    "df"
   ]
  },
  {
   "cell_type": "code",
   "execution_count": 3,
   "metadata": {},
   "outputs": [
    {
     "data": {
      "text/plain": [
       "<AxesSubplot:>"
      ]
     },
     "execution_count": 3,
     "metadata": {},
     "output_type": "execute_result"
    }
   ],
   "source": [
    "sns.heatmap(df.isna().transpose(), #Visualizamos los nulos, vemos que solo hay algunos faltantes en las fechas mas recientes\n",
    "            cmap=\"YlGnBu\",\n",
    "            cbar_kws={'label': 'Nulos'})  "
   ]
  },
  {
   "cell_type": "code",
   "execution_count": null,
   "metadata": {},
   "outputs": [
    {
     "name": "stdout",
     "output_type": "stream",
     "text": [
      "                   time  apparent_temperature (°C)  rain (mm)  snowfall (cm)\n",
      "22652  2023-08-02T20:00                        NaN        NaN            NaN\n",
      "22653  2023-08-02T21:00                        NaN        NaN            NaN\n",
      "22654  2023-08-02T22:00                        NaN        NaN            NaN\n",
      "22655  2023-08-02T23:00                        NaN        NaN            NaN\n",
      "22656  2023-08-03T00:00                        NaN        NaN            NaN\n",
      "22657  2023-08-03T01:00                        NaN        NaN            NaN\n",
      "22658  2023-08-03T02:00                        NaN        NaN            NaN\n",
      "22659  2023-08-03T03:00                        NaN        NaN            NaN\n",
      "22660  2023-08-03T04:00                        NaN        NaN            NaN\n",
      "22661  2023-08-03T05:00                        NaN        NaN            NaN\n",
      "22662  2023-08-03T06:00                        NaN        NaN            NaN\n",
      "22663  2023-08-03T07:00                        NaN        NaN            NaN\n",
      "22664  2023-08-03T08:00                        NaN        NaN            NaN\n",
      "22665  2023-08-03T09:00                        NaN        NaN            NaN\n",
      "22666  2023-08-03T10:00                        NaN        NaN            NaN\n",
      "22667  2023-08-03T11:00                        NaN        NaN            NaN\n",
      "22668  2023-08-03T12:00                        NaN        NaN            NaN\n",
      "22669  2023-08-03T13:00                        NaN        NaN            NaN\n",
      "22670  2023-08-03T14:00                        NaN        NaN            NaN\n",
      "22671  2023-08-03T15:00                        NaN        NaN            NaN\n",
      "22672  2023-08-03T16:00                        NaN        NaN            NaN\n",
      "22673  2023-08-03T17:00                        NaN        NaN            NaN\n",
      "22674  2023-08-03T18:00                        NaN        NaN            NaN\n",
      "22675  2023-08-03T19:00                        NaN        NaN            NaN\n",
      "22676  2023-08-03T20:00                        NaN        NaN            NaN\n",
      "22677  2023-08-03T21:00                        NaN        NaN            NaN\n",
      "22678  2023-08-03T22:00                        NaN        NaN            NaN\n",
      "22679  2023-08-03T23:00                        NaN        NaN            NaN\n",
      "22680  2023-08-04T00:00                        NaN        NaN            NaN\n",
      "22681  2023-08-04T01:00                        NaN        NaN            NaN\n",
      "22682  2023-08-04T02:00                        NaN        NaN            NaN\n",
      "22683  2023-08-04T03:00                        NaN        NaN            NaN\n",
      "22684  2023-08-04T04:00                        NaN        NaN            NaN\n",
      "22685  2023-08-04T05:00                        NaN        NaN            NaN\n",
      "22686  2023-08-04T06:00                        NaN        NaN            NaN\n",
      "22687  2023-08-04T07:00                        NaN        NaN            NaN\n",
      "22688  2023-08-04T08:00                        NaN        NaN            NaN\n",
      "22689  2023-08-04T09:00                        NaN        NaN            NaN\n",
      "22690  2023-08-04T10:00                        NaN        NaN            NaN\n",
      "22691  2023-08-04T11:00                        NaN        NaN            NaN\n",
      "22692  2023-08-04T12:00                        NaN        NaN            NaN\n",
      "22693  2023-08-04T13:00                        NaN        NaN            NaN\n",
      "22694  2023-08-04T14:00                        NaN        NaN            NaN\n",
      "22695  2023-08-04T15:00                        NaN        NaN            NaN\n",
      "22696  2023-08-04T16:00                        NaN        NaN            NaN\n",
      "22697  2023-08-04T17:00                        NaN        NaN            NaN\n",
      "22698  2023-08-04T18:00                        NaN        NaN            NaN\n",
      "22699  2023-08-04T19:00                        NaN        NaN            NaN\n",
      "22700  2023-08-04T20:00                        NaN        NaN            NaN\n",
      "22701  2023-08-04T21:00                        NaN        NaN            NaN\n",
      "22702  2023-08-04T22:00                        NaN        NaN            NaN\n",
      "22703  2023-08-04T23:00                        NaN        NaN            NaN\n"
     ]
    }
   ],
   "source": [
    "print(df[df.isnull().any(axis=1)]) #Comprobamos esto y procedemos a eliminarlos\n",
    "df.dropna(axis=0,inplace=True)"
   ]
  },
  {
   "cell_type": "code",
   "execution_count": null,
   "metadata": {},
   "outputs": [],
   "source": [
    "df.to_csv('Datasets_procesados_varios\\weather_nyc_temperature_rain_snowfall.csv', index=False)"
   ]
  }
 ],
 "metadata": {
  "kernelspec": {
   "display_name": "pida",
   "language": "python",
   "name": "python3"
  },
  "language_info": {
   "codemirror_mode": {
    "name": "ipython",
    "version": 3
   },
   "file_extension": ".py",
   "mimetype": "text/x-python",
   "name": "python",
   "nbconvert_exporter": "python",
   "pygments_lexer": "ipython3",
   "version": "3.7.10"
  },
  "orig_nbformat": 4
 },
 "nbformat": 4,
 "nbformat_minor": 2
}
