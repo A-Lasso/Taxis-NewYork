{
 "cells": [
  {
   "cell_type": "markdown",
   "metadata": {},
   "source": [
    "## Borough"
   ]
  },
  {
   "cell_type": "code",
   "execution_count": 144,
   "metadata": {},
   "outputs": [],
   "source": [
    "import pandas as pd \n",
    "import numpy as np"
   ]
  },
  {
   "cell_type": "code",
   "execution_count": 145,
   "metadata": {},
   "outputs": [],
   "source": [
    "taxi_zone=pd.read_csv(\"D:/Programacion/DataScience_Henry/Proyecto_Grupal/Datasets_procesados_cars/taxi-zone.csv\")\n",
    "Sonido_presencia=pd.read_csv(\"D:/Programacion/DataScience_Henry/Proyecto_Grupal/Datasets_procesados_contaminacion/Sonido_presencia.csv\")\n",
    "Calidad_aire=pd.read_csv(\"D:/Programacion/DataScience_Henry/Proyecto_Grupal/Datasets_procesados_contaminacion/Calidad del aire.csv\")"
   ]
  },
  {
   "cell_type": "code",
   "execution_count": 146,
   "metadata": {},
   "outputs": [],
   "source": [
    "Borough={\"id_Borough\":list(range(0,len(taxi_zone.Borough.unique()))),\n",
    "         \"Borough\":list(taxi_zone.Borough.unique())}\n",
    "Borough=pd.DataFrame(Borough)"
   ]
  },
  {
   "cell_type": "code",
   "execution_count": 147,
   "metadata": {},
   "outputs": [],
   "source": [
    "# Verificar que se encuentren todos los nombres de lugares del resto de dataframes\n",
    "for i in list(Calidad_aire[\"Geo Place Name\"].unique()):\n",
    "    if i not in list(Borough[\"Borough\"]):\n",
    "        Dicc={\"id_Borough\":Borough[\"id_Borough\"].max()+1,\n",
    "            \"Borough\":i}\n",
    "        Borough=pd.concat([Borough,pd.DataFrame([Dicc])],ignore_index=True)\n",
    "for i in list(Sonido_presencia[\"borough\"].unique()):\n",
    "    if i not in list(Borough[\"Borough\"]):\n",
    "        Dicc={\"id_Borough\":Borough[\"id_Borough\"].max()+1,\n",
    "            \"Borough\":i}\n",
    "        Borough=pd.concat([Borough,pd.DataFrame([Dicc])],ignore_index=True)"
   ]
  },
  {
   "cell_type": "code",
   "execution_count": 148,
   "metadata": {},
   "outputs": [
    {
     "data": {
      "text/html": [
       "<div>\n",
       "<style scoped>\n",
       "    .dataframe tbody tr th:only-of-type {\n",
       "        vertical-align: middle;\n",
       "    }\n",
       "\n",
       "    .dataframe tbody tr th {\n",
       "        vertical-align: top;\n",
       "    }\n",
       "\n",
       "    .dataframe thead th {\n",
       "        text-align: right;\n",
       "    }\n",
       "</style>\n",
       "<table border=\"1\" class=\"dataframe\">\n",
       "  <thead>\n",
       "    <tr style=\"text-align: right;\">\n",
       "      <th></th>\n",
       "      <th>id_Borough</th>\n",
       "      <th>Borough</th>\n",
       "    </tr>\n",
       "  </thead>\n",
       "  <tbody>\n",
       "    <tr>\n",
       "      <th>0</th>\n",
       "      <td>0</td>\n",
       "      <td>EWR</td>\n",
       "    </tr>\n",
       "    <tr>\n",
       "      <th>1</th>\n",
       "      <td>1</td>\n",
       "      <td>Queens</td>\n",
       "    </tr>\n",
       "    <tr>\n",
       "      <th>2</th>\n",
       "      <td>2</td>\n",
       "      <td>Bronx</td>\n",
       "    </tr>\n",
       "    <tr>\n",
       "      <th>3</th>\n",
       "      <td>3</td>\n",
       "      <td>Manhattan</td>\n",
       "    </tr>\n",
       "    <tr>\n",
       "      <th>4</th>\n",
       "      <td>4</td>\n",
       "      <td>Staten Island</td>\n",
       "    </tr>\n",
       "    <tr>\n",
       "      <th>5</th>\n",
       "      <td>5</td>\n",
       "      <td>Brooklyn</td>\n",
       "    </tr>\n",
       "    <tr>\n",
       "      <th>6</th>\n",
       "      <td>6</td>\n",
       "      <td>New York City</td>\n",
       "    </tr>\n",
       "  </tbody>\n",
       "</table>\n",
       "</div>"
      ],
      "text/plain": [
       "   id_Borough        Borough\n",
       "0           0            EWR\n",
       "1           1         Queens\n",
       "2           2          Bronx\n",
       "3           3      Manhattan\n",
       "4           4  Staten Island\n",
       "5           5       Brooklyn\n",
       "6           6  New York City"
      ]
     },
     "execution_count": 148,
     "metadata": {},
     "output_type": "execute_result"
    }
   ],
   "source": [
    "Borough"
   ]
  },
  {
   "cell_type": "markdown",
   "metadata": {},
   "source": [
    "## taxi-zone.csv"
   ]
  },
  {
   "cell_type": "code",
   "execution_count": 149,
   "metadata": {},
   "outputs": [
    {
     "data": {
      "text/plain": [
       "Index(['LocationID', 'Borough', 'Zone', 'service_zone'], dtype='object')"
      ]
     },
     "execution_count": 149,
     "metadata": {},
     "output_type": "execute_result"
    }
   ],
   "source": [
    "#Verifico que las columnas tengan los mismos nombres para el merge.\n",
    "taxi_zone.columns"
   ]
  },
  {
   "cell_type": "code",
   "execution_count": 150,
   "metadata": {},
   "outputs": [],
   "source": [
    "# Primero hago una variable de prueba para el merge\n",
    "# Esto para no reemplazar los datos en taxi_zone y perderlos por errores.\n",
    "\n",
    "Prueba_taxi_zone=pd.merge(taxi_zone,Borough,on=\"Borough\",how='inner')"
   ]
  },
  {
   "cell_type": "code",
   "execution_count": 151,
   "metadata": {},
   "outputs": [],
   "source": [
    "Prueba_taxi_zone.drop(columns=\"Borough\",inplace=True)"
   ]
  },
  {
   "cell_type": "code",
   "execution_count": 152,
   "metadata": {},
   "outputs": [],
   "source": [
    "columns=list(Prueba_taxi_zone.columns)"
   ]
  },
  {
   "cell_type": "code",
   "execution_count": 153,
   "metadata": {},
   "outputs": [
    {
     "data": {
      "text/plain": [
       "'id_Borough'"
      ]
     },
     "execution_count": 153,
     "metadata": {},
     "output_type": "execute_result"
    }
   ],
   "source": [
    "columns.pop()"
   ]
  },
  {
   "cell_type": "code",
   "execution_count": 154,
   "metadata": {},
   "outputs": [],
   "source": [
    "id=list(Borough.columns)[0]"
   ]
  },
  {
   "cell_type": "code",
   "execution_count": 155,
   "metadata": {},
   "outputs": [
    {
     "data": {
      "text/plain": [
       "'id_Borough'"
      ]
     },
     "execution_count": 155,
     "metadata": {},
     "output_type": "execute_result"
    }
   ],
   "source": [
    "id"
   ]
  },
  {
   "cell_type": "code",
   "execution_count": 156,
   "metadata": {},
   "outputs": [],
   "source": [
    "columns.insert(1,id)"
   ]
  },
  {
   "cell_type": "code",
   "execution_count": 157,
   "metadata": {},
   "outputs": [],
   "source": [
    "taxi_zone=Prueba_taxi_zone[columns].copy()\n",
    "#taxi-zone terminado."
   ]
  },
  {
   "cell_type": "markdown",
   "metadata": {},
   "source": [
    "---"
   ]
  },
  {
   "cell_type": "markdown",
   "metadata": {},
   "source": [
    "### Final de taxi-zone.csv"
   ]
  },
  {
   "cell_type": "code",
   "execution_count": 158,
   "metadata": {},
   "outputs": [
    {
     "data": {
      "text/plain": [
       "'\\n## taxi-zone.csv\\n# Se crea el df que va a contener los datos temporalmente\\nPrueba_taxi_zone=pd.merge(taxi_zone,Borough,on=\"Borough\",how=\\'inner\\')\\n\\n# Se quita la columna con los nombres.\\nPrueba_taxi_zone.drop(columns=\"Borough\",inplace=True)\\n\\n# Se enlista las columnas del df para hacer el cambio de orden.\\ncolumns=list(Prueba_taxi_zone.columns)\\n# Se quita el nombre de la ultima columna (la que contiene los id´s)\\ncolumns.pop()\\n# Ahora se inserta este mismo para ser la columna 2.\\ncolumns.insert(1,id)\\n# Y ahora renombramos a \"taxi_zone\" como el resultado de reordenar las columnas.\\ntaxi_zone=Prueba_taxi_zone[columns].copy()\\n#taxi-zone terminado.\\n'"
      ]
     },
     "execution_count": 158,
     "metadata": {},
     "output_type": "execute_result"
    }
   ],
   "source": [
    "\"\"\"\n",
    "## taxi-zone.csv\n",
    "# Se crea el df que va a contener los datos temporalmente\n",
    "Prueba_taxi_zone=pd.merge(taxi_zone,Borough,on=\"Borough\",how='inner')\n",
    "\n",
    "# Se quita la columna con los nombres.\n",
    "Prueba_taxi_zone.drop(columns=\"Borough\",inplace=True)\n",
    "\n",
    "# Se enlista las columnas del df para hacer el cambio de orden.\n",
    "columns=list(Prueba_taxi_zone.columns)\n",
    "# Se quita el nombre de la ultima columna (la que contiene los id´s)\n",
    "columns.pop()\n",
    "# Ahora se inserta este mismo para ser la columna 2.\n",
    "columns.insert(1,id)\n",
    "# Y ahora renombramos a \"taxi_zone\" como el resultado de reordenar las columnas.\n",
    "taxi_zone=Prueba_taxi_zone[columns].copy()\n",
    "#taxi-zone terminado.\n",
    "\"\"\""
   ]
  },
  {
   "cell_type": "code",
   "execution_count": 159,
   "metadata": {},
   "outputs": [
    {
     "data": {
      "text/html": [
       "<div>\n",
       "<style scoped>\n",
       "    .dataframe tbody tr th:only-of-type {\n",
       "        vertical-align: middle;\n",
       "    }\n",
       "\n",
       "    .dataframe tbody tr th {\n",
       "        vertical-align: top;\n",
       "    }\n",
       "\n",
       "    .dataframe thead th {\n",
       "        text-align: right;\n",
       "    }\n",
       "</style>\n",
       "<table border=\"1\" class=\"dataframe\">\n",
       "  <thead>\n",
       "    <tr style=\"text-align: right;\">\n",
       "      <th></th>\n",
       "      <th>LocationID</th>\n",
       "      <th>id_Borough</th>\n",
       "      <th>Zone</th>\n",
       "      <th>service_zone</th>\n",
       "    </tr>\n",
       "  </thead>\n",
       "  <tbody>\n",
       "    <tr>\n",
       "      <th>0</th>\n",
       "      <td>1</td>\n",
       "      <td>0</td>\n",
       "      <td>Newark Airport</td>\n",
       "      <td>EWR</td>\n",
       "    </tr>\n",
       "    <tr>\n",
       "      <th>1</th>\n",
       "      <td>2</td>\n",
       "      <td>1</td>\n",
       "      <td>Jamaica Bay</td>\n",
       "      <td>Boro Zone</td>\n",
       "    </tr>\n",
       "    <tr>\n",
       "      <th>2</th>\n",
       "      <td>7</td>\n",
       "      <td>1</td>\n",
       "      <td>Astoria</td>\n",
       "      <td>Boro Zone</td>\n",
       "    </tr>\n",
       "  </tbody>\n",
       "</table>\n",
       "</div>"
      ],
      "text/plain": [
       "   LocationID  id_Borough            Zone service_zone\n",
       "0           1           0  Newark Airport          EWR\n",
       "1           2           1     Jamaica Bay    Boro Zone\n",
       "2           7           1         Astoria    Boro Zone"
      ]
     },
     "execution_count": 159,
     "metadata": {},
     "output_type": "execute_result"
    }
   ],
   "source": [
    "taxi_zone.head(3)"
   ]
  },
  {
   "cell_type": "markdown",
   "metadata": {},
   "source": [
    "----"
   ]
  },
  {
   "cell_type": "markdown",
   "metadata": {},
   "source": [
    "## Sonido_presencia.csv"
   ]
  },
  {
   "cell_type": "code",
   "execution_count": 160,
   "metadata": {},
   "outputs": [
    {
     "data": {
      "text/plain": [
       "Index(['split', 'sensor_id', 'borough', 'year', '5-1_car-horn_presence',\n",
       "       '5-2_car-alarm_presence', '5-4_reverse-beeper_presence',\n",
       "       '1_engine_presence', '2_machinery-impact_presence',\n",
       "       '3_non-machinery-impact_presence', '4_powered-saw_presence',\n",
       "       '5_alert-signal_presence', '6_music_presence', '7_human-voice_presence',\n",
       "       '8_dog_presence'],\n",
       "      dtype='object')"
      ]
     },
     "execution_count": 160,
     "metadata": {},
     "output_type": "execute_result"
    }
   ],
   "source": [
    "Sonido_presencia.columns\n",
    "# Hay que cambiar a mayuscula la primera letra\n",
    "# Podriamos aplicar codigo en lugar de cambiar el nombre pero \n",
    "# Es mejor para más adelante que esten igual escritas en este caso."
   ]
  },
  {
   "cell_type": "code",
   "execution_count": 161,
   "metadata": {},
   "outputs": [],
   "source": [
    "columnas=list(Sonido_presencia.columns)"
   ]
  },
  {
   "cell_type": "code",
   "execution_count": 162,
   "metadata": {},
   "outputs": [],
   "source": [
    "columnas_reemplazada=[columna.replace(\"borough\",\"Borough\") for columna in columnas]"
   ]
  },
  {
   "cell_type": "code",
   "execution_count": 163,
   "metadata": {},
   "outputs": [],
   "source": [
    "cambio=pd.DataFrame()"
   ]
  },
  {
   "cell_type": "code",
   "execution_count": 164,
   "metadata": {},
   "outputs": [],
   "source": [
    "# Hago el df temporal que va a tener las columnas con el renombre.\n",
    "cambio[columnas_reemplazada]=Sonido_presencia[columnas].copy()\n",
    "Prueba_sonido_presencia=pd.merge(cambio,Borough,on=\"Borough\",how='inner')"
   ]
  },
  {
   "cell_type": "code",
   "execution_count": 165,
   "metadata": {},
   "outputs": [],
   "source": [
    "id=list(Borough.columns)[0]\n",
    "columnas=list(Prueba_sonido_presencia.columns.drop(\"Borough\"))\n",
    "columnas.pop()\n",
    "columnas.insert(3,id)\n",
    "Sonido_presencia2=Prueba_sonido_presencia[columnas].copy()"
   ]
  },
  {
   "cell_type": "code",
   "execution_count": 166,
   "metadata": {},
   "outputs": [
    {
     "data": {
      "text/html": [
       "<div>\n",
       "<style scoped>\n",
       "    .dataframe tbody tr th:only-of-type {\n",
       "        vertical-align: middle;\n",
       "    }\n",
       "\n",
       "    .dataframe tbody tr th {\n",
       "        vertical-align: top;\n",
       "    }\n",
       "\n",
       "    .dataframe thead th {\n",
       "        text-align: right;\n",
       "    }\n",
       "</style>\n",
       "<table border=\"1\" class=\"dataframe\">\n",
       "  <thead>\n",
       "    <tr style=\"text-align: right;\">\n",
       "      <th></th>\n",
       "      <th>split</th>\n",
       "      <th>sensor_id</th>\n",
       "      <th>Borough</th>\n",
       "      <th>year</th>\n",
       "      <th>5-1_car-horn_presence</th>\n",
       "      <th>5-2_car-alarm_presence</th>\n",
       "      <th>5-4_reverse-beeper_presence</th>\n",
       "      <th>1_engine_presence</th>\n",
       "      <th>2_machinery-impact_presence</th>\n",
       "      <th>3_non-machinery-impact_presence</th>\n",
       "      <th>4_powered-saw_presence</th>\n",
       "      <th>5_alert-signal_presence</th>\n",
       "      <th>6_music_presence</th>\n",
       "      <th>7_human-voice_presence</th>\n",
       "      <th>8_dog_presence</th>\n",
       "      <th>id_Borough</th>\n",
       "    </tr>\n",
       "  </thead>\n",
       "  <tbody>\n",
       "    <tr>\n",
       "      <th>0</th>\n",
       "      <td>test</td>\n",
       "      <td>0</td>\n",
       "      <td>Manhattan</td>\n",
       "      <td>2019</td>\n",
       "      <td>-1</td>\n",
       "      <td>-1</td>\n",
       "      <td>-1</td>\n",
       "      <td>-1</td>\n",
       "      <td>1</td>\n",
       "      <td>0</td>\n",
       "      <td>-1</td>\n",
       "      <td>-1</td>\n",
       "      <td>-1</td>\n",
       "      <td>-1</td>\n",
       "      <td>-1</td>\n",
       "      <td>3</td>\n",
       "    </tr>\n",
       "    <tr>\n",
       "      <th>1</th>\n",
       "      <td>test</td>\n",
       "      <td>0</td>\n",
       "      <td>Manhattan</td>\n",
       "      <td>2019</td>\n",
       "      <td>-1</td>\n",
       "      <td>-1</td>\n",
       "      <td>-1</td>\n",
       "      <td>1</td>\n",
       "      <td>-1</td>\n",
       "      <td>-1</td>\n",
       "      <td>-1</td>\n",
       "      <td>-1</td>\n",
       "      <td>-1</td>\n",
       "      <td>-1</td>\n",
       "      <td>-1</td>\n",
       "      <td>3</td>\n",
       "    </tr>\n",
       "    <tr>\n",
       "      <th>2</th>\n",
       "      <td>test</td>\n",
       "      <td>0</td>\n",
       "      <td>Manhattan</td>\n",
       "      <td>2019</td>\n",
       "      <td>-1</td>\n",
       "      <td>-1</td>\n",
       "      <td>-1</td>\n",
       "      <td>1</td>\n",
       "      <td>-1</td>\n",
       "      <td>-1</td>\n",
       "      <td>-1</td>\n",
       "      <td>-1</td>\n",
       "      <td>-1</td>\n",
       "      <td>-1</td>\n",
       "      <td>-1</td>\n",
       "      <td>3</td>\n",
       "    </tr>\n",
       "  </tbody>\n",
       "</table>\n",
       "</div>"
      ],
      "text/plain": [
       "  split  sensor_id    Borough  year  5-1_car-horn_presence  \\\n",
       "0  test          0  Manhattan  2019                     -1   \n",
       "1  test          0  Manhattan  2019                     -1   \n",
       "2  test          0  Manhattan  2019                     -1   \n",
       "\n",
       "   5-2_car-alarm_presence  5-4_reverse-beeper_presence  1_engine_presence  \\\n",
       "0                      -1                           -1                 -1   \n",
       "1                      -1                           -1                  1   \n",
       "2                      -1                           -1                  1   \n",
       "\n",
       "   2_machinery-impact_presence  3_non-machinery-impact_presence  \\\n",
       "0                            1                                0   \n",
       "1                           -1                               -1   \n",
       "2                           -1                               -1   \n",
       "\n",
       "   4_powered-saw_presence  5_alert-signal_presence  6_music_presence  \\\n",
       "0                      -1                       -1                -1   \n",
       "1                      -1                       -1                -1   \n",
       "2                      -1                       -1                -1   \n",
       "\n",
       "   7_human-voice_presence  8_dog_presence  id_Borough  \n",
       "0                      -1              -1           3  \n",
       "1                      -1              -1           3  \n",
       "2                      -1              -1           3  "
      ]
     },
     "execution_count": 166,
     "metadata": {},
     "output_type": "execute_result"
    }
   ],
   "source": [
    "Prueba_sonido_presencia.head(3)"
   ]
  },
  {
   "cell_type": "code",
   "execution_count": 167,
   "metadata": {},
   "outputs": [
    {
     "data": {
      "text/html": [
       "<div>\n",
       "<style scoped>\n",
       "    .dataframe tbody tr th:only-of-type {\n",
       "        vertical-align: middle;\n",
       "    }\n",
       "\n",
       "    .dataframe tbody tr th {\n",
       "        vertical-align: top;\n",
       "    }\n",
       "\n",
       "    .dataframe thead th {\n",
       "        text-align: right;\n",
       "    }\n",
       "</style>\n",
       "<table border=\"1\" class=\"dataframe\">\n",
       "  <thead>\n",
       "    <tr style=\"text-align: right;\">\n",
       "      <th></th>\n",
       "      <th>split</th>\n",
       "      <th>sensor_id</th>\n",
       "      <th>year</th>\n",
       "      <th>id_Borough</th>\n",
       "      <th>5-1_car-horn_presence</th>\n",
       "      <th>5-2_car-alarm_presence</th>\n",
       "      <th>5-4_reverse-beeper_presence</th>\n",
       "      <th>1_engine_presence</th>\n",
       "      <th>2_machinery-impact_presence</th>\n",
       "      <th>3_non-machinery-impact_presence</th>\n",
       "      <th>4_powered-saw_presence</th>\n",
       "      <th>5_alert-signal_presence</th>\n",
       "      <th>6_music_presence</th>\n",
       "      <th>7_human-voice_presence</th>\n",
       "      <th>8_dog_presence</th>\n",
       "    </tr>\n",
       "  </thead>\n",
       "  <tbody>\n",
       "    <tr>\n",
       "      <th>0</th>\n",
       "      <td>test</td>\n",
       "      <td>0</td>\n",
       "      <td>2019</td>\n",
       "      <td>3</td>\n",
       "      <td>-1</td>\n",
       "      <td>-1</td>\n",
       "      <td>-1</td>\n",
       "      <td>-1</td>\n",
       "      <td>1</td>\n",
       "      <td>0</td>\n",
       "      <td>-1</td>\n",
       "      <td>-1</td>\n",
       "      <td>-1</td>\n",
       "      <td>-1</td>\n",
       "      <td>-1</td>\n",
       "    </tr>\n",
       "    <tr>\n",
       "      <th>1</th>\n",
       "      <td>test</td>\n",
       "      <td>0</td>\n",
       "      <td>2019</td>\n",
       "      <td>3</td>\n",
       "      <td>-1</td>\n",
       "      <td>-1</td>\n",
       "      <td>-1</td>\n",
       "      <td>1</td>\n",
       "      <td>-1</td>\n",
       "      <td>-1</td>\n",
       "      <td>-1</td>\n",
       "      <td>-1</td>\n",
       "      <td>-1</td>\n",
       "      <td>-1</td>\n",
       "      <td>-1</td>\n",
       "    </tr>\n",
       "    <tr>\n",
       "      <th>2</th>\n",
       "      <td>test</td>\n",
       "      <td>0</td>\n",
       "      <td>2019</td>\n",
       "      <td>3</td>\n",
       "      <td>-1</td>\n",
       "      <td>-1</td>\n",
       "      <td>-1</td>\n",
       "      <td>1</td>\n",
       "      <td>-1</td>\n",
       "      <td>-1</td>\n",
       "      <td>-1</td>\n",
       "      <td>-1</td>\n",
       "      <td>-1</td>\n",
       "      <td>-1</td>\n",
       "      <td>-1</td>\n",
       "    </tr>\n",
       "  </tbody>\n",
       "</table>\n",
       "</div>"
      ],
      "text/plain": [
       "  split  sensor_id  year  id_Borough  5-1_car-horn_presence  \\\n",
       "0  test          0  2019           3                     -1   \n",
       "1  test          0  2019           3                     -1   \n",
       "2  test          0  2019           3                     -1   \n",
       "\n",
       "   5-2_car-alarm_presence  5-4_reverse-beeper_presence  1_engine_presence  \\\n",
       "0                      -1                           -1                 -1   \n",
       "1                      -1                           -1                  1   \n",
       "2                      -1                           -1                  1   \n",
       "\n",
       "   2_machinery-impact_presence  3_non-machinery-impact_presence  \\\n",
       "0                            1                                0   \n",
       "1                           -1                               -1   \n",
       "2                           -1                               -1   \n",
       "\n",
       "   4_powered-saw_presence  5_alert-signal_presence  6_music_presence  \\\n",
       "0                      -1                       -1                -1   \n",
       "1                      -1                       -1                -1   \n",
       "2                      -1                       -1                -1   \n",
       "\n",
       "   7_human-voice_presence  8_dog_presence  \n",
       "0                      -1              -1  \n",
       "1                      -1              -1  \n",
       "2                      -1              -1  "
      ]
     },
     "execution_count": 167,
     "metadata": {},
     "output_type": "execute_result"
    }
   ],
   "source": [
    "Sonido_presencia2.head(3)"
   ]
  },
  {
   "cell_type": "code",
   "execution_count": 168,
   "metadata": {},
   "outputs": [
    {
     "data": {
      "text/html": [
       "<div>\n",
       "<style scoped>\n",
       "    .dataframe tbody tr th:only-of-type {\n",
       "        vertical-align: middle;\n",
       "    }\n",
       "\n",
       "    .dataframe tbody tr th {\n",
       "        vertical-align: top;\n",
       "    }\n",
       "\n",
       "    .dataframe thead th {\n",
       "        text-align: right;\n",
       "    }\n",
       "</style>\n",
       "<table border=\"1\" class=\"dataframe\">\n",
       "  <thead>\n",
       "    <tr style=\"text-align: right;\">\n",
       "      <th></th>\n",
       "      <th>split</th>\n",
       "      <th>sensor_id</th>\n",
       "      <th>Borough</th>\n",
       "      <th>year</th>\n",
       "      <th>5-1_car-horn_presence</th>\n",
       "      <th>5-2_car-alarm_presence</th>\n",
       "      <th>5-4_reverse-beeper_presence</th>\n",
       "      <th>1_engine_presence</th>\n",
       "      <th>2_machinery-impact_presence</th>\n",
       "      <th>3_non-machinery-impact_presence</th>\n",
       "      <th>4_powered-saw_presence</th>\n",
       "      <th>5_alert-signal_presence</th>\n",
       "      <th>6_music_presence</th>\n",
       "      <th>7_human-voice_presence</th>\n",
       "      <th>8_dog_presence</th>\n",
       "      <th>id_Borough</th>\n",
       "    </tr>\n",
       "  </thead>\n",
       "  <tbody>\n",
       "    <tr>\n",
       "      <th>0</th>\n",
       "      <td>test</td>\n",
       "      <td>0</td>\n",
       "      <td>Manhattan</td>\n",
       "      <td>2019</td>\n",
       "      <td>-1</td>\n",
       "      <td>-1</td>\n",
       "      <td>-1</td>\n",
       "      <td>-1</td>\n",
       "      <td>1</td>\n",
       "      <td>0</td>\n",
       "      <td>-1</td>\n",
       "      <td>-1</td>\n",
       "      <td>-1</td>\n",
       "      <td>-1</td>\n",
       "      <td>-1</td>\n",
       "      <td>3</td>\n",
       "    </tr>\n",
       "    <tr>\n",
       "      <th>1</th>\n",
       "      <td>test</td>\n",
       "      <td>0</td>\n",
       "      <td>Manhattan</td>\n",
       "      <td>2019</td>\n",
       "      <td>-1</td>\n",
       "      <td>-1</td>\n",
       "      <td>-1</td>\n",
       "      <td>1</td>\n",
       "      <td>-1</td>\n",
       "      <td>-1</td>\n",
       "      <td>-1</td>\n",
       "      <td>-1</td>\n",
       "      <td>-1</td>\n",
       "      <td>-1</td>\n",
       "      <td>-1</td>\n",
       "      <td>3</td>\n",
       "    </tr>\n",
       "    <tr>\n",
       "      <th>2</th>\n",
       "      <td>test</td>\n",
       "      <td>0</td>\n",
       "      <td>Manhattan</td>\n",
       "      <td>2019</td>\n",
       "      <td>-1</td>\n",
       "      <td>-1</td>\n",
       "      <td>-1</td>\n",
       "      <td>1</td>\n",
       "      <td>-1</td>\n",
       "      <td>-1</td>\n",
       "      <td>-1</td>\n",
       "      <td>-1</td>\n",
       "      <td>-1</td>\n",
       "      <td>-1</td>\n",
       "      <td>-1</td>\n",
       "      <td>3</td>\n",
       "    </tr>\n",
       "  </tbody>\n",
       "</table>\n",
       "</div>"
      ],
      "text/plain": [
       "  split  sensor_id    Borough  year  5-1_car-horn_presence  \\\n",
       "0  test          0  Manhattan  2019                     -1   \n",
       "1  test          0  Manhattan  2019                     -1   \n",
       "2  test          0  Manhattan  2019                     -1   \n",
       "\n",
       "   5-2_car-alarm_presence  5-4_reverse-beeper_presence  1_engine_presence  \\\n",
       "0                      -1                           -1                 -1   \n",
       "1                      -1                           -1                  1   \n",
       "2                      -1                           -1                  1   \n",
       "\n",
       "   2_machinery-impact_presence  3_non-machinery-impact_presence  \\\n",
       "0                            1                                0   \n",
       "1                           -1                               -1   \n",
       "2                           -1                               -1   \n",
       "\n",
       "   4_powered-saw_presence  5_alert-signal_presence  6_music_presence  \\\n",
       "0                      -1                       -1                -1   \n",
       "1                      -1                       -1                -1   \n",
       "2                      -1                       -1                -1   \n",
       "\n",
       "   7_human-voice_presence  8_dog_presence  id_Borough  \n",
       "0                      -1              -1           3  \n",
       "1                      -1              -1           3  \n",
       "2                      -1              -1           3  "
      ]
     },
     "execution_count": 168,
     "metadata": {},
     "output_type": "execute_result"
    }
   ],
   "source": [
    "Prueba_sonido_presencia.head(3)"
   ]
  },
  {
   "cell_type": "markdown",
   "metadata": {},
   "source": [
    "---"
   ]
  },
  {
   "cell_type": "markdown",
   "metadata": {},
   "source": [
    "### Final "
   ]
  },
  {
   "cell_type": "code",
   "execution_count": 169,
   "metadata": {},
   "outputs": [
    {
     "data": {
      "text/plain": [
       "'\\n# Enlisto las columnas del csv para luego reemplazar la que se llamara borough.\\ncolumnas=list(Sonido_presencia.columns)\\ncolumnas_reemplazada=[columna.replace(\"borough\",\"Borough\") for columna in columnas]\\ncambio=pd.DataFrame()\\n\\n# Hago el df temporal que va a tener las columnas con el renombre.\\ncambio[columnas_reemplazada]=Sonido_presencia[columnas].copy()\\nPrueba_sonido_presencia=pd.merge(cambio,Borough,on=\"Borough\",how=\\'inner\\')\\n\\n# Elimino variables ya no usadas (ahorro de memoria/espacio)\\ndel(cambio)\\ndel(columnas_reemplazada)\\n\\n# Me aseguro de no escribir el nombre directamente si a futuro nos gustaria cambiarlo.\\n# Hay que asegurarse que el id quede en la primera columna del df.\\nid=list(Borough.columns)[0]\\n\\n# Me guardo las columnas menos \"Borough\" ya que quiero generar un df solo con los id.\\ncolumnas=list(Prueba_sonido_presencia.columns.drop(\"Borough\"))\\n\\n# Reordeno las columnas, ya sé que la columna de id´s queda a lo último y por eso directamente hago pop()\\ncolumnas.pop()\\n# Inserto el nombre de la columna de los id(esto para que quede como 4ta columna siempre)\\ncolumnas.insert(3,id)\\nSonido_presencia2=Prueba_sonido_presencia[columnas].copy()\\n\\n# Ya no se usan, se elimina(ahorro).\\ndel(Prueba_sonido_presencia)\\n'"
      ]
     },
     "execution_count": 169,
     "metadata": {},
     "output_type": "execute_result"
    }
   ],
   "source": [
    "\"\"\"\n",
    "# Enlisto las columnas del csv para luego reemplazar la que se llamara borough.\n",
    "columnas=list(Sonido_presencia.columns)\n",
    "columnas_reemplazada=[columna.replace(\"borough\",\"Borough\") for columna in columnas]\n",
    "cambio=pd.DataFrame()\n",
    "\n",
    "# Hago el df temporal que va a tener las columnas con el renombre.\n",
    "cambio[columnas_reemplazada]=Sonido_presencia[columnas].copy()\n",
    "Prueba_sonido_presencia=pd.merge(cambio,Borough,on=\"Borough\",how='inner')\n",
    "\n",
    "# Elimino variables ya no usadas (ahorro de memoria/espacio)\n",
    "del(cambio)\n",
    "del(columnas_reemplazada)\n",
    "\n",
    "# Me aseguro de no escribir el nombre directamente si a futuro nos gustaria cambiarlo.\n",
    "# Hay que asegurarse que el id quede en la primera columna del df.\n",
    "id=list(Borough.columns)[0]\n",
    "\n",
    "# Me guardo las columnas menos \"Borough\" ya que quiero generar un df solo con los id.\n",
    "columnas=list(Prueba_sonido_presencia.columns.drop(\"Borough\"))\n",
    "\n",
    "# Reordeno las columnas, ya sé que la columna de id´s queda a lo último y por eso directamente hago pop()\n",
    "columnas.pop()\n",
    "# Inserto el nombre de la columna de los id(esto para que quede como 4ta columna siempre)\n",
    "columnas.insert(3,id)\n",
    "Sonido_presencia2=Prueba_sonido_presencia[columnas].copy()\n",
    "\n",
    "# Ya no se usan, se elimina(ahorro).\n",
    "del(Prueba_sonido_presencia)\n",
    "\"\"\""
   ]
  },
  {
   "cell_type": "markdown",
   "metadata": {},
   "source": [
    "---"
   ]
  },
  {
   "cell_type": "markdown",
   "metadata": {},
   "source": [
    "## Calidad del aire.csv"
   ]
  },
  {
   "cell_type": "code",
   "execution_count": 170,
   "metadata": {},
   "outputs": [
    {
     "data": {
      "text/plain": [
       "Index(['Name', 'Measure', 'Measure Info', 'Geo Type Name', 'Geo Place Name',\n",
       "       'Data Value', 'Stations', 'Final Date'],\n",
       "      dtype='object')"
      ]
     },
     "execution_count": 170,
     "metadata": {},
     "output_type": "execute_result"
    }
   ],
   "source": [
    "Calidad_aire.columns\n",
    "# En este caso ya que no solo hay Burough lo que hago es hacer uso del código:\n",
    "# left_on='Geo Place Name', right_on='Borough'\n",
    "# Ya que esto significa la misma columna con distinto nombre.\n",
    "#(Si el dataframe de la izquierda resulta no ser Calidad_aire se intercambian los nombres en las variables)"
   ]
  },
  {
   "cell_type": "code",
   "execution_count": 171,
   "metadata": {},
   "outputs": [
    {
     "data": {
      "text/html": [
       "<div>\n",
       "<style scoped>\n",
       "    .dataframe tbody tr th:only-of-type {\n",
       "        vertical-align: middle;\n",
       "    }\n",
       "\n",
       "    .dataframe tbody tr th {\n",
       "        vertical-align: top;\n",
       "    }\n",
       "\n",
       "    .dataframe thead th {\n",
       "        text-align: right;\n",
       "    }\n",
       "</style>\n",
       "<table border=\"1\" class=\"dataframe\">\n",
       "  <thead>\n",
       "    <tr style=\"text-align: right;\">\n",
       "      <th></th>\n",
       "      <th>Name</th>\n",
       "      <th>Measure</th>\n",
       "      <th>Measure Info</th>\n",
       "      <th>Geo Type Name</th>\n",
       "      <th>Geo Place Name</th>\n",
       "      <th>Data Value</th>\n",
       "      <th>Stations</th>\n",
       "      <th>Final Date</th>\n",
       "    </tr>\n",
       "  </thead>\n",
       "  <tbody>\n",
       "    <tr>\n",
       "      <th>0</th>\n",
       "      <td>Air Toxics Concentrations- Average Benzene Con...</td>\n",
       "      <td>Annual Average Concentration</td>\n",
       "      <td>µg/m3</td>\n",
       "      <td>Borough</td>\n",
       "      <td>Queens</td>\n",
       "      <td>1.6</td>\n",
       "      <td>Annual</td>\n",
       "      <td>2011</td>\n",
       "    </tr>\n",
       "  </tbody>\n",
       "</table>\n",
       "</div>"
      ],
      "text/plain": [
       "                                                Name  \\\n",
       "0  Air Toxics Concentrations- Average Benzene Con...   \n",
       "\n",
       "                        Measure Measure Info Geo Type Name Geo Place Name  \\\n",
       "0  Annual Average Concentration        µg/m3       Borough         Queens   \n",
       "\n",
       "   Data Value Stations  Final Date  \n",
       "0         1.6   Annual        2011  "
      ]
     },
     "execution_count": 171,
     "metadata": {},
     "output_type": "execute_result"
    }
   ],
   "source": [
    "Calidad_aire.head(1)"
   ]
  },
  {
   "cell_type": "code",
   "execution_count": 172,
   "metadata": {},
   "outputs": [],
   "source": [
    "Prueba_Calidad_aire=pd.merge(Calidad_aire,Borough,left_on='Geo Place Name', right_on='Borough',how='inner')"
   ]
  },
  {
   "cell_type": "code",
   "execution_count": 173,
   "metadata": {},
   "outputs": [
    {
     "data": {
      "text/plain": [
       "['Name',\n",
       " 'Measure',\n",
       " 'Measure Info',\n",
       " 'Geo Type Name',\n",
       " 'Data Value',\n",
       " 'Stations',\n",
       " 'Final Date',\n",
       " 'id_Borough']"
      ]
     },
     "execution_count": 173,
     "metadata": {},
     "output_type": "execute_result"
    }
   ],
   "source": [
    "list(Prueba_Calidad_aire.columns.drop(['Geo Place Name','Borough']))"
   ]
  },
  {
   "cell_type": "code",
   "execution_count": 174,
   "metadata": {},
   "outputs": [],
   "source": [
    "columns=list(Prueba_Calidad_aire.columns.drop(['Geo Place Name','Borough',id]))"
   ]
  },
  {
   "cell_type": "code",
   "execution_count": 175,
   "metadata": {},
   "outputs": [],
   "source": [
    "columns.insert(4,id)"
   ]
  },
  {
   "cell_type": "code",
   "execution_count": 176,
   "metadata": {},
   "outputs": [
    {
     "data": {
      "text/plain": [
       "['Name',\n",
       " 'Measure',\n",
       " 'Measure Info',\n",
       " 'Geo Type Name',\n",
       " 'id_Borough',\n",
       " 'Data Value',\n",
       " 'Stations',\n",
       " 'Final Date']"
      ]
     },
     "execution_count": 176,
     "metadata": {},
     "output_type": "execute_result"
    }
   ],
   "source": [
    "columns"
   ]
  },
  {
   "cell_type": "code",
   "execution_count": 177,
   "metadata": {},
   "outputs": [],
   "source": [
    "Final_aire=Prueba_Calidad_aire[columns].copy()"
   ]
  },
  {
   "cell_type": "code",
   "execution_count": 178,
   "metadata": {},
   "outputs": [],
   "source": [
    "Final_aire[\"Year\"]=Final_aire[\"Final Date\"]"
   ]
  },
  {
   "cell_type": "code",
   "execution_count": 179,
   "metadata": {},
   "outputs": [],
   "source": [
    "Final_aire.drop(columns=\"Final Date\",inplace=True)"
   ]
  },
  {
   "cell_type": "code",
   "execution_count": 180,
   "metadata": {},
   "outputs": [
    {
     "data": {
      "text/html": [
       "<div>\n",
       "<style scoped>\n",
       "    .dataframe tbody tr th:only-of-type {\n",
       "        vertical-align: middle;\n",
       "    }\n",
       "\n",
       "    .dataframe tbody tr th {\n",
       "        vertical-align: top;\n",
       "    }\n",
       "\n",
       "    .dataframe thead th {\n",
       "        text-align: right;\n",
       "    }\n",
       "</style>\n",
       "<table border=\"1\" class=\"dataframe\">\n",
       "  <thead>\n",
       "    <tr style=\"text-align: right;\">\n",
       "      <th></th>\n",
       "      <th>Name</th>\n",
       "      <th>Measure</th>\n",
       "      <th>Measure Info</th>\n",
       "      <th>Geo Type Name</th>\n",
       "      <th>id_Borough</th>\n",
       "      <th>Data Value</th>\n",
       "      <th>Stations</th>\n",
       "      <th>Year</th>\n",
       "    </tr>\n",
       "  </thead>\n",
       "  <tbody>\n",
       "    <tr>\n",
       "      <th>0</th>\n",
       "      <td>Air Toxics Concentrations- Average Benzene Con...</td>\n",
       "      <td>Annual Average Concentration</td>\n",
       "      <td>µg/m3</td>\n",
       "      <td>Borough</td>\n",
       "      <td>1</td>\n",
       "      <td>1.6</td>\n",
       "      <td>Annual</td>\n",
       "      <td>2011</td>\n",
       "    </tr>\n",
       "    <tr>\n",
       "      <th>1</th>\n",
       "      <td>Air Toxics Concentrations- Average Benzene Con...</td>\n",
       "      <td>Annual Average Concentration</td>\n",
       "      <td>µg/m3</td>\n",
       "      <td>Borough</td>\n",
       "      <td>1</td>\n",
       "      <td>1.9</td>\n",
       "      <td>Annual</td>\n",
       "      <td>2005</td>\n",
       "    </tr>\n",
       "    <tr>\n",
       "      <th>2</th>\n",
       "      <td>Air Toxics Concentrations- Average Formaldehyd...</td>\n",
       "      <td>Annual Average Concentration</td>\n",
       "      <td>µg/m3</td>\n",
       "      <td>Borough</td>\n",
       "      <td>1</td>\n",
       "      <td>2.1</td>\n",
       "      <td>Annual</td>\n",
       "      <td>2011</td>\n",
       "    </tr>\n",
       "  </tbody>\n",
       "</table>\n",
       "</div>"
      ],
      "text/plain": [
       "                                                Name  \\\n",
       "0  Air Toxics Concentrations- Average Benzene Con...   \n",
       "1  Air Toxics Concentrations- Average Benzene Con...   \n",
       "2  Air Toxics Concentrations- Average Formaldehyd...   \n",
       "\n",
       "                        Measure Measure Info Geo Type Name  id_Borough  \\\n",
       "0  Annual Average Concentration        µg/m3       Borough           1   \n",
       "1  Annual Average Concentration        µg/m3       Borough           1   \n",
       "2  Annual Average Concentration        µg/m3       Borough           1   \n",
       "\n",
       "   Data Value Stations  Year  \n",
       "0         1.6   Annual  2011  \n",
       "1         1.9   Annual  2005  \n",
       "2         2.1   Annual  2011  "
      ]
     },
     "execution_count": 180,
     "metadata": {},
     "output_type": "execute_result"
    }
   ],
   "source": [
    "Final_aire.head(3)"
   ]
  },
  {
   "cell_type": "markdown",
   "metadata": {},
   "source": [
    "---"
   ]
  },
  {
   "cell_type": "markdown",
   "metadata": {},
   "source": [
    "### Final de Calidad_aire"
   ]
  },
  {
   "cell_type": "code",
   "execution_count": null,
   "metadata": {},
   "outputs": [],
   "source": [
    "# Creo el df temporal que contiene el merge.\n",
    "Prueba_Calidad_aire=pd.merge(Calidad_aire,Borough,left_on='Geo Place Name', right_on='Borough',how='inner')\n",
    "\n",
    "# Guardo las columnas eliminando las que no necesito en la nueva tabla\n",
    "columns=list(Prueba_Calidad_aire.columns.drop(['Geo Place Name','Borough',id]))\n",
    "\n",
    "# La columna con id´s si la necesito pero la elimine para insertarla en un buen lugar.\n",
    "columns.insert(4,id)\n",
    "\n",
    "# Ya genero el df final con las columnas que necesito en el orden que necesito.\n",
    "# y renombro la columna \"Final Date\" por \"Year\" para que coincida con otros csv´s.\n",
    "Final_aire=Prueba_Calidad_aire[columns].copy()\n",
    "Final_aire[\"Year\"]=Final_aire[\"Final Date\"]\n",
    "Final_aire.drop(columns=\"Final Date\",inplace=True)"
   ]
  },
  {
   "cell_type": "markdown",
   "metadata": {},
   "source": [
    "---"
   ]
  },
  {
   "cell_type": "markdown",
   "metadata": {},
   "source": [
    "## Final"
   ]
  },
  {
   "cell_type": "code",
   "execution_count": 181,
   "metadata": {},
   "outputs": [],
   "source": [
    "import pandas as pd \n",
    "import numpy as np\n",
    "\n",
    "def Id_y_CambiosTablas():\n",
    "\n",
    "    #Llamar las tablas de su origen(en clouds se encuentran en un bucket, reescribir)\n",
    "    taxi_zone=pd.read_csv(\"D:/Programacion/DataScience_Henry/Proyecto_Grupal/Datasets_procesados_cars/taxi-zone.csv\")\n",
    "    Sonido_presencia=pd.read_csv(\"D:/Programacion/DataScience_Henry/Proyecto_Grupal/Datasets_procesados_contaminacion/Sonido_presencia.csv\")\n",
    "    Calidad_aire=pd.read_csv(\"D:/Programacion/DataScience_Henry/Proyecto_Grupal/Datasets_procesados_contaminacion/Calidad del aire.csv\")  \n",
    "    \n",
    "    #Crear el dataframe que contiene los id´s\n",
    "    Borough={\"id_Borough\":list(range(0,len(taxi_zone.Borough.unique()))),\n",
    "        \"Borough\":list(taxi_zone.Borough.unique())}\n",
    "    Borough=pd.DataFrame(Borough)\n",
    "\n",
    "    # Verificar que se encuentren todos los nombres de lugares del resto de dataframes\n",
    "    for i in list(Calidad_aire[\"Geo Place Name\"].unique()):\n",
    "        if i not in list(Borough[\"Borough\"]):\n",
    "            Dicc={\"id_Borough\":Borough[\"id_Borough\"].max()+1,\n",
    "                \"Borough\":i}\n",
    "            df=pd.concat([Borough,pd.DataFrame([Dicc])],ignore_index=True)\n",
    "    for i in list(Sonido_presencia[\"borough\"].unique()):\n",
    "        if i not in list(Borough[\"Borough\"]):\n",
    "            Dicc={\"id_Borough\":Borough[\"id_Borough\"].max()+1,\n",
    "                \"Borough\":i}\n",
    "            Borough=pd.concat([Borough,pd.DataFrame([Dicc])],ignore_index=True)\n",
    "    print(\" Exportando la tabla de id2´s a BigQuery...\")\n",
    "    #Borough.to_csv(\"ruta de BigQuery\",index=False)\n",
    "    print(\" Exportación realizada.\\n Comienza la edición a las tablas:\\n - taxi-zone.csv.\\n - Sonido_presencia.csv.\\n - Calidad del aire.csv.\\n Ya procesadas anteriormente.\")\n",
    "\n",
    "    print(\" Comenzando el cambio en la tabla Sonido_presencia.csv\")\n",
    "    \n",
    "    ## Sonido_presencia:\n",
    "    \n",
    "    # Enlisto las columnas del csv para luego reemplazar la que se llamara borough.\n",
    "    columnas=list(Sonido_presencia.columns)\n",
    "    columnas_reemplazada=[columna.replace(\"borough\",\"Borough\") for columna in columnas]\n",
    "    cambio=pd.DataFrame()\n",
    "\n",
    "    # Hago el df temporal que va a tener las columnas con el renombre.\n",
    "    cambio[columnas_reemplazada]=Sonido_presencia[columnas].copy()\n",
    "    Prueba_sonido_presencia=pd.merge(cambio,Borough,on=\"Borough\",how='inner')\n",
    "\n",
    "    # Elimino variables ya no usadas (ahorro de memoria/espacio)\n",
    "    del(cambio)\n",
    "    del(columnas_reemplazada)\n",
    "\n",
    "    # Me aseguro de no escribir el nombre directamente si a futuro nos gustaria cambiarlo.\n",
    "    # Si hay que asegurarse que el id quede en la primera columna del df.\n",
    "    id=list(Borough.columns)[0]\n",
    "\n",
    "    # Me guardo las columnas menos \"Borough\" ya que quiero generar un df solo con los id.\n",
    "    columnas=list(Prueba_sonido_presencia.columns.drop(\"Borough\"))\n",
    "\n",
    "    # Reordeno las columnas, ya sé que la columna de id´s queda a lo último y por eso directamente hago pop()\n",
    "    columnas.pop()\n",
    "    # Inserto el nombre de la columna de los id(esto para que quede como 4ta columna siempre)\n",
    "    columnas.insert(3,id)\n",
    "    Sonido_presencia2=Prueba_sonido_presencia[columnas].copy()\n",
    "\n",
    "    # Ya no se usan, se elimina(ahorro).\n",
    "    del(Prueba_sonido_presencia)\n",
    "    del(Sonido_presencia)\n",
    "    del(columnas)\n",
    "    print(\"Exportando la tabla ya editada \")\n",
    "    #Sonido_presencia2.to_csv(\"ruta de BigQuery\",index=False)\n",
    "    print(\"Exportanción de Sonido_presencia.csv terminada.\")\n",
    "\n",
    "    print(\"Comienzan cambios en taxi-zone.csv\")\n",
    "    \n",
    "    ## taxi-zone.csv:\n",
    "    # Se crea el df que va a contener los datos temporalmente\n",
    "    Prueba_taxi_zone=pd.merge(taxi_zone,Borough,on=\"Borough\",how='inner')\n",
    "\n",
    "    # Se quita la columna con los nombres.\n",
    "    Prueba_taxi_zone.drop(columns=\"Borough\",inplace=True)\n",
    "\n",
    "    # Se enlista las columnas del df para hacer el cambio de orden.\n",
    "    columns=list(Prueba_taxi_zone.columns)\n",
    "    # Se quita el nombre de la ultima columna (la que contiene los id´s)\n",
    "    columns.pop()\n",
    "    # Ahora se inserta este mismo para ser la columna 2.\n",
    "    columns.insert(1,id)\n",
    "    # Y ahora renombramos a \"taxi_zone\" como el resultado de reordenar las columnas.\n",
    "    taxi_zone=Prueba_taxi_zone[columns].copy()\n",
    "    #taxi-zone terminado.\n",
    "    del(columns)\n",
    "    del(Prueba_taxi_zone)\n",
    "    #taxi_zone.to_csv(\"ruta de BigQuery, renombrar a taxi_zone.csv\",index=False)\n",
    "\n",
    "    # Creo el df temporal que contiene el merge.\n",
    "    Prueba_Calidad_aire=pd.merge(Calidad_aire,Borough,left_on='Geo Place Name', right_on='Borough',how='inner')\n",
    "\n",
    "    # Guardo las columnas eliminando las que no necesito en la nueva tabla\n",
    "    columns=list(Prueba_Calidad_aire.columns.drop(['Geo Place Name','Borough',id]))\n",
    "\n",
    "    # La columna con id´s si la necesito pero la elimine para insertarla en un buen lugar.\n",
    "    columns.insert(4,id)\n",
    "\n",
    "    # Ya genero el df final con las columnas que necesito en el orden que necesito.\n",
    "    # y renombro la columna \"Final Date\" por \"Year\" para que coincida con otros csv´s.\n",
    "    Final_aire=Prueba_Calidad_aire[columns].copy()\n",
    "    del(columns)\n",
    "    del(Prueba_Calidad_aire)\n",
    "    Final_aire[\"Year\"]=Final_aire[\"Final Date\"]\n",
    "    Final_aire.drop(columns=\"Final Date\",inplace=True)\n",
    "    #Final_aire.to_csv(\"ruta de BigQuery, renombrar a Calidad_aire.csv\",index=False)\n",
    "    \n"
   ]
  }
 ],
 "metadata": {
  "kernelspec": {
   "display_name": "Python 3",
   "language": "python",
   "name": "python3"
  },
  "language_info": {
   "codemirror_mode": {
    "name": "ipython",
    "version": 3
   },
   "file_extension": ".py",
   "mimetype": "text/x-python",
   "name": "python",
   "nbconvert_exporter": "python",
   "pygments_lexer": "ipython3",
   "version": "3.10.10"
  },
  "orig_nbformat": 4
 },
 "nbformat": 4,
 "nbformat_minor": 2
}
