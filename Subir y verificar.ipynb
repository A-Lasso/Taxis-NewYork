{
 "cells": [
  {
   "cell_type": "code",
   "execution_count": 783,
   "metadata": {},
   "outputs": [],
   "source": [
    "#Importo las librerías a usar\n",
    "import pandas as pd\n",
    "import numpy as np"
   ]
  },
  {
   "cell_type": "markdown",
   "metadata": {},
   "source": [
    "# ETL datasets asociados a cambios climaticos"
   ]
  },
  {
   "cell_type": "markdown",
   "metadata": {},
   "source": [
    "-- Nota recomiendo para el pipelines solo automatizar para ese primer csvla eliminación de Message y Start_Date dado que se repite la información el resto de los datos a mi parecer están bien correlacionados"
   ]
  },
  {
   "cell_type": "code",
   "execution_count": 784,
   "metadata": {},
   "outputs": [
    {
     "name": "stderr",
     "output_type": "stream",
     "text": [
      "C:\\Users\\Patricia\\AppData\\Local\\Temp\\ipykernel_20336\\2561296701.py:4: DtypeWarning: Columns (1,2,3,4,5,6,7,8,9,10,11) have mixed types. Specify dtype option on import or set low_memory=False.\n",
      "  df_temperatura = pd.read_csv(r'C:\\Users\\Patricia\\Desktop\\Proyecto grupal\\Taxis-NewYork\\Datasets\\archive (3).csv', sep=';', encoding='latin-1')\n"
     ]
    }
   ],
   "source": [
    "#Traigo los archivos a evaluar\n",
    "df_calidadDelAire = pd.read_csv(\"Taxis-NewYork\\Datasets\\Air_Quality.csv\")\n",
    "df_energia = pd.read_csv(\"Taxis-NewYork\\Datasets\\energy.csv\")\n",
    "df_temperatura = pd.read_csv(r'C:\\Users\\Patricia\\Desktop\\Proyecto grupal\\Taxis-NewYork\\Datasets\\archive (3).csv', sep=';', encoding='latin-1')\n",
    "df_cambio_climatico = pd.read_csv('Taxis-NewYork\\Datasets\\climate.csv')\n",
    "\n",
    "\n"
   ]
  },
  {
   "cell_type": "code",
   "execution_count": 785,
   "metadata": {},
   "outputs": [
    {
     "name": "stdout",
     "output_type": "stream",
     "text": [
      "<class 'pandas.core.frame.DataFrame'>\n",
      "RangeIndex: 16122 entries, 0 to 16121\n",
      "Data columns (total 12 columns):\n",
      " #   Column          Non-Null Count  Dtype  \n",
      "---  ------          --------------  -----  \n",
      " 0   Unique ID       16122 non-null  int64  \n",
      " 1   Indicator ID    16122 non-null  int64  \n",
      " 2   Name            16122 non-null  object \n",
      " 3   Measure         16122 non-null  object \n",
      " 4   Measure Info    16122 non-null  object \n",
      " 5   Geo Type Name   16122 non-null  object \n",
      " 6   Geo Join ID     16122 non-null  int64  \n",
      " 7   Geo Place Name  16122 non-null  object \n",
      " 8   Time Period     16122 non-null  object \n",
      " 9   Start_Date      16122 non-null  object \n",
      " 10  Data Value      16122 non-null  float64\n",
      " 11  Message         0 non-null      float64\n",
      "dtypes: float64(2), int64(3), object(7)\n",
      "memory usage: 1.5+ MB\n"
     ]
    }
   ],
   "source": [
    "df_calidadDelAire.info() #Evaluo la informacion existente"
   ]
  },
  {
   "cell_type": "code",
   "execution_count": 786,
   "metadata": {},
   "outputs": [
    {
     "data": {
      "text/plain": [
       "Unique ID             0\n",
       "Indicator ID          0\n",
       "Name                  0\n",
       "Measure               0\n",
       "Measure Info          0\n",
       "Geo Type Name         0\n",
       "Geo Join ID           0\n",
       "Geo Place Name        0\n",
       "Time Period           0\n",
       "Start_Date            0\n",
       "Data Value            0\n",
       "Message           16122\n",
       "dtype: int64"
      ]
     },
     "execution_count": 786,
     "metadata": {},
     "output_type": "execute_result"
    }
   ],
   "source": [
    "#El total de entradas de la ultima columna están vacíos, el resto cuenta con los datos\n",
    "df_calidadDelAire.isnull().sum()\n",
    "#df_calidadDelAire.shape = (16122, 12) tenemos 16.122 filas y 12 columnas"
   ]
  },
  {
   "cell_type": "code",
   "execution_count": 787,
   "metadata": {},
   "outputs": [],
   "source": [
    "#Nota: Chicos como les comenté anteriormente el problema de las fechas entonces solventé asi:\n",
    "\n",
    "# 1.- Genero una funcion que detecte expresiones regulares para extraer solo la fecha y anexarla a otra columna llamada Final_Date\n",
    "# 2.- Genero la columna de estaciones, sin embargo me encuentro con el problema de la fecha de inicio\n",
    "# 3.- Por eso notarán que genero mas funciones para lograr extraer directamente el año\n",
    "\n",
    "import re #Traigo la librería para buscar expresiones regulares\n",
    "\n",
    "# Función para convertir el formato incorrecto del año a formato correcto (ejemplo: -09 a 2009)\n",
    "def convert_year_format(year_str):\n",
    "    match = re.search(r'\\d{4}-(\\d{2})', year_str) #Es una función de \"re\" que busca epresiones regulares\n",
    "    if match:\n",
    "        year = match.group(1)\n",
    "        corrected_year = '20' + year\n",
    "        return re.sub(r'-(\\d{2})', '-' + corrected_year, year_str)\n",
    "    else:\n",
    "        return year_str\n",
    "\n",
    "# Aplicamos la función a la columna 'Time Period' y almacenamos los resultados en la nueva columna 'Final_Date'\n",
    "df_calidadDelAire['Final_Date'] = df_calidadDelAire['Time Period'].apply(convert_year_format)\n",
    "\n",
    "# Función para extraer la estación del año y dejarla en una nueva columna 'Stations'\n",
    "def extract_season(year_str):\n",
    "    match = re.search(r'(Summer|Winter)', year_str)\n",
    "    if match:\n",
    "        return match.group(0)\n",
    "    else:\n",
    "        return 'Annual'  # Si no se encuentra la estación, asumimos que es un dato anual\n",
    "\n",
    "# Aplicamos la función a la columna 'Time Period' y almacenamos los resultados en la nueva columna 'Stations'\n",
    "df_calidadDelAire['Stations'] = df_calidadDelAire['Time Period'].apply(extract_season)\n",
    "\n"
   ]
  },
  {
   "cell_type": "code",
   "execution_count": 788,
   "metadata": {},
   "outputs": [],
   "source": [
    "# Utilizar str.extract con expresión regular para obtener el último año en el formato año\n",
    "df_calidadDelAire['Final_Date'] = df_calidadDelAire['Final_Date'].str.extract(r'(\\d{4})')\n"
   ]
  },
  {
   "cell_type": "code",
   "execution_count": 789,
   "metadata": {},
   "outputs": [],
   "source": [
    "#Extraigo el año de inicio anual\n",
    "df_calidadDelAire['Start_Date'] = df_calidadDelAire['Start_Date'].str.extract(r'(\\d{4})')\n",
    "\n"
   ]
  },
  {
   "cell_type": "code",
   "execution_count": 790,
   "metadata": {},
   "outputs": [
    {
     "data": {
      "text/html": [
       "<div>\n",
       "<style scoped>\n",
       "    .dataframe tbody tr th:only-of-type {\n",
       "        vertical-align: middle;\n",
       "    }\n",
       "\n",
       "    .dataframe tbody tr th {\n",
       "        vertical-align: top;\n",
       "    }\n",
       "\n",
       "    .dataframe thead th {\n",
       "        text-align: right;\n",
       "    }\n",
       "</style>\n",
       "<table border=\"1\" class=\"dataframe\">\n",
       "  <thead>\n",
       "    <tr style=\"text-align: right;\">\n",
       "      <th></th>\n",
       "      <th>Unique ID</th>\n",
       "      <th>Indicator ID</th>\n",
       "      <th>Name</th>\n",
       "      <th>Measure</th>\n",
       "      <th>Measure Info</th>\n",
       "      <th>Geo Type Name</th>\n",
       "      <th>Geo Join ID</th>\n",
       "      <th>Geo Place Name</th>\n",
       "      <th>Time Period</th>\n",
       "      <th>Start_Date</th>\n",
       "      <th>Data Value</th>\n",
       "      <th>Message</th>\n",
       "      <th>Final_Date</th>\n",
       "      <th>Stations</th>\n",
       "    </tr>\n",
       "  </thead>\n",
       "  <tbody>\n",
       "    <tr>\n",
       "      <th>0</th>\n",
       "      <td>216498</td>\n",
       "      <td>386</td>\n",
       "      <td>Ozone (O3)</td>\n",
       "      <td>Mean</td>\n",
       "      <td>ppb</td>\n",
       "      <td>CD</td>\n",
       "      <td>313</td>\n",
       "      <td>Coney Island (CD13)</td>\n",
       "      <td>Summer 2013</td>\n",
       "      <td>2013</td>\n",
       "      <td>34.64</td>\n",
       "      <td>NaN</td>\n",
       "      <td>2013</td>\n",
       "      <td>Summer</td>\n",
       "    </tr>\n",
       "    <tr>\n",
       "      <th>1</th>\n",
       "      <td>216499</td>\n",
       "      <td>386</td>\n",
       "      <td>Ozone (O3)</td>\n",
       "      <td>Mean</td>\n",
       "      <td>ppb</td>\n",
       "      <td>CD</td>\n",
       "      <td>313</td>\n",
       "      <td>Coney Island (CD13)</td>\n",
       "      <td>Summer 2014</td>\n",
       "      <td>2014</td>\n",
       "      <td>33.22</td>\n",
       "      <td>NaN</td>\n",
       "      <td>2014</td>\n",
       "      <td>Summer</td>\n",
       "    </tr>\n",
       "    <tr>\n",
       "      <th>2</th>\n",
       "      <td>219969</td>\n",
       "      <td>386</td>\n",
       "      <td>Ozone (O3)</td>\n",
       "      <td>Mean</td>\n",
       "      <td>ppb</td>\n",
       "      <td>Borough</td>\n",
       "      <td>1</td>\n",
       "      <td>Bronx</td>\n",
       "      <td>Summer 2013</td>\n",
       "      <td>2013</td>\n",
       "      <td>31.25</td>\n",
       "      <td>NaN</td>\n",
       "      <td>2013</td>\n",
       "      <td>Summer</td>\n",
       "    </tr>\n",
       "  </tbody>\n",
       "</table>\n",
       "</div>"
      ],
      "text/plain": [
       "   Unique ID  Indicator ID        Name Measure Measure Info Geo Type Name   \n",
       "0     216498           386  Ozone (O3)    Mean          ppb            CD  \\\n",
       "1     216499           386  Ozone (O3)    Mean          ppb            CD   \n",
       "2     219969           386  Ozone (O3)    Mean          ppb       Borough   \n",
       "\n",
       "   Geo Join ID       Geo Place Name  Time Period Start_Date  Data Value   \n",
       "0          313  Coney Island (CD13)  Summer 2013       2013       34.64  \\\n",
       "1          313  Coney Island (CD13)  Summer 2014       2014       33.22   \n",
       "2            1                Bronx  Summer 2013       2013       31.25   \n",
       "\n",
       "   Message Final_Date Stations  \n",
       "0      NaN       2013   Summer  \n",
       "1      NaN       2014   Summer  \n",
       "2      NaN       2013   Summer  "
      ]
     },
     "execution_count": 790,
     "metadata": {},
     "output_type": "execute_result"
    }
   ],
   "source": [
    "df_calidadDelAire.head(3)"
   ]
  },
  {
   "cell_type": "code",
   "execution_count": 791,
   "metadata": {},
   "outputs": [],
   "source": [
    "#Elimino la columna que no tiene ningun dato representativo\n",
    "df_calidadDelAire.drop(columns=['Message', 'Time Period'], inplace=True)"
   ]
  },
  {
   "cell_type": "code",
   "execution_count": 792,
   "metadata": {},
   "outputs": [
    {
     "data": {
      "text/html": [
       "<div>\n",
       "<style scoped>\n",
       "    .dataframe tbody tr th:only-of-type {\n",
       "        vertical-align: middle;\n",
       "    }\n",
       "\n",
       "    .dataframe tbody tr th {\n",
       "        vertical-align: top;\n",
       "    }\n",
       "\n",
       "    .dataframe thead th {\n",
       "        text-align: right;\n",
       "    }\n",
       "</style>\n",
       "<table border=\"1\" class=\"dataframe\">\n",
       "  <thead>\n",
       "    <tr style=\"text-align: right;\">\n",
       "      <th></th>\n",
       "      <th>Unique ID</th>\n",
       "      <th>Indicator ID</th>\n",
       "      <th>Name</th>\n",
       "      <th>Measure</th>\n",
       "      <th>Measure Info</th>\n",
       "      <th>Geo Type Name</th>\n",
       "      <th>Geo Join ID</th>\n",
       "      <th>Geo Place Name</th>\n",
       "      <th>Start_Date</th>\n",
       "      <th>Data Value</th>\n",
       "      <th>Final_Date</th>\n",
       "      <th>Stations</th>\n",
       "    </tr>\n",
       "  </thead>\n",
       "  <tbody>\n",
       "    <tr>\n",
       "      <th>0</th>\n",
       "      <td>216498</td>\n",
       "      <td>386</td>\n",
       "      <td>Ozone (O3)</td>\n",
       "      <td>Mean</td>\n",
       "      <td>ppb</td>\n",
       "      <td>CD</td>\n",
       "      <td>313</td>\n",
       "      <td>Coney Island (CD13)</td>\n",
       "      <td>2013</td>\n",
       "      <td>34.64</td>\n",
       "      <td>2013</td>\n",
       "      <td>Summer</td>\n",
       "    </tr>\n",
       "    <tr>\n",
       "      <th>1</th>\n",
       "      <td>216499</td>\n",
       "      <td>386</td>\n",
       "      <td>Ozone (O3)</td>\n",
       "      <td>Mean</td>\n",
       "      <td>ppb</td>\n",
       "      <td>CD</td>\n",
       "      <td>313</td>\n",
       "      <td>Coney Island (CD13)</td>\n",
       "      <td>2014</td>\n",
       "      <td>33.22</td>\n",
       "      <td>2014</td>\n",
       "      <td>Summer</td>\n",
       "    </tr>\n",
       "    <tr>\n",
       "      <th>2</th>\n",
       "      <td>219969</td>\n",
       "      <td>386</td>\n",
       "      <td>Ozone (O3)</td>\n",
       "      <td>Mean</td>\n",
       "      <td>ppb</td>\n",
       "      <td>Borough</td>\n",
       "      <td>1</td>\n",
       "      <td>Bronx</td>\n",
       "      <td>2013</td>\n",
       "      <td>31.25</td>\n",
       "      <td>2013</td>\n",
       "      <td>Summer</td>\n",
       "    </tr>\n",
       "    <tr>\n",
       "      <th>3</th>\n",
       "      <td>219970</td>\n",
       "      <td>386</td>\n",
       "      <td>Ozone (O3)</td>\n",
       "      <td>Mean</td>\n",
       "      <td>ppb</td>\n",
       "      <td>Borough</td>\n",
       "      <td>1</td>\n",
       "      <td>Bronx</td>\n",
       "      <td>2014</td>\n",
       "      <td>31.15</td>\n",
       "      <td>2014</td>\n",
       "      <td>Summer</td>\n",
       "    </tr>\n",
       "    <tr>\n",
       "      <th>4</th>\n",
       "      <td>164876</td>\n",
       "      <td>383</td>\n",
       "      <td>Sulfur Dioxide (SO2)</td>\n",
       "      <td>Mean</td>\n",
       "      <td>ppb</td>\n",
       "      <td>CD</td>\n",
       "      <td>211</td>\n",
       "      <td>Morris Park and Bronxdale (CD11)</td>\n",
       "      <td>2008</td>\n",
       "      <td>5.89</td>\n",
       "      <td>2008</td>\n",
       "      <td>Winter</td>\n",
       "    </tr>\n",
       "  </tbody>\n",
       "</table>\n",
       "</div>"
      ],
      "text/plain": [
       "   Unique ID  Indicator ID                  Name Measure Measure Info   \n",
       "0     216498           386            Ozone (O3)    Mean          ppb  \\\n",
       "1     216499           386            Ozone (O3)    Mean          ppb   \n",
       "2     219969           386            Ozone (O3)    Mean          ppb   \n",
       "3     219970           386            Ozone (O3)    Mean          ppb   \n",
       "4     164876           383  Sulfur Dioxide (SO2)    Mean          ppb   \n",
       "\n",
       "  Geo Type Name  Geo Join ID                    Geo Place Name Start_Date   \n",
       "0            CD          313               Coney Island (CD13)       2013  \\\n",
       "1            CD          313               Coney Island (CD13)       2014   \n",
       "2       Borough            1                             Bronx       2013   \n",
       "3       Borough            1                             Bronx       2014   \n",
       "4            CD          211  Morris Park and Bronxdale (CD11)       2008   \n",
       "\n",
       "   Data Value Final_Date Stations  \n",
       "0       34.64       2013   Summer  \n",
       "1       33.22       2014   Summer  \n",
       "2       31.25       2013   Summer  \n",
       "3       31.15       2014   Summer  \n",
       "4        5.89       2008   Winter  "
      ]
     },
     "execution_count": 792,
     "metadata": {},
     "output_type": "execute_result"
    }
   ],
   "source": [
    "#Verifico que los datos estén quedando bien\n",
    "df_calidadDelAire.head(5)"
   ]
  },
  {
   "cell_type": "code",
   "execution_count": 793,
   "metadata": {},
   "outputs": [],
   "source": [
    "# Exportar el DataFrame a un archivo Excel para verificar los datos\n",
    "#df_calidadDelAire.to_excel('borrar.xlsx', index=False)\n"
   ]
  },
  {
   "cell_type": "code",
   "execution_count": null,
   "metadata": {},
   "outputs": [],
   "source": [
    "df_calidadDelAire.to_csv('Calidad del aire.csv', index=False) # Genero los datos a un csv"
   ]
  },
  {
   "cell_type": "code",
   "execution_count": 794,
   "metadata": {},
   "outputs": [],
   "source": [
    "# Inicio con el segundo dataset sin embargo noto que contiene datos de muchos países y años por lo cual utilizo un filtro\n",
    "\n",
    "df_filtrado = df_energia.loc[(df_energia['Country'] == 'United States') & (df_energia['Year'] >= 1980)]"
   ]
  },
  {
   "cell_type": "code",
   "execution_count": 795,
   "metadata": {},
   "outputs": [
    {
     "data": {
      "text/plain": [
       "Unnamed: 0                     0\n",
       "Country                        0\n",
       "Energy_type                    0\n",
       "Year                           0\n",
       "Energy_consumption             0\n",
       "Energy_production              0\n",
       "GDP                            0\n",
       "Population                     0\n",
       "Energy_intensity_per_capita    0\n",
       "Energy_intensity_by_GDP        0\n",
       "CO2_emission                   0\n",
       "dtype: int64"
      ]
     },
     "execution_count": 795,
     "metadata": {},
     "output_type": "execute_result"
    }
   ],
   "source": [
    "df_filtrado.isnull().sum() #Notese que pese a que no salen valores nulos en la columna CO2_emission hay valores 0\n",
    "#Son 41 datos con numero 0, no están asociado a uso de energías que generen emision de CO2\n",
    "# df_filtrado.shape --> (240, 11)"
   ]
  },
  {
   "cell_type": "code",
   "execution_count": 796,
   "metadata": {},
   "outputs": [
    {
     "name": "stdout",
     "output_type": "stream",
     "text": [
      "<class 'pandas.core.frame.DataFrame'>\n",
      "Index: 240 entries, 1320 to 55379\n",
      "Data columns (total 11 columns):\n",
      " #   Column                       Non-Null Count  Dtype  \n",
      "---  ------                       --------------  -----  \n",
      " 0   Unnamed: 0                   240 non-null    int64  \n",
      " 1   Country                      240 non-null    object \n",
      " 2   Energy_type                  240 non-null    object \n",
      " 3   Year                         240 non-null    int64  \n",
      " 4   Energy_consumption           240 non-null    float64\n",
      " 5   Energy_production            240 non-null    float64\n",
      " 6   GDP                          240 non-null    float64\n",
      " 7   Population                   240 non-null    float64\n",
      " 8   Energy_intensity_per_capita  240 non-null    float64\n",
      " 9   Energy_intensity_by_GDP      240 non-null    float64\n",
      " 10  CO2_emission                 240 non-null    float64\n",
      "dtypes: float64(7), int64(2), object(2)\n",
      "memory usage: 22.5+ KB\n"
     ]
    }
   ],
   "source": [
    "df_filtrado.info()"
   ]
  },
  {
   "cell_type": "code",
   "execution_count": 797,
   "metadata": {},
   "outputs": [
    {
     "data": {
      "text/html": [
       "<div>\n",
       "<style scoped>\n",
       "    .dataframe tbody tr th:only-of-type {\n",
       "        vertical-align: middle;\n",
       "    }\n",
       "\n",
       "    .dataframe tbody tr th {\n",
       "        vertical-align: top;\n",
       "    }\n",
       "\n",
       "    .dataframe thead th {\n",
       "        text-align: right;\n",
       "    }\n",
       "</style>\n",
       "<table border=\"1\" class=\"dataframe\">\n",
       "  <thead>\n",
       "    <tr style=\"text-align: right;\">\n",
       "      <th></th>\n",
       "      <th>Unnamed: 0</th>\n",
       "      <th>Country</th>\n",
       "      <th>Energy_type</th>\n",
       "      <th>Year</th>\n",
       "      <th>Energy_consumption</th>\n",
       "      <th>Energy_production</th>\n",
       "      <th>GDP</th>\n",
       "      <th>Population</th>\n",
       "      <th>Energy_intensity_per_capita</th>\n",
       "      <th>Energy_intensity_by_GDP</th>\n",
       "      <th>CO2_emission</th>\n",
       "    </tr>\n",
       "  </thead>\n",
       "  <tbody>\n",
       "    <tr>\n",
       "      <th>1320</th>\n",
       "      <td>1320</td>\n",
       "      <td>United States</td>\n",
       "      <td>all_energy_types</td>\n",
       "      <td>1980</td>\n",
       "      <td>78.021113</td>\n",
       "      <td>67.146595</td>\n",
       "      <td>7080.75</td>\n",
       "      <td>227119.0</td>\n",
       "      <td>343.525258</td>\n",
       "      <td>11.018764</td>\n",
       "      <td>4946.627130</td>\n",
       "    </tr>\n",
       "    <tr>\n",
       "      <th>1321</th>\n",
       "      <td>1321</td>\n",
       "      <td>United States</td>\n",
       "      <td>coal</td>\n",
       "      <td>1980</td>\n",
       "      <td>15.422809</td>\n",
       "      <td>18.597725</td>\n",
       "      <td>7080.75</td>\n",
       "      <td>227119.0</td>\n",
       "      <td>343.525258</td>\n",
       "      <td>11.018764</td>\n",
       "      <td>1409.790188</td>\n",
       "    </tr>\n",
       "    <tr>\n",
       "      <th>1322</th>\n",
       "      <td>1322</td>\n",
       "      <td>United States</td>\n",
       "      <td>natural_gas</td>\n",
       "      <td>1980</td>\n",
       "      <td>20.235459</td>\n",
       "      <td>19.907600</td>\n",
       "      <td>7080.75</td>\n",
       "      <td>227119.0</td>\n",
       "      <td>343.525258</td>\n",
       "      <td>11.018764</td>\n",
       "      <td>1081.593377</td>\n",
       "    </tr>\n",
       "  </tbody>\n",
       "</table>\n",
       "</div>"
      ],
      "text/plain": [
       "      Unnamed: 0        Country       Energy_type  Year  Energy_consumption   \n",
       "1320        1320  United States  all_energy_types  1980           78.021113  \\\n",
       "1321        1321  United States              coal  1980           15.422809   \n",
       "1322        1322  United States       natural_gas  1980           20.235459   \n",
       "\n",
       "      Energy_production      GDP  Population  Energy_intensity_per_capita   \n",
       "1320          67.146595  7080.75    227119.0                   343.525258  \\\n",
       "1321          18.597725  7080.75    227119.0                   343.525258   \n",
       "1322          19.907600  7080.75    227119.0                   343.525258   \n",
       "\n",
       "      Energy_intensity_by_GDP  CO2_emission  \n",
       "1320                11.018764   4946.627130  \n",
       "1321                11.018764   1409.790188  \n",
       "1322                11.018764   1081.593377  "
      ]
     },
     "execution_count": 797,
     "metadata": {},
     "output_type": "execute_result"
    }
   ],
   "source": [
    "df_filtrado.head(3)"
   ]
  },
  {
   "cell_type": "code",
   "execution_count": 798,
   "metadata": {},
   "outputs": [],
   "source": [
    "#El Energy_intensity_by_GDP es una medida  que sirve para correlacionar el crecimiento del PIB con el gasto de energía de un país a menor consumo \n",
    "#de GDP mejor porque significa mejor uso de recursos energeticos\n",
    "\n",
    "\n",
    "# df_filtrado['Energy_intensity_by_GDP'].min() #Se corresponde con el año 2019"
   ]
  },
  {
   "cell_type": "code",
   "execution_count": null,
   "metadata": {},
   "outputs": [],
   "source": [
    "df_filtrado.to_csv('Energía.csv', index=False) # Genero los datos a un csv"
   ]
  },
  {
   "cell_type": "code",
   "execution_count": 799,
   "metadata": {},
   "outputs": [],
   "source": [
    "#Genero las nuevas columnas del datasets\n",
    "\n",
    "nombre_columnas = ['time', 'temperature_2m (°C)', 'relativehumidity_2m (%)', 'apparent_temperature (°C)',\n",
    "                                 'rain (mm)', 'is_day ()', 'latitude', 'longitude', 'elevation', 'utc_offset_seconds',\n",
    "                                 'timezone', 'timezone_abbreviation']"
   ]
  },
  {
   "cell_type": "code",
   "execution_count": 800,
   "metadata": {},
   "outputs": [],
   "source": [
    "# Asignar los nuevos nombres de columnas al DataFrame original\n",
    "df_temperatura.columns = nombre_columnas"
   ]
  },
  {
   "cell_type": "code",
   "execution_count": 801,
   "metadata": {},
   "outputs": [],
   "source": [
    "df_temperatura.drop(columns=['latitude', 'longitude', 'elevation', 'utc_offset_seconds', 'timezone', 'timezone_abbreviation'], inplace=True)\n",
    "\n"
   ]
  },
  {
   "cell_type": "code",
   "execution_count": 802,
   "metadata": {},
   "outputs": [],
   "source": [
    "df_temperatura.drop(0, inplace= True)"
   ]
  },
  {
   "cell_type": "code",
   "execution_count": 803,
   "metadata": {},
   "outputs": [
    {
     "data": {
      "text/html": [
       "<div>\n",
       "<style scoped>\n",
       "    .dataframe tbody tr th:only-of-type {\n",
       "        vertical-align: middle;\n",
       "    }\n",
       "\n",
       "    .dataframe tbody tr th {\n",
       "        vertical-align: top;\n",
       "    }\n",
       "\n",
       "    .dataframe thead th {\n",
       "        text-align: right;\n",
       "    }\n",
       "</style>\n",
       "<table border=\"1\" class=\"dataframe\">\n",
       "  <thead>\n",
       "    <tr style=\"text-align: right;\">\n",
       "      <th></th>\n",
       "      <th>index</th>\n",
       "      <th>time</th>\n",
       "      <th>temperature_2m (°C)</th>\n",
       "      <th>relativehumidity_2m (%)</th>\n",
       "      <th>apparent_temperature (°C)</th>\n",
       "      <th>rain (mm)</th>\n",
       "      <th>is_day ()</th>\n",
       "    </tr>\n",
       "  </thead>\n",
       "  <tbody>\n",
       "    <tr>\n",
       "      <th>0</th>\n",
       "      <td>1</td>\n",
       "      <td>2010-01-01T00:00</td>\n",
       "      <td>-2.6</td>\n",
       "      <td>88</td>\n",
       "      <td>-7.7</td>\n",
       "      <td>0.00</td>\n",
       "      <td>0</td>\n",
       "    </tr>\n",
       "    <tr>\n",
       "      <th>1</th>\n",
       "      <td>2</td>\n",
       "      <td>2010-01-01T01:00</td>\n",
       "      <td>-2.7</td>\n",
       "      <td>88</td>\n",
       "      <td>-7.7</td>\n",
       "      <td>0.00</td>\n",
       "      <td>0</td>\n",
       "    </tr>\n",
       "    <tr>\n",
       "      <th>2</th>\n",
       "      <td>3</td>\n",
       "      <td>2010-01-01T02:00</td>\n",
       "      <td>-2.7</td>\n",
       "      <td>88</td>\n",
       "      <td>-7.7</td>\n",
       "      <td>0.00</td>\n",
       "      <td>0</td>\n",
       "    </tr>\n",
       "    <tr>\n",
       "      <th>3</th>\n",
       "      <td>4</td>\n",
       "      <td>2010-01-01T03:00</td>\n",
       "      <td>-2.7</td>\n",
       "      <td>88</td>\n",
       "      <td>-7.6</td>\n",
       "      <td>0.00</td>\n",
       "      <td>0</td>\n",
       "    </tr>\n",
       "    <tr>\n",
       "      <th>4</th>\n",
       "      <td>5</td>\n",
       "      <td>2010-01-01T04:00</td>\n",
       "      <td>-2.7</td>\n",
       "      <td>88</td>\n",
       "      <td>-7.5</td>\n",
       "      <td>0.00</td>\n",
       "      <td>0</td>\n",
       "    </tr>\n",
       "    <tr>\n",
       "      <th>...</th>\n",
       "      <td>...</td>\n",
       "      <td>...</td>\n",
       "      <td>...</td>\n",
       "      <td>...</td>\n",
       "      <td>...</td>\n",
       "      <td>...</td>\n",
       "      <td>...</td>\n",
       "    </tr>\n",
       "    <tr>\n",
       "      <th>118939</th>\n",
       "      <td>118940</td>\n",
       "      <td>2023-07-27T19:00</td>\n",
       "      <td>NaN</td>\n",
       "      <td>NaN</td>\n",
       "      <td>NaN</td>\n",
       "      <td>NaN</td>\n",
       "      <td>1</td>\n",
       "    </tr>\n",
       "    <tr>\n",
       "      <th>118940</th>\n",
       "      <td>118941</td>\n",
       "      <td>2023-07-27T20:00</td>\n",
       "      <td>NaN</td>\n",
       "      <td>NaN</td>\n",
       "      <td>NaN</td>\n",
       "      <td>NaN</td>\n",
       "      <td>0</td>\n",
       "    </tr>\n",
       "    <tr>\n",
       "      <th>118941</th>\n",
       "      <td>118942</td>\n",
       "      <td>2023-07-27T21:00</td>\n",
       "      <td>NaN</td>\n",
       "      <td>NaN</td>\n",
       "      <td>NaN</td>\n",
       "      <td>NaN</td>\n",
       "      <td>0</td>\n",
       "    </tr>\n",
       "    <tr>\n",
       "      <th>118942</th>\n",
       "      <td>118943</td>\n",
       "      <td>2023-07-27T22:00</td>\n",
       "      <td>NaN</td>\n",
       "      <td>NaN</td>\n",
       "      <td>NaN</td>\n",
       "      <td>NaN</td>\n",
       "      <td>0</td>\n",
       "    </tr>\n",
       "    <tr>\n",
       "      <th>118943</th>\n",
       "      <td>118944</td>\n",
       "      <td>2023-07-27T23:00</td>\n",
       "      <td>NaN</td>\n",
       "      <td>NaN</td>\n",
       "      <td>NaN</td>\n",
       "      <td>NaN</td>\n",
       "      <td>0</td>\n",
       "    </tr>\n",
       "  </tbody>\n",
       "</table>\n",
       "<p>118944 rows × 7 columns</p>\n",
       "</div>"
      ],
      "text/plain": [
       "         index              time temperature_2m (°C) relativehumidity_2m (%)   \n",
       "0            1  2010-01-01T00:00                -2.6                      88  \\\n",
       "1            2  2010-01-01T01:00                -2.7                      88   \n",
       "2            3  2010-01-01T02:00                -2.7                      88   \n",
       "3            4  2010-01-01T03:00                -2.7                      88   \n",
       "4            5  2010-01-01T04:00                -2.7                      88   \n",
       "...        ...               ...                 ...                     ...   \n",
       "118939  118940  2023-07-27T19:00                 NaN                     NaN   \n",
       "118940  118941  2023-07-27T20:00                 NaN                     NaN   \n",
       "118941  118942  2023-07-27T21:00                 NaN                     NaN   \n",
       "118942  118943  2023-07-27T22:00                 NaN                     NaN   \n",
       "118943  118944  2023-07-27T23:00                 NaN                     NaN   \n",
       "\n",
       "       apparent_temperature (°C) rain (mm) is_day ()  \n",
       "0                           -7.7      0.00         0  \n",
       "1                           -7.7      0.00         0  \n",
       "2                           -7.7      0.00         0  \n",
       "3                           -7.6      0.00         0  \n",
       "4                           -7.5      0.00         0  \n",
       "...                          ...       ...       ...  \n",
       "118939                       NaN       NaN         1  \n",
       "118940                       NaN       NaN         0  \n",
       "118941                       NaN       NaN         0  \n",
       "118942                       NaN       NaN         0  \n",
       "118943                       NaN       NaN         0  \n",
       "\n",
       "[118944 rows x 7 columns]"
      ]
     },
     "execution_count": 803,
     "metadata": {},
     "output_type": "execute_result"
    }
   ],
   "source": [
    "df_temperatura.reset_index()"
   ]
  },
  {
   "cell_type": "code",
   "execution_count": 804,
   "metadata": {},
   "outputs": [],
   "source": [
    "df_temperatura.replace('NaN', np.nan, inplace=True)  # Reemplaza 'NaN' por np.nan"
   ]
  },
  {
   "cell_type": "code",
   "execution_count": 805,
   "metadata": {},
   "outputs": [],
   "source": [
    "df_temperatura.dropna(inplace=True)"
   ]
  },
  {
   "cell_type": "code",
   "execution_count": 806,
   "metadata": {},
   "outputs": [
    {
     "name": "stdout",
     "output_type": "stream",
     "text": [
      "<class 'pandas.core.frame.DataFrame'>\n",
      "Index: 118896 entries, 1 to 118896\n",
      "Data columns (total 6 columns):\n",
      " #   Column                     Non-Null Count   Dtype \n",
      "---  ------                     --------------   ----- \n",
      " 0   time                       118896 non-null  object\n",
      " 1   temperature_2m (°C)        118896 non-null  object\n",
      " 2   relativehumidity_2m (%)    118896 non-null  object\n",
      " 3   apparent_temperature (°C)  118896 non-null  object\n",
      " 4   rain (mm)                  118896 non-null  object\n",
      " 5   is_day ()                  118896 non-null  object\n",
      "dtypes: object(6)\n",
      "memory usage: 6.3+ MB\n"
     ]
    }
   ],
   "source": [
    "df_temperatura.info()"
   ]
  },
  {
   "cell_type": "code",
   "execution_count": 807,
   "metadata": {},
   "outputs": [
    {
     "data": {
      "text/plain": [
       "time                         0\n",
       "temperature_2m (°C)          0\n",
       "relativehumidity_2m (%)      0\n",
       "apparent_temperature (°C)    0\n",
       "rain (mm)                    0\n",
       "is_day ()                    0\n",
       "dtype: int64"
      ]
     },
     "execution_count": 807,
     "metadata": {},
     "output_type": "execute_result"
    }
   ],
   "source": [
    "#Evalúo cantidad de valores nulos previo a la transformacion de datos\n",
    "df_temperatura.isnull().sum()"
   ]
  },
  {
   "cell_type": "code",
   "execution_count": 808,
   "metadata": {},
   "outputs": [],
   "source": [
    "# Transformo los datos a tipo de dato fecha\n",
    "df_temperatura['time'] = pd.to_datetime(df_temperatura['time'], errors='coerce')\n"
   ]
  },
  {
   "cell_type": "code",
   "execution_count": 809,
   "metadata": {},
   "outputs": [],
   "source": [
    "# Me cercioro que no alteré nada en la columna de time\n",
    "# df_temperatura['time'].isnull().sum() --> 0\n"
   ]
  },
  {
   "cell_type": "code",
   "execution_count": 810,
   "metadata": {},
   "outputs": [],
   "source": [
    "# Elimino la hora del formato\n",
    "df_temperatura['time'] = df_temperatura['time'].dt.date\n"
   ]
  },
  {
   "cell_type": "code",
   "execution_count": 811,
   "metadata": {},
   "outputs": [],
   "source": [
    "#Elimino los valores nulos\n",
    "df_temperatura.dropna(inplace=True)"
   ]
  },
  {
   "cell_type": "code",
   "execution_count": 812,
   "metadata": {},
   "outputs": [
    {
     "data": {
      "text/html": [
       "<div>\n",
       "<style scoped>\n",
       "    .dataframe tbody tr th:only-of-type {\n",
       "        vertical-align: middle;\n",
       "    }\n",
       "\n",
       "    .dataframe tbody tr th {\n",
       "        vertical-align: top;\n",
       "    }\n",
       "\n",
       "    .dataframe thead th {\n",
       "        text-align: right;\n",
       "    }\n",
       "</style>\n",
       "<table border=\"1\" class=\"dataframe\">\n",
       "  <thead>\n",
       "    <tr style=\"text-align: right;\">\n",
       "      <th></th>\n",
       "      <th>time</th>\n",
       "      <th>temperature_2m (°C)</th>\n",
       "      <th>relativehumidity_2m (%)</th>\n",
       "      <th>apparent_temperature (°C)</th>\n",
       "      <th>rain (mm)</th>\n",
       "      <th>is_day ()</th>\n",
       "    </tr>\n",
       "  </thead>\n",
       "  <tbody>\n",
       "    <tr>\n",
       "      <th>1</th>\n",
       "      <td>2010-01-01</td>\n",
       "      <td>-2.6</td>\n",
       "      <td>88</td>\n",
       "      <td>-7.7</td>\n",
       "      <td>0.00</td>\n",
       "      <td>0</td>\n",
       "    </tr>\n",
       "    <tr>\n",
       "      <th>2</th>\n",
       "      <td>2010-01-01</td>\n",
       "      <td>-2.7</td>\n",
       "      <td>88</td>\n",
       "      <td>-7.7</td>\n",
       "      <td>0.00</td>\n",
       "      <td>0</td>\n",
       "    </tr>\n",
       "    <tr>\n",
       "      <th>3</th>\n",
       "      <td>2010-01-01</td>\n",
       "      <td>-2.7</td>\n",
       "      <td>88</td>\n",
       "      <td>-7.7</td>\n",
       "      <td>0.00</td>\n",
       "      <td>0</td>\n",
       "    </tr>\n",
       "    <tr>\n",
       "      <th>4</th>\n",
       "      <td>2010-01-01</td>\n",
       "      <td>-2.7</td>\n",
       "      <td>88</td>\n",
       "      <td>-7.6</td>\n",
       "      <td>0.00</td>\n",
       "      <td>0</td>\n",
       "    </tr>\n",
       "    <tr>\n",
       "      <th>5</th>\n",
       "      <td>2010-01-01</td>\n",
       "      <td>-2.7</td>\n",
       "      <td>88</td>\n",
       "      <td>-7.5</td>\n",
       "      <td>0.00</td>\n",
       "      <td>0</td>\n",
       "    </tr>\n",
       "  </tbody>\n",
       "</table>\n",
       "</div>"
      ],
      "text/plain": [
       "         time temperature_2m (°C) relativehumidity_2m (%)   \n",
       "1  2010-01-01                -2.6                      88  \\\n",
       "2  2010-01-01                -2.7                      88   \n",
       "3  2010-01-01                -2.7                      88   \n",
       "4  2010-01-01                -2.7                      88   \n",
       "5  2010-01-01                -2.7                      88   \n",
       "\n",
       "  apparent_temperature (°C) rain (mm) is_day ()  \n",
       "1                      -7.7      0.00         0  \n",
       "2                      -7.7      0.00         0  \n",
       "3                      -7.7      0.00         0  \n",
       "4                      -7.6      0.00         0  \n",
       "5                      -7.5      0.00         0  "
      ]
     },
     "execution_count": 812,
     "metadata": {},
     "output_type": "execute_result"
    }
   ],
   "source": [
    "df_temperatura.head(5) #Verifico el resultado"
   ]
  },
  {
   "cell_type": "code",
   "execution_count": 813,
   "metadata": {},
   "outputs": [
    {
     "data": {
      "text/plain": [
       "time                         0\n",
       "temperature_2m (°C)          0\n",
       "relativehumidity_2m (%)      0\n",
       "apparent_temperature (°C)    0\n",
       "rain (mm)                    0\n",
       "is_day ()                    0\n",
       "dtype: int64"
      ]
     },
     "execution_count": 813,
     "metadata": {},
     "output_type": "execute_result"
    }
   ],
   "source": [
    "#Verifico que no existan nulos.\n",
    "df_temperatura.isnull().sum()"
   ]
  },
  {
   "cell_type": "code",
   "execution_count": null,
   "metadata": {},
   "outputs": [],
   "source": [
    "df_temperatura.to_csv('Temperatura.csv', index=False) # Genero los datos a un csv"
   ]
  },
  {
   "cell_type": "code",
   "execution_count": 814,
   "metadata": {},
   "outputs": [
    {
     "data": {
      "text/html": [
       "<div>\n",
       "<style scoped>\n",
       "    .dataframe tbody tr th:only-of-type {\n",
       "        vertical-align: middle;\n",
       "    }\n",
       "\n",
       "    .dataframe tbody tr th {\n",
       "        vertical-align: top;\n",
       "    }\n",
       "\n",
       "    .dataframe thead th {\n",
       "        text-align: right;\n",
       "    }\n",
       "</style>\n",
       "<table border=\"1\" class=\"dataframe\">\n",
       "  <thead>\n",
       "    <tr style=\"text-align: right;\">\n",
       "      <th></th>\n",
       "      <th>time</th>\n",
       "      <th>temperature_2m_mean (°C)</th>\n",
       "      <th>temperature_2m_max (°C)</th>\n",
       "      <th>temperature_2m_min (°C)</th>\n",
       "    </tr>\n",
       "  </thead>\n",
       "  <tbody>\n",
       "    <tr>\n",
       "      <th>0</th>\n",
       "      <td>2000-01-01</td>\n",
       "      <td>-2.0</td>\n",
       "      <td>1.6</td>\n",
       "      <td>-4.9</td>\n",
       "    </tr>\n",
       "    <tr>\n",
       "      <th>1</th>\n",
       "      <td>2000-01-02</td>\n",
       "      <td>-0.2</td>\n",
       "      <td>3.4</td>\n",
       "      <td>-2.2</td>\n",
       "    </tr>\n",
       "    <tr>\n",
       "      <th>2</th>\n",
       "      <td>2000-01-03</td>\n",
       "      <td>0.9</td>\n",
       "      <td>2.3</td>\n",
       "      <td>-0.6</td>\n",
       "    </tr>\n",
       "  </tbody>\n",
       "</table>\n",
       "</div>"
      ],
      "text/plain": [
       "         time  temperature_2m_mean (°C)  temperature_2m_max (°C)   \n",
       "0  2000-01-01                      -2.0                      1.6  \\\n",
       "1  2000-01-02                      -0.2                      3.4   \n",
       "2  2000-01-03                       0.9                      2.3   \n",
       "\n",
       "   temperature_2m_min (°C)  \n",
       "0                     -4.9  \n",
       "1                     -2.2  \n",
       "2                     -0.6  "
      ]
     },
     "execution_count": 814,
     "metadata": {},
     "output_type": "execute_result"
    }
   ],
   "source": [
    "df_cambio_climatico.head(3)"
   ]
  },
  {
   "cell_type": "code",
   "execution_count": 815,
   "metadata": {},
   "outputs": [
    {
     "data": {
      "text/plain": [
       "Index(['time', 'temperature_2m_mean (°C)', 'temperature_2m_max (°C)',\n",
       "       'temperature_2m_min (°C)'],\n",
       "      dtype='object')"
      ]
     },
     "execution_count": 815,
     "metadata": {},
     "output_type": "execute_result"
    }
   ],
   "source": [
    "df_cambio_climatico.columns"
   ]
  },
  {
   "cell_type": "code",
   "execution_count": 816,
   "metadata": {},
   "outputs": [
    {
     "data": {
      "text/plain": [
       "time                        0\n",
       "temperature_2m_mean (°C)    0\n",
       "temperature_2m_max (°C)     0\n",
       "temperature_2m_min (°C)     0\n",
       "dtype: int64"
      ]
     },
     "execution_count": 816,
     "metadata": {},
     "output_type": "execute_result"
    }
   ],
   "source": [
    "#Verifico que no existan nulos\n",
    "df_cambio_climatico.isnull().sum()"
   ]
  },
  {
   "cell_type": "code",
   "execution_count": 817,
   "metadata": {},
   "outputs": [
    {
     "name": "stdout",
     "output_type": "stream",
     "text": [
      "<class 'pandas.core.frame.DataFrame'>\n",
      "RangeIndex: 8614 entries, 0 to 8613\n",
      "Data columns (total 4 columns):\n",
      " #   Column                    Non-Null Count  Dtype  \n",
      "---  ------                    --------------  -----  \n",
      " 0   time                      8614 non-null   object \n",
      " 1   temperature_2m_mean (°C)  8614 non-null   float64\n",
      " 2   temperature_2m_max (°C)   8614 non-null   float64\n",
      " 3   temperature_2m_min (°C)   8614 non-null   float64\n",
      "dtypes: float64(3), object(1)\n",
      "memory usage: 269.3+ KB\n"
     ]
    }
   ],
   "source": [
    "df_cambio_climatico.info() #Reviso tipo de datos"
   ]
  },
  {
   "cell_type": "code",
   "execution_count": 818,
   "metadata": {},
   "outputs": [],
   "source": [
    "#Transformo la fecha de tipo de dato objeto o string a fecha\n",
    "df_cambio_climatico ['time'] = pd.to_datetime(df_cambio_climatico['time'], errors='coerce')"
   ]
  },
  {
   "cell_type": "code",
   "execution_count": 819,
   "metadata": {},
   "outputs": [
    {
     "name": "stdout",
     "output_type": "stream",
     "text": [
      "<class 'pandas.core.frame.DataFrame'>\n",
      "RangeIndex: 8614 entries, 0 to 8613\n",
      "Data columns (total 4 columns):\n",
      " #   Column                    Non-Null Count  Dtype         \n",
      "---  ------                    --------------  -----         \n",
      " 0   time                      8614 non-null   datetime64[ns]\n",
      " 1   temperature_2m_mean (°C)  8614 non-null   float64       \n",
      " 2   temperature_2m_max (°C)   8614 non-null   float64       \n",
      " 3   temperature_2m_min (°C)   8614 non-null   float64       \n",
      "dtypes: datetime64[ns](1), float64(3)\n",
      "memory usage: 269.3 KB\n"
     ]
    }
   ],
   "source": [
    "#Verifico que todo está bien y reviso que no se hayan quedado nulos otra vez y dan 0 nulos\n",
    "df_cambio_climatico.info()"
   ]
  },
  {
   "cell_type": "code",
   "execution_count": null,
   "metadata": {},
   "outputs": [],
   "source": [
    "df_cambio_climatico.to_csv('Cambio climatico.csv', index=False) # Genero los datos a un csv"
   ]
  }
 ],
 "metadata": {
  "kernelspec": {
   "display_name": "Python 3",
   "language": "python",
   "name": "python3"
  },
  "language_info": {
   "codemirror_mode": {
    "name": "ipython",
    "version": 3
   },
   "file_extension": ".py",
   "mimetype": "text/x-python",
   "name": "python",
   "nbconvert_exporter": "python",
   "pygments_lexer": "ipython3",
   "version": "3.10.11"
  },
  "orig_nbformat": 4
 },
 "nbformat": 4,
 "nbformat_minor": 2
}
