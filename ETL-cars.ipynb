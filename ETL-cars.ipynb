{
 "cells": [
  {
   "cell_type": "code",
   "execution_count": 1,
   "metadata": {},
   "outputs": [],
   "source": [
    "import pandas as pd\n",
    "import warnings\n",
    "warnings.filterwarnings('ignore')\n",
    "\n",
    "# En el siguiente URL está el diccionario de datos del dataframe \"df_fuelEconomy\"\n",
    "#https://fueleconomy.gov/feg/ws/#emissions"
   ]
  },
  {
   "cell_type": "code",
   "execution_count": 2,
   "metadata": {},
   "outputs": [],
   "source": [
    "df_taxizone = pd.read_csv('Datasets/taxi+_zone_lookup.csv')\n",
    "df_fuelEconomy = pd.read_csv('Datasets/Vehicle Fuel Economy Data.csv')"
   ]
  },
  {
   "cell_type": "code",
   "execution_count": 3,
   "metadata": {},
   "outputs": [
    {
     "name": "stdout",
     "output_type": "stream",
     "text": [
      "<class 'pandas.core.frame.DataFrame'>\n",
      "RangeIndex: 265 entries, 0 to 264\n",
      "Data columns (total 4 columns):\n",
      " #   Column        Non-Null Count  Dtype \n",
      "---  ------        --------------  ----- \n",
      " 0   LocationID    265 non-null    int64 \n",
      " 1   Borough       265 non-null    object\n",
      " 2   Zone          264 non-null    object\n",
      " 3   service_zone  263 non-null    object\n",
      "dtypes: int64(1), object(3)\n",
      "memory usage: 8.4+ KB\n"
     ]
    }
   ],
   "source": [
    "df_taxizone.info()"
   ]
  },
  {
   "cell_type": "markdown",
   "metadata": {},
   "source": [
    "Reviso los valores nulos del campo **Zone** y **service_zone**"
   ]
  },
  {
   "cell_type": "code",
   "execution_count": 4,
   "metadata": {},
   "outputs": [
    {
     "data": {
      "text/html": [
       "<div>\n",
       "<style scoped>\n",
       "    .dataframe tbody tr th:only-of-type {\n",
       "        vertical-align: middle;\n",
       "    }\n",
       "\n",
       "    .dataframe tbody tr th {\n",
       "        vertical-align: top;\n",
       "    }\n",
       "\n",
       "    .dataframe thead th {\n",
       "        text-align: right;\n",
       "    }\n",
       "</style>\n",
       "<table border=\"1\" class=\"dataframe\">\n",
       "  <thead>\n",
       "    <tr style=\"text-align: right;\">\n",
       "      <th></th>\n",
       "      <th>LocationID</th>\n",
       "      <th>Borough</th>\n",
       "      <th>Zone</th>\n",
       "      <th>service_zone</th>\n",
       "    </tr>\n",
       "  </thead>\n",
       "  <tbody>\n",
       "    <tr>\n",
       "      <th>264</th>\n",
       "      <td>265</td>\n",
       "      <td>Unknown</td>\n",
       "      <td>NaN</td>\n",
       "      <td>NaN</td>\n",
       "    </tr>\n",
       "  </tbody>\n",
       "</table>\n",
       "</div>"
      ],
      "text/plain": [
       "     LocationID  Borough Zone service_zone\n",
       "264         265  Unknown  NaN          NaN"
      ]
     },
     "execution_count": 4,
     "metadata": {},
     "output_type": "execute_result"
    }
   ],
   "source": [
    "df_taxizone[df_taxizone['Zone'].isnull()]"
   ]
  },
  {
   "cell_type": "code",
   "execution_count": 5,
   "metadata": {},
   "outputs": [
    {
     "data": {
      "text/html": [
       "<div>\n",
       "<style scoped>\n",
       "    .dataframe tbody tr th:only-of-type {\n",
       "        vertical-align: middle;\n",
       "    }\n",
       "\n",
       "    .dataframe tbody tr th {\n",
       "        vertical-align: top;\n",
       "    }\n",
       "\n",
       "    .dataframe thead th {\n",
       "        text-align: right;\n",
       "    }\n",
       "</style>\n",
       "<table border=\"1\" class=\"dataframe\">\n",
       "  <thead>\n",
       "    <tr style=\"text-align: right;\">\n",
       "      <th></th>\n",
       "      <th>LocationID</th>\n",
       "      <th>Borough</th>\n",
       "      <th>Zone</th>\n",
       "      <th>service_zone</th>\n",
       "    </tr>\n",
       "  </thead>\n",
       "  <tbody>\n",
       "    <tr>\n",
       "      <th>263</th>\n",
       "      <td>264</td>\n",
       "      <td>Unknown</td>\n",
       "      <td>NV</td>\n",
       "      <td>NaN</td>\n",
       "    </tr>\n",
       "    <tr>\n",
       "      <th>264</th>\n",
       "      <td>265</td>\n",
       "      <td>Unknown</td>\n",
       "      <td>NaN</td>\n",
       "      <td>NaN</td>\n",
       "    </tr>\n",
       "  </tbody>\n",
       "</table>\n",
       "</div>"
      ],
      "text/plain": [
       "     LocationID  Borough Zone service_zone\n",
       "263         264  Unknown   NV          NaN\n",
       "264         265  Unknown  NaN          NaN"
      ]
     },
     "execution_count": 5,
     "metadata": {},
     "output_type": "execute_result"
    }
   ],
   "source": [
    "df_taxizone[df_taxizone['service_zone'].isnull()]"
   ]
  },
  {
   "cell_type": "code",
   "execution_count": 6,
   "metadata": {},
   "outputs": [
    {
     "data": {
      "text/html": [
       "<div>\n",
       "<style scoped>\n",
       "    .dataframe tbody tr th:only-of-type {\n",
       "        vertical-align: middle;\n",
       "    }\n",
       "\n",
       "    .dataframe tbody tr th {\n",
       "        vertical-align: top;\n",
       "    }\n",
       "\n",
       "    .dataframe thead th {\n",
       "        text-align: right;\n",
       "    }\n",
       "</style>\n",
       "<table border=\"1\" class=\"dataframe\">\n",
       "  <thead>\n",
       "    <tr style=\"text-align: right;\">\n",
       "      <th></th>\n",
       "      <th>LocationID</th>\n",
       "      <th>Borough</th>\n",
       "      <th>Zone</th>\n",
       "      <th>service_zone</th>\n",
       "    </tr>\n",
       "  </thead>\n",
       "  <tbody>\n",
       "    <tr>\n",
       "      <th>263</th>\n",
       "      <td>264</td>\n",
       "      <td>Unknown</td>\n",
       "      <td>NV</td>\n",
       "      <td>NaN</td>\n",
       "    </tr>\n",
       "    <tr>\n",
       "      <th>264</th>\n",
       "      <td>265</td>\n",
       "      <td>Unknown</td>\n",
       "      <td>NaN</td>\n",
       "      <td>NaN</td>\n",
       "    </tr>\n",
       "  </tbody>\n",
       "</table>\n",
       "</div>"
      ],
      "text/plain": [
       "     LocationID  Borough Zone service_zone\n",
       "263         264  Unknown   NV          NaN\n",
       "264         265  Unknown  NaN          NaN"
      ]
     },
     "execution_count": 6,
     "metadata": {},
     "output_type": "execute_result"
    }
   ],
   "source": [
    "# Veo cuantos valores \"Unknown\" hay en el campo \"Borough\"\n",
    "df_taxizone[df_taxizone['Borough'] == 'Unknown']"
   ]
  },
  {
   "cell_type": "markdown",
   "metadata": {},
   "source": [
    "Elimino las filas anteriores porque no tienen iformación"
   ]
  },
  {
   "cell_type": "code",
   "execution_count": 7,
   "metadata": {},
   "outputs": [],
   "source": [
    "df_taxizone.drop([263, 264], axis = 0, inplace = True)"
   ]
  },
  {
   "cell_type": "code",
   "execution_count": 8,
   "metadata": {},
   "outputs": [
    {
     "data": {
      "text/html": [
       "<div>\n",
       "<style scoped>\n",
       "    .dataframe tbody tr th:only-of-type {\n",
       "        vertical-align: middle;\n",
       "    }\n",
       "\n",
       "    .dataframe tbody tr th {\n",
       "        vertical-align: top;\n",
       "    }\n",
       "\n",
       "    .dataframe thead th {\n",
       "        text-align: right;\n",
       "    }\n",
       "</style>\n",
       "<table border=\"1\" class=\"dataframe\">\n",
       "  <thead>\n",
       "    <tr style=\"text-align: right;\">\n",
       "      <th></th>\n",
       "      <th>Borough</th>\n",
       "      <th>Zone</th>\n",
       "      <th>service_zone</th>\n",
       "    </tr>\n",
       "  </thead>\n",
       "  <tbody>\n",
       "    <tr>\n",
       "      <th>count</th>\n",
       "      <td>263</td>\n",
       "      <td>263</td>\n",
       "      <td>263</td>\n",
       "    </tr>\n",
       "    <tr>\n",
       "      <th>unique</th>\n",
       "      <td>6</td>\n",
       "      <td>260</td>\n",
       "      <td>4</td>\n",
       "    </tr>\n",
       "    <tr>\n",
       "      <th>top</th>\n",
       "      <td>Queens</td>\n",
       "      <td>Governor's Island/Ellis Island/Liberty Island</td>\n",
       "      <td>Boro Zone</td>\n",
       "    </tr>\n",
       "    <tr>\n",
       "      <th>freq</th>\n",
       "      <td>69</td>\n",
       "      <td>3</td>\n",
       "      <td>205</td>\n",
       "    </tr>\n",
       "  </tbody>\n",
       "</table>\n",
       "</div>"
      ],
      "text/plain": [
       "       Borough                                           Zone service_zone\n",
       "count      263                                            263          263\n",
       "unique       6                                            260            4\n",
       "top     Queens  Governor's Island/Ellis Island/Liberty Island    Boro Zone\n",
       "freq        69                                              3          205"
      ]
     },
     "execution_count": 8,
     "metadata": {},
     "output_type": "execute_result"
    }
   ],
   "source": [
    "# Veo una descripción de los datos\n",
    "df_taxizone.describe(include = ['O'])"
   ]
  },
  {
   "cell_type": "code",
   "execution_count": 9,
   "metadata": {},
   "outputs": [
    {
     "data": {
      "text/plain": [
       "['EWR', 'Queens', 'Bronx', 'Manhattan', 'Staten Island', 'Brooklyn']"
      ]
     },
     "execution_count": 9,
     "metadata": {},
     "output_type": "execute_result"
    }
   ],
   "source": [
    "# Veo los valores únicos de \"Borough\"\n",
    "df_taxizone['Borough'].unique().tolist()"
   ]
  },
  {
   "cell_type": "markdown",
   "metadata": {},
   "source": [
    "En el data set están los 5 boroughs de Nueva York y a parte está el Aeropuerto Internacional Libertad de Newark (EWR)"
   ]
  },
  {
   "cell_type": "code",
   "execution_count": 10,
   "metadata": {},
   "outputs": [
    {
     "data": {
      "text/html": [
       "<div>\n",
       "<style scoped>\n",
       "    .dataframe tbody tr th:only-of-type {\n",
       "        vertical-align: middle;\n",
       "    }\n",
       "\n",
       "    .dataframe tbody tr th {\n",
       "        vertical-align: top;\n",
       "    }\n",
       "\n",
       "    .dataframe thead th {\n",
       "        text-align: right;\n",
       "    }\n",
       "</style>\n",
       "<table border=\"1\" class=\"dataframe\">\n",
       "  <thead>\n",
       "    <tr style=\"text-align: right;\">\n",
       "      <th></th>\n",
       "      <th>LocationID</th>\n",
       "      <th>Borough</th>\n",
       "      <th>Zone</th>\n",
       "      <th>service_zone</th>\n",
       "    </tr>\n",
       "  </thead>\n",
       "  <tbody>\n",
       "    <tr>\n",
       "      <th>55</th>\n",
       "      <td>56</td>\n",
       "      <td>Queens</td>\n",
       "      <td>Corona</td>\n",
       "      <td>Boro Zone</td>\n",
       "    </tr>\n",
       "    <tr>\n",
       "      <th>56</th>\n",
       "      <td>57</td>\n",
       "      <td>Queens</td>\n",
       "      <td>Corona</td>\n",
       "      <td>Boro Zone</td>\n",
       "    </tr>\n",
       "    <tr>\n",
       "      <th>102</th>\n",
       "      <td>103</td>\n",
       "      <td>Manhattan</td>\n",
       "      <td>Governor's Island/Ellis Island/Liberty Island</td>\n",
       "      <td>Yellow Zone</td>\n",
       "    </tr>\n",
       "    <tr>\n",
       "      <th>103</th>\n",
       "      <td>104</td>\n",
       "      <td>Manhattan</td>\n",
       "      <td>Governor's Island/Ellis Island/Liberty Island</td>\n",
       "      <td>Yellow Zone</td>\n",
       "    </tr>\n",
       "    <tr>\n",
       "      <th>104</th>\n",
       "      <td>105</td>\n",
       "      <td>Manhattan</td>\n",
       "      <td>Governor's Island/Ellis Island/Liberty Island</td>\n",
       "      <td>Yellow Zone</td>\n",
       "    </tr>\n",
       "  </tbody>\n",
       "</table>\n",
       "</div>"
      ],
      "text/plain": [
       "     LocationID    Borough                                           Zone  \\\n",
       "55           56     Queens                                         Corona   \n",
       "56           57     Queens                                         Corona   \n",
       "102         103  Manhattan  Governor's Island/Ellis Island/Liberty Island   \n",
       "103         104  Manhattan  Governor's Island/Ellis Island/Liberty Island   \n",
       "104         105  Manhattan  Governor's Island/Ellis Island/Liberty Island   \n",
       "\n",
       "    service_zone  \n",
       "55     Boro Zone  \n",
       "56     Boro Zone  \n",
       "102  Yellow Zone  \n",
       "103  Yellow Zone  \n",
       "104  Yellow Zone  "
      ]
     },
     "execution_count": 10,
     "metadata": {},
     "output_type": "execute_result"
    }
   ],
   "source": [
    "# Reviso las filas en donde hay un valor de \"Zone\" duplicado\n",
    "df_taxizone[df_taxizone.duplicated('Zone', keep = False)]"
   ]
  },
  {
   "cell_type": "markdown",
   "metadata": {},
   "source": [
    "Elimino las filas duplicadas"
   ]
  },
  {
   "cell_type": "code",
   "execution_count": 11,
   "metadata": {},
   "outputs": [],
   "source": [
    "df_taxizone.drop([56, 103, 104], axis = 0, inplace = True)\n",
    "# Reseteo el index\n",
    "df_taxizone = df_taxizone.reset_index(drop = True)"
   ]
  },
  {
   "cell_type": "code",
   "execution_count": 12,
   "metadata": {},
   "outputs": [
    {
     "data": {
      "text/plain": [
       "['EWR', 'Boro Zone', 'Yellow Zone', 'Airports']"
      ]
     },
     "execution_count": 12,
     "metadata": {},
     "output_type": "execute_result"
    }
   ],
   "source": [
    "# Veo los valores únicos de \"service_zone\"\n",
    "df_taxizone['service_zone'].unique().tolist()"
   ]
  },
  {
   "cell_type": "code",
   "execution_count": 13,
   "metadata": {},
   "outputs": [],
   "source": [
    "# Exporto el dataset df_taxizone\n",
    "df_taxizone.to_csv('Datasets_procesados_cars/taxi-zone.csv')"
   ]
  },
  {
   "cell_type": "markdown",
   "metadata": {},
   "source": [
    "Hago las transformaciones necesarias en el dataset \"Vehicle Fuel Economy.csv\""
   ]
  },
  {
   "cell_type": "code",
   "execution_count": 14,
   "metadata": {},
   "outputs": [
    {
     "data": {
      "text/html": [
       "<div>\n",
       "<style scoped>\n",
       "    .dataframe tbody tr th:only-of-type {\n",
       "        vertical-align: middle;\n",
       "    }\n",
       "\n",
       "    .dataframe tbody tr th {\n",
       "        vertical-align: top;\n",
       "    }\n",
       "\n",
       "    .dataframe thead th {\n",
       "        text-align: right;\n",
       "    }\n",
       "</style>\n",
       "<table border=\"1\" class=\"dataframe\">\n",
       "  <thead>\n",
       "    <tr style=\"text-align: right;\">\n",
       "      <th></th>\n",
       "      <th>Year</th>\n",
       "      <th>Manufacturer</th>\n",
       "      <th>Model</th>\n",
       "      <th>barrels08</th>\n",
       "      <th>barrelsA08</th>\n",
       "      <th>charge240</th>\n",
       "      <th>city08</th>\n",
       "      <th>city08U</th>\n",
       "      <th>cityA08</th>\n",
       "      <th>cityA08U</th>\n",
       "      <th>...</th>\n",
       "      <th>mfrCode</th>\n",
       "      <th>c240Dscr</th>\n",
       "      <th>charge240b</th>\n",
       "      <th>c240bDscr</th>\n",
       "      <th>createdOn</th>\n",
       "      <th>modifiedOn</th>\n",
       "      <th>startStop</th>\n",
       "      <th>phevCity</th>\n",
       "      <th>phevHwy</th>\n",
       "      <th>phevComb</th>\n",
       "    </tr>\n",
       "  </thead>\n",
       "  <tbody>\n",
       "    <tr>\n",
       "      <th>0</th>\n",
       "      <td>2017</td>\n",
       "      <td>BMW</td>\n",
       "      <td>M6 Coupe</td>\n",
       "      <td>17.500588</td>\n",
       "      <td>0.0</td>\n",
       "      <td>0.0</td>\n",
       "      <td>15.0</td>\n",
       "      <td>14.0</td>\n",
       "      <td>0.0</td>\n",
       "      <td>0.0</td>\n",
       "      <td>...</td>\n",
       "      <td>BMX</td>\n",
       "      <td>NaN</td>\n",
       "      <td>0.0</td>\n",
       "      <td>NaN</td>\n",
       "      <td>04-04-2016</td>\n",
       "      <td>09-09-2016</td>\n",
       "      <td>Y</td>\n",
       "      <td>0.0</td>\n",
       "      <td>0.0</td>\n",
       "      <td>0.0</td>\n",
       "    </tr>\n",
       "    <tr>\n",
       "      <th>1</th>\n",
       "      <td>2017</td>\n",
       "      <td>BMW</td>\n",
       "      <td>X3 sDrive28i</td>\n",
       "      <td>12.396250</td>\n",
       "      <td>0.0</td>\n",
       "      <td>0.0</td>\n",
       "      <td>21.0</td>\n",
       "      <td>21.0</td>\n",
       "      <td>0.0</td>\n",
       "      <td>0.0</td>\n",
       "      <td>...</td>\n",
       "      <td>BMX</td>\n",
       "      <td>NaN</td>\n",
       "      <td>0.0</td>\n",
       "      <td>NaN</td>\n",
       "      <td>04-04-2016</td>\n",
       "      <td>22-11-2016</td>\n",
       "      <td>Y</td>\n",
       "      <td>0.0</td>\n",
       "      <td>0.0</td>\n",
       "      <td>0.0</td>\n",
       "    </tr>\n",
       "    <tr>\n",
       "      <th>2</th>\n",
       "      <td>2016</td>\n",
       "      <td>Infiniti</td>\n",
       "      <td>Q50S Red Sport</td>\n",
       "      <td>13.523182</td>\n",
       "      <td>0.0</td>\n",
       "      <td>0.0</td>\n",
       "      <td>20.0</td>\n",
       "      <td>19.0</td>\n",
       "      <td>0.0</td>\n",
       "      <td>0.0</td>\n",
       "      <td>...</td>\n",
       "      <td>NSX</td>\n",
       "      <td>NaN</td>\n",
       "      <td>0.0</td>\n",
       "      <td>NaN</td>\n",
       "      <td>04-04-2016</td>\n",
       "      <td>26-09-2016</td>\n",
       "      <td>N</td>\n",
       "      <td>0.0</td>\n",
       "      <td>0.0</td>\n",
       "      <td>0.0</td>\n",
       "    </tr>\n",
       "    <tr>\n",
       "      <th>3</th>\n",
       "      <td>2017</td>\n",
       "      <td>MINI</td>\n",
       "      <td>John Cooper Works Convertible</td>\n",
       "      <td>11.018889</td>\n",
       "      <td>0.0</td>\n",
       "      <td>0.0</td>\n",
       "      <td>24.0</td>\n",
       "      <td>23.0</td>\n",
       "      <td>0.0</td>\n",
       "      <td>0.0</td>\n",
       "      <td>...</td>\n",
       "      <td>BMX</td>\n",
       "      <td>NaN</td>\n",
       "      <td>0.0</td>\n",
       "      <td>NaN</td>\n",
       "      <td>12-04-2016</td>\n",
       "      <td>16-09-2016</td>\n",
       "      <td>Y</td>\n",
       "      <td>0.0</td>\n",
       "      <td>0.0</td>\n",
       "      <td>0.0</td>\n",
       "    </tr>\n",
       "    <tr>\n",
       "      <th>4</th>\n",
       "      <td>2017</td>\n",
       "      <td>Kia</td>\n",
       "      <td>Sedona SX</td>\n",
       "      <td>14.167143</td>\n",
       "      <td>0.0</td>\n",
       "      <td>0.0</td>\n",
       "      <td>18.0</td>\n",
       "      <td>18.0</td>\n",
       "      <td>0.0</td>\n",
       "      <td>0.0</td>\n",
       "      <td>...</td>\n",
       "      <td>KMX</td>\n",
       "      <td>NaN</td>\n",
       "      <td>0.0</td>\n",
       "      <td>NaN</td>\n",
       "      <td>12-04-2016</td>\n",
       "      <td>02-12-2016</td>\n",
       "      <td>N</td>\n",
       "      <td>0.0</td>\n",
       "      <td>0.0</td>\n",
       "      <td>0.0</td>\n",
       "    </tr>\n",
       "  </tbody>\n",
       "</table>\n",
       "<p>5 rows × 82 columns</p>\n",
       "</div>"
      ],
      "text/plain": [
       "   Year Manufacturer                          Model  barrels08  barrelsA08  \\\n",
       "0  2017          BMW                       M6 Coupe  17.500588         0.0   \n",
       "1  2017          BMW                   X3 sDrive28i  12.396250         0.0   \n",
       "2  2016     Infiniti                 Q50S Red Sport  13.523182         0.0   \n",
       "3  2017         MINI  John Cooper Works Convertible  11.018889         0.0   \n",
       "4  2017          Kia                      Sedona SX  14.167143         0.0   \n",
       "\n",
       "   charge240  city08  city08U  cityA08  cityA08U  ...  mfrCode  c240Dscr  \\\n",
       "0        0.0    15.0     14.0      0.0       0.0  ...      BMX       NaN   \n",
       "1        0.0    21.0     21.0      0.0       0.0  ...      BMX       NaN   \n",
       "2        0.0    20.0     19.0      0.0       0.0  ...      NSX       NaN   \n",
       "3        0.0    24.0     23.0      0.0       0.0  ...      BMX       NaN   \n",
       "4        0.0    18.0     18.0      0.0       0.0  ...      KMX       NaN   \n",
       "\n",
       "   charge240b  c240bDscr   createdOn  modifiedOn  startStop  phevCity  \\\n",
       "0         0.0        NaN  04-04-2016  09-09-2016          Y       0.0   \n",
       "1         0.0        NaN  04-04-2016  22-11-2016          Y       0.0   \n",
       "2         0.0        NaN  04-04-2016  26-09-2016          N       0.0   \n",
       "3         0.0        NaN  12-04-2016  16-09-2016          Y       0.0   \n",
       "4         0.0        NaN  12-04-2016  02-12-2016          N       0.0   \n",
       "\n",
       "   phevHwy  phevComb  \n",
       "0      0.0       0.0  \n",
       "1      0.0       0.0  \n",
       "2      0.0       0.0  \n",
       "3      0.0       0.0  \n",
       "4      0.0       0.0  \n",
       "\n",
       "[5 rows x 82 columns]"
      ]
     },
     "execution_count": 14,
     "metadata": {},
     "output_type": "execute_result"
    }
   ],
   "source": [
    "df_fuelEconomy.head()"
   ]
  },
  {
   "cell_type": "code",
   "execution_count": 15,
   "metadata": {},
   "outputs": [
    {
     "data": {
      "text/plain": [
       "Index(['Year', 'Manufacturer', 'Model', 'barrels08', 'barrelsA08', 'charge240',\n",
       "       'city08', 'city08U', 'cityA08', 'cityA08U', 'cityCD', 'cityE', 'cityUF',\n",
       "       'co2', 'co2A', 'co2TailpipeAGpm', 'co2TailpipeGpm', 'comb08', 'comb08U',\n",
       "       'combA08', 'combA08U', 'combE', 'combinedCD', 'combinedUF', 'cylinders',\n",
       "       'displ', 'drive', 'engId', 'eng_dscr', 'feScore', 'fuelCost08',\n",
       "       'fuelCostA08', 'fuelType', 'fuelType1', 'ghgScore', 'ghgScoreA',\n",
       "       'highway08', 'highway08U', 'highwayA08', 'highwayA08U', 'VClass',\n",
       "       'highwayCD', 'highwayE', 'highwayUF', 'hlv', 'hpv', 'id', 'lv2', 'lv4',\n",
       "       'mpgData', 'phevBlended', 'pv2', 'pv4', 'range', 'rangeCity',\n",
       "       'rangeCityA', 'rangeHwy', 'rangeHwyA', 'trany', 'UCity', 'UCityA',\n",
       "       'UHighway', 'UHighwayA', 'youSaveSpend', 'guzzler', 'trans_dscr',\n",
       "       'tCharger', 'sCharger', 'atvType', 'fuelType2', 'rangeA', 'evMotor',\n",
       "       'mfrCode', 'c240Dscr', 'charge240b', 'c240bDscr', 'createdOn',\n",
       "       'modifiedOn', 'startStop', 'phevCity', 'phevHwy', 'phevComb'],\n",
       "      dtype='object')"
      ]
     },
     "execution_count": 15,
     "metadata": {},
     "output_type": "execute_result"
    }
   ],
   "source": [
    "# Ve las distintas columnas que tiene el dataset\n",
    "df_fuelEconomy.columns"
   ]
  },
  {
   "cell_type": "code",
   "execution_count": 16,
   "metadata": {},
   "outputs": [
    {
     "data": {
      "text/plain": [
       "array([2017, 2016, 1987, 1985, 2018, 2015, 2019, 1988, 2020, 2021, 2022,\n",
       "       2023, 1984, 1986, 2010, 2009, 1990, 1991, 1992, 1993, 1994, 1995,\n",
       "       1996, 1997, 1999, 2000, 2001, 2002, 2003, 2004, 2006, 2008, 1998,\n",
       "       2011, 2012, 2013, 2014, 2005, 2007, 2024, 1989], dtype=int64)"
      ]
     },
     "execution_count": 16,
     "metadata": {},
     "output_type": "execute_result"
    }
   ],
   "source": [
    "# Veo los diferentes años de cada modelo\n",
    "df_fuelEconomy['Year'].unique()"
   ]
  },
  {
   "cell_type": "markdown",
   "metadata": {},
   "source": [
    "Para que haya solo taxis modernos, y así evitar que se descompongan facilmente, retiro los datos de modelos anteriores al año 2010"
   ]
  },
  {
   "cell_type": "code",
   "execution_count": 17,
   "metadata": {},
   "outputs": [],
   "source": [
    "df_fuelEconomy = df_fuelEconomy[df_fuelEconomy['Year'] >= 2010]"
   ]
  },
  {
   "cell_type": "code",
   "execution_count": 18,
   "metadata": {},
   "outputs": [
    {
     "data": {
      "text/plain": [
       "array(['Subcompact Cars', 'Small Sport Utility Vehicle 2WD',\n",
       "       'Midsize Cars', 'Minicompact Cars', 'Minivan - 2WD',\n",
       "       'Small Sport Utility Vehicle 4WD', 'Standard Pickup Trucks 4WD',\n",
       "       'Standard Sport Utility Vehicle 2WD', 'Compact Cars',\n",
       "       'Standard Sport Utility Vehicle 4WD', 'Large Cars', 'Two Seaters',\n",
       "       'Small Station Wagons', 'Standard Pickup Trucks 2WD',\n",
       "       'Special Purpose Vehicle 2WD', 'Special Purpose Vehicle 4WD',\n",
       "       'Small Pickup Trucks 4WD', 'Small Pickup Trucks 2WD',\n",
       "       'Midsize Station Wagons', 'Vans', nan, 'Minivan - 4WD',\n",
       "       'Sport Utility Vehicle - 2WD', 'Sport Utility Vehicle - 4WD'],\n",
       "      dtype=object)"
      ]
     },
     "execution_count": 18,
     "metadata": {},
     "output_type": "execute_result"
    }
   ],
   "source": [
    "# Veo los diferentes tipos de carros\n",
    "df_fuelEconomy['VClass'].unique()"
   ]
  },
  {
   "cell_type": "markdown",
   "metadata": {},
   "source": [
    "Como los taxis no deben ser camionetas, vans o SUVs filtré el dataset para tener solo datos con vehículos de diferente tipo a los mencionados anteriormente"
   ]
  },
  {
   "cell_type": "code",
   "execution_count": 19,
   "metadata": {},
   "outputs": [],
   "source": [
    "tipos = ['Midsize Cars', 'Compact Cars', 'Small Station Wagons', 'Midsize Station Wagons']\n",
    "df_fuelEconomy = df_fuelEconomy[df_fuelEconomy['VClass'].isin(tipos)]"
   ]
  },
  {
   "cell_type": "markdown",
   "metadata": {},
   "source": [
    "Separao el dataset en tres dependiendo del tipo de combustible que utilizan"
   ]
  },
  {
   "cell_type": "markdown",
   "metadata": {},
   "source": [
    "\"*df_fE_Gasoline*\" tendrá datos de vehículos que solo usan gasolina o diesel"
   ]
  },
  {
   "cell_type": "code",
   "execution_count": 20,
   "metadata": {},
   "outputs": [
    {
     "data": {
      "text/plain": [
       "array(['Premium Gasoline', 'Regular Gasoline', 'Diesel', 'Electricity',\n",
       "       'Midgrade Gasoline', 'Natural Gas'], dtype=object)"
      ]
     },
     "execution_count": 20,
     "metadata": {},
     "output_type": "execute_result"
    }
   ],
   "source": [
    "df_fuelEconomy['fuelType1'].unique()\n",
    "# El dataset \"df_fE_Gasoline\" tendrá vehículos que utilizan este tipo de combustibles"
   ]
  },
  {
   "cell_type": "code",
   "execution_count": 21,
   "metadata": {},
   "outputs": [],
   "source": [
    "# 1er dataset\n",
    "df = df_fuelEconomy[df_fuelEconomy['fuelType1'].notna()] # Creo un dataframe en donde no hay nulos en \"fuelType1\"\n",
    "df_fE_Gasoline = df[['Year', 'Manufacturer', 'Model', 'barrels08', 'charge240', 'city08U', 'cityCD', 'cityE',\n",
    "                     'cityUF', 'co2', 'comb08U', 'combE', 'combinedCD', 'combinedUF', 'cylinders', 'feScore',\n",
    "                     'fuelCost08', 'fuelType1', 'ghgScore', 'highway08U', 'highwayCD', 'highwayE',\n",
    "                     'highwayUF', 'id', 'phevBlended', 'charge240b']]"
   ]
  },
  {
   "cell_type": "markdown",
   "metadata": {},
   "source": [
    "Como el campo \"fuelType1\" también tiene autos que funcionan con gas natural, generaré un dataframe con estos datos para pasarlo a otro nuevo en donde habrá datos de vehículos que utilizan combustibles alternativos a la gasolina o diesel"
   ]
  },
  {
   "cell_type": "code",
   "execution_count": 22,
   "metadata": {},
   "outputs": [
    {
     "data": {
      "text/html": [
       "<div>\n",
       "<style scoped>\n",
       "    .dataframe tbody tr th:only-of-type {\n",
       "        vertical-align: middle;\n",
       "    }\n",
       "\n",
       "    .dataframe tbody tr th {\n",
       "        vertical-align: top;\n",
       "    }\n",
       "\n",
       "    .dataframe thead th {\n",
       "        text-align: right;\n",
       "    }\n",
       "</style>\n",
       "<table border=\"1\" class=\"dataframe\">\n",
       "  <thead>\n",
       "    <tr style=\"text-align: right;\">\n",
       "      <th></th>\n",
       "      <th>Year</th>\n",
       "      <th>Manufacturer</th>\n",
       "      <th>Model</th>\n",
       "      <th>barrels08</th>\n",
       "      <th>charge240</th>\n",
       "      <th>cityA08U</th>\n",
       "      <th>cityCD</th>\n",
       "      <th>cityE</th>\n",
       "      <th>cityUF</th>\n",
       "      <th>co2A</th>\n",
       "      <th>...</th>\n",
       "      <th>fuelCostA08</th>\n",
       "      <th>fuelType2</th>\n",
       "      <th>ghgScoreA</th>\n",
       "      <th>highwayA08U</th>\n",
       "      <th>highwayCD</th>\n",
       "      <th>highwayE</th>\n",
       "      <th>highwayUF</th>\n",
       "      <th>id</th>\n",
       "      <th>phevBlended</th>\n",
       "      <th>charge240b</th>\n",
       "    </tr>\n",
       "  </thead>\n",
       "  <tbody>\n",
       "    <tr>\n",
       "      <th>12100</th>\n",
       "      <td>2012</td>\n",
       "      <td>Honda</td>\n",
       "      <td>Civic Natural Gas</td>\n",
       "      <td>0.047081</td>\n",
       "      <td>0.0</td>\n",
       "      <td>26.0</td>\n",
       "      <td>0.0</td>\n",
       "      <td>0.0</td>\n",
       "      <td>0.0</td>\n",
       "      <td>-1.0</td>\n",
       "      <td>...</td>\n",
       "      <td>1550.0</td>\n",
       "      <td>Natural Gas</td>\n",
       "      <td>-1.0</td>\n",
       "      <td>37.0</td>\n",
       "      <td>0.0</td>\n",
       "      <td>0.0</td>\n",
       "      <td>0.0</td>\n",
       "      <td>32336.0</td>\n",
       "      <td>False</td>\n",
       "      <td>0.0</td>\n",
       "    </tr>\n",
       "    <tr>\n",
       "      <th>20091</th>\n",
       "      <td>2015</td>\n",
       "      <td>Honda</td>\n",
       "      <td>Civic Natural Gas</td>\n",
       "      <td>0.047081</td>\n",
       "      <td>0.0</td>\n",
       "      <td>26.0</td>\n",
       "      <td>0.0</td>\n",
       "      <td>0.0</td>\n",
       "      <td>0.0</td>\n",
       "      <td>218.0</td>\n",
       "      <td>...</td>\n",
       "      <td>1550.0</td>\n",
       "      <td>Natural Gas</td>\n",
       "      <td>9.0</td>\n",
       "      <td>37.0</td>\n",
       "      <td>0.0</td>\n",
       "      <td>0.0</td>\n",
       "      <td>0.0</td>\n",
       "      <td>35886.0</td>\n",
       "      <td>False</td>\n",
       "      <td>0.0</td>\n",
       "    </tr>\n",
       "    <tr>\n",
       "      <th>30769</th>\n",
       "      <td>2013</td>\n",
       "      <td>Honda</td>\n",
       "      <td>Civic Natural Gas</td>\n",
       "      <td>0.047081</td>\n",
       "      <td>0.0</td>\n",
       "      <td>26.0</td>\n",
       "      <td>0.0</td>\n",
       "      <td>0.0</td>\n",
       "      <td>0.0</td>\n",
       "      <td>218.0</td>\n",
       "      <td>...</td>\n",
       "      <td>1550.0</td>\n",
       "      <td>Natural Gas</td>\n",
       "      <td>10.0</td>\n",
       "      <td>37.0</td>\n",
       "      <td>0.0</td>\n",
       "      <td>0.0</td>\n",
       "      <td>0.0</td>\n",
       "      <td>33503.0</td>\n",
       "      <td>False</td>\n",
       "      <td>0.0</td>\n",
       "    </tr>\n",
       "    <tr>\n",
       "      <th>31046</th>\n",
       "      <td>2014</td>\n",
       "      <td>Honda</td>\n",
       "      <td>Civic Natural Gas</td>\n",
       "      <td>0.047081</td>\n",
       "      <td>0.0</td>\n",
       "      <td>26.0</td>\n",
       "      <td>0.0</td>\n",
       "      <td>0.0</td>\n",
       "      <td>0.0</td>\n",
       "      <td>218.0</td>\n",
       "      <td>...</td>\n",
       "      <td>1550.0</td>\n",
       "      <td>Natural Gas</td>\n",
       "      <td>9.0</td>\n",
       "      <td>37.0</td>\n",
       "      <td>0.0</td>\n",
       "      <td>0.0</td>\n",
       "      <td>0.0</td>\n",
       "      <td>34728.0</td>\n",
       "      <td>False</td>\n",
       "      <td>0.0</td>\n",
       "    </tr>\n",
       "  </tbody>\n",
       "</table>\n",
       "<p>4 rows × 26 columns</p>\n",
       "</div>"
      ],
      "text/plain": [
       "       Year Manufacturer              Model  barrels08  charge240  cityA08U  \\\n",
       "12100  2012        Honda  Civic Natural Gas   0.047081        0.0      26.0   \n",
       "20091  2015        Honda  Civic Natural Gas   0.047081        0.0      26.0   \n",
       "30769  2013        Honda  Civic Natural Gas   0.047081        0.0      26.0   \n",
       "31046  2014        Honda  Civic Natural Gas   0.047081        0.0      26.0   \n",
       "\n",
       "       cityCD  cityE  cityUF   co2A  ...  fuelCostA08    fuelType2  ghgScoreA  \\\n",
       "12100     0.0    0.0     0.0   -1.0  ...       1550.0  Natural Gas       -1.0   \n",
       "20091     0.0    0.0     0.0  218.0  ...       1550.0  Natural Gas        9.0   \n",
       "30769     0.0    0.0     0.0  218.0  ...       1550.0  Natural Gas       10.0   \n",
       "31046     0.0    0.0     0.0  218.0  ...       1550.0  Natural Gas        9.0   \n",
       "\n",
       "       highwayA08U  highwayCD  highwayE  highwayUF       id  phevBlended  \\\n",
       "12100         37.0        0.0       0.0        0.0  32336.0        False   \n",
       "20091         37.0        0.0       0.0        0.0  35886.0        False   \n",
       "30769         37.0        0.0       0.0        0.0  33503.0        False   \n",
       "31046         37.0        0.0       0.0        0.0  34728.0        False   \n",
       "\n",
       "       charge240b  \n",
       "12100         0.0  \n",
       "20091         0.0  \n",
       "30769         0.0  \n",
       "31046         0.0  \n",
       "\n",
       "[4 rows x 26 columns]"
      ]
     },
     "execution_count": 22,
     "metadata": {},
     "output_type": "execute_result"
    }
   ],
   "source": [
    "Gas_car = df_fE_Gasoline[df_fE_Gasoline['fuelType1'] == 'Natural Gas']\n",
    "# Cambio el nombre de unas columnas para depués unirlo al otro dataframe\n",
    "Gas_car = Gas_car.rename(columns = {'city08U':'cityA08U', 'co2':'co2A', 'comb08U':'combA08U',\n",
    "                                     'fuelCost08':'fuelCostA08', 'ghgScore':'ghgScoreA',\n",
    "                                     'highway08U':'highwayA08U', 'fuelType1':'fuelType2'})\n",
    "Gas_car"
   ]
  },
  {
   "cell_type": "markdown",
   "metadata": {},
   "source": [
    "Con los datos de vehículos eléctricos en filas donde fuelType1 y fuelType2 = \"Electricity\" también generaré un nuevo dataset"
   ]
  },
  {
   "cell_type": "code",
   "execution_count": 23,
   "metadata": {},
   "outputs": [
    {
     "data": {
      "text/html": [
       "<div>\n",
       "<style scoped>\n",
       "    .dataframe tbody tr th:only-of-type {\n",
       "        vertical-align: middle;\n",
       "    }\n",
       "\n",
       "    .dataframe tbody tr th {\n",
       "        vertical-align: top;\n",
       "    }\n",
       "\n",
       "    .dataframe thead th {\n",
       "        text-align: right;\n",
       "    }\n",
       "</style>\n",
       "<table border=\"1\" class=\"dataframe\">\n",
       "  <thead>\n",
       "    <tr style=\"text-align: right;\">\n",
       "      <th></th>\n",
       "      <th>Year</th>\n",
       "      <th>Manufacturer</th>\n",
       "      <th>Model</th>\n",
       "      <th>barrels08</th>\n",
       "      <th>charge240</th>\n",
       "      <th>cityA08U</th>\n",
       "      <th>cityCD</th>\n",
       "      <th>cityE</th>\n",
       "      <th>cityUF</th>\n",
       "      <th>co2A</th>\n",
       "      <th>...</th>\n",
       "      <th>fuelCostA08</th>\n",
       "      <th>fuelType2</th>\n",
       "      <th>ghgScoreA</th>\n",
       "      <th>highwayA08U</th>\n",
       "      <th>highwayCD</th>\n",
       "      <th>highwayE</th>\n",
       "      <th>highwayUF</th>\n",
       "      <th>id</th>\n",
       "      <th>phevBlended</th>\n",
       "      <th>charge240b</th>\n",
       "    </tr>\n",
       "  </thead>\n",
       "  <tbody>\n",
       "    <tr>\n",
       "      <th>187</th>\n",
       "      <td>2017</td>\n",
       "      <td>Kia</td>\n",
       "      <td>Soul Electric</td>\n",
       "      <td>0.0768</td>\n",
       "      <td>4.0</td>\n",
       "      <td>119.0</td>\n",
       "      <td>0.0</td>\n",
       "      <td>28.0</td>\n",
       "      <td>0.0</td>\n",
       "      <td>0.0</td>\n",
       "      <td>...</td>\n",
       "      <td>650.0</td>\n",
       "      <td>Electricity</td>\n",
       "      <td>10.0</td>\n",
       "      <td>92.0</td>\n",
       "      <td>0.0</td>\n",
       "      <td>36.0</td>\n",
       "      <td>0.0</td>\n",
       "      <td>38168.0</td>\n",
       "      <td>False</td>\n",
       "      <td>0.0</td>\n",
       "    </tr>\n",
       "    <tr>\n",
       "      <th>239</th>\n",
       "      <td>2017</td>\n",
       "      <td>Hyundai</td>\n",
       "      <td>Ioniq Electric</td>\n",
       "      <td>0.0600</td>\n",
       "      <td>4.0</td>\n",
       "      <td>150.0</td>\n",
       "      <td>0.0</td>\n",
       "      <td>22.0</td>\n",
       "      <td>0.0</td>\n",
       "      <td>0.0</td>\n",
       "      <td>...</td>\n",
       "      <td>500.0</td>\n",
       "      <td>Electricity</td>\n",
       "      <td>10.0</td>\n",
       "      <td>122.0</td>\n",
       "      <td>0.0</td>\n",
       "      <td>28.0</td>\n",
       "      <td>0.0</td>\n",
       "      <td>38431.0</td>\n",
       "      <td>False</td>\n",
       "      <td>0.0</td>\n",
       "    </tr>\n",
       "    <tr>\n",
       "      <th>261</th>\n",
       "      <td>2017</td>\n",
       "      <td>Ford</td>\n",
       "      <td>Focus Electric</td>\n",
       "      <td>0.0744</td>\n",
       "      <td>5.0</td>\n",
       "      <td>118.0</td>\n",
       "      <td>0.0</td>\n",
       "      <td>28.0</td>\n",
       "      <td>0.0</td>\n",
       "      <td>0.0</td>\n",
       "      <td>...</td>\n",
       "      <td>650.0</td>\n",
       "      <td>Electricity</td>\n",
       "      <td>10.0</td>\n",
       "      <td>95.0</td>\n",
       "      <td>0.0</td>\n",
       "      <td>35.0</td>\n",
       "      <td>0.0</td>\n",
       "      <td>38505.0</td>\n",
       "      <td>False</td>\n",
       "      <td>0.0</td>\n",
       "    </tr>\n",
       "    <tr>\n",
       "      <th>561</th>\n",
       "      <td>2018</td>\n",
       "      <td>Nissan</td>\n",
       "      <td>Leaf</td>\n",
       "      <td>0.0720</td>\n",
       "      <td>8.0</td>\n",
       "      <td>125.0</td>\n",
       "      <td>0.0</td>\n",
       "      <td>26.0</td>\n",
       "      <td>0.0</td>\n",
       "      <td>0.0</td>\n",
       "      <td>...</td>\n",
       "      <td>650.0</td>\n",
       "      <td>Electricity</td>\n",
       "      <td>10.0</td>\n",
       "      <td>99.0</td>\n",
       "      <td>0.0</td>\n",
       "      <td>33.0</td>\n",
       "      <td>0.0</td>\n",
       "      <td>39860.0</td>\n",
       "      <td>False</td>\n",
       "      <td>0.0</td>\n",
       "    </tr>\n",
       "    <tr>\n",
       "      <th>684</th>\n",
       "      <td>2019</td>\n",
       "      <td>Hyundai</td>\n",
       "      <td>Ioniq Electric</td>\n",
       "      <td>0.0600</td>\n",
       "      <td>4.0</td>\n",
       "      <td>150.0</td>\n",
       "      <td>0.0</td>\n",
       "      <td>22.0</td>\n",
       "      <td>0.0</td>\n",
       "      <td>0.0</td>\n",
       "      <td>...</td>\n",
       "      <td>500.0</td>\n",
       "      <td>Electricity</td>\n",
       "      <td>10.0</td>\n",
       "      <td>122.0</td>\n",
       "      <td>0.0</td>\n",
       "      <td>28.0</td>\n",
       "      <td>0.0</td>\n",
       "      <td>40384.0</td>\n",
       "      <td>False</td>\n",
       "      <td>0.0</td>\n",
       "    </tr>\n",
       "  </tbody>\n",
       "</table>\n",
       "<p>5 rows × 26 columns</p>\n",
       "</div>"
      ],
      "text/plain": [
       "     Year Manufacturer           Model  barrels08  charge240  cityA08U  \\\n",
       "187  2017          Kia   Soul Electric     0.0768        4.0     119.0   \n",
       "239  2017      Hyundai  Ioniq Electric     0.0600        4.0     150.0   \n",
       "261  2017         Ford  Focus Electric     0.0744        5.0     118.0   \n",
       "561  2018       Nissan            Leaf     0.0720        8.0     125.0   \n",
       "684  2019      Hyundai  Ioniq Electric     0.0600        4.0     150.0   \n",
       "\n",
       "     cityCD  cityE  cityUF  co2A  ...  fuelCostA08    fuelType2  ghgScoreA  \\\n",
       "187     0.0   28.0     0.0   0.0  ...        650.0  Electricity       10.0   \n",
       "239     0.0   22.0     0.0   0.0  ...        500.0  Electricity       10.0   \n",
       "261     0.0   28.0     0.0   0.0  ...        650.0  Electricity       10.0   \n",
       "561     0.0   26.0     0.0   0.0  ...        650.0  Electricity       10.0   \n",
       "684     0.0   22.0     0.0   0.0  ...        500.0  Electricity       10.0   \n",
       "\n",
       "     highwayA08U  highwayCD  highwayE  highwayUF       id  phevBlended  \\\n",
       "187         92.0        0.0      36.0        0.0  38168.0        False   \n",
       "239        122.0        0.0      28.0        0.0  38431.0        False   \n",
       "261         95.0        0.0      35.0        0.0  38505.0        False   \n",
       "561         99.0        0.0      33.0        0.0  39860.0        False   \n",
       "684        122.0        0.0      28.0        0.0  40384.0        False   \n",
       "\n",
       "     charge240b  \n",
       "187         0.0  \n",
       "239         0.0  \n",
       "261         0.0  \n",
       "561         0.0  \n",
       "684         0.0  \n",
       "\n",
       "[5 rows x 26 columns]"
      ]
     },
     "execution_count": 23,
     "metadata": {},
     "output_type": "execute_result"
    }
   ],
   "source": [
    "Electric_car1 = df_fE_Gasoline[df_fE_Gasoline['fuelType1'] == 'Electricity']\n",
    "# Cambio el nombre de unas columnas para depués unirlo al otro dataframe\n",
    "Electric_car1 = Electric_car1.rename(columns = {'city08U':'cityA08U', 'co2':'co2A', 'comb08U':'combA08U',\n",
    "                                     'fuelCost08':'fuelCostA08', 'ghgScore':'ghgScoreA',\n",
    "                                     'highway08U':'highwayA08U', 'fuelType1':'fuelType2'})\n",
    "Electric_car1.head()"
   ]
  },
  {
   "cell_type": "markdown",
   "metadata": {},
   "source": [
    "\"*df_fE_Alternative*\" tendrá datos de vehículos que usan combustibles alternativos a la gasolina"
   ]
  },
  {
   "cell_type": "code",
   "execution_count": 24,
   "metadata": {},
   "outputs": [
    {
     "data": {
      "text/plain": [
       "array([nan, 'E85', 'Electricity', 'Natural Gas'], dtype=object)"
      ]
     },
     "execution_count": 24,
     "metadata": {},
     "output_type": "execute_result"
    }
   ],
   "source": [
    "df_fuelEconomy['fuelType2'].unique()\n",
    "# El dataset \"df_fE_Alternative\" tendrá vehículos que utilizan este tipo de combustibles"
   ]
  },
  {
   "cell_type": "code",
   "execution_count": 25,
   "metadata": {},
   "outputs": [],
   "source": [
    "# 2ndo dataset\n",
    "df = df_fuelEconomy[df_fuelEconomy['fuelType2'].notna()]\n",
    "df_fE_Alternative = df[['Year', 'Manufacturer', 'Model', 'barrels08', 'charge240', 'cityA08U', 'cityCD', 'cityE',\n",
    "                     'cityUF', 'co2A', 'combA08U', 'combE', 'combinedCD', 'combinedUF', 'cylinders', 'feScore',\n",
    "                     'fuelCostA08', 'fuelType2', 'ghgScoreA', 'highwayA08U', 'highwayCD', 'highwayE',\n",
    "                     'highwayUF', 'id', 'phevBlended', 'charge240b']]"
   ]
  },
  {
   "cell_type": "code",
   "execution_count": 26,
   "metadata": {},
   "outputs": [
    {
     "data": {
      "text/html": [
       "<div>\n",
       "<style scoped>\n",
       "    .dataframe tbody tr th:only-of-type {\n",
       "        vertical-align: middle;\n",
       "    }\n",
       "\n",
       "    .dataframe tbody tr th {\n",
       "        vertical-align: top;\n",
       "    }\n",
       "\n",
       "    .dataframe thead th {\n",
       "        text-align: right;\n",
       "    }\n",
       "</style>\n",
       "<table border=\"1\" class=\"dataframe\">\n",
       "  <thead>\n",
       "    <tr style=\"text-align: right;\">\n",
       "      <th></th>\n",
       "      <th>Year</th>\n",
       "      <th>Manufacturer</th>\n",
       "      <th>Model</th>\n",
       "      <th>barrels08</th>\n",
       "      <th>charge240</th>\n",
       "      <th>cityA08U</th>\n",
       "      <th>cityCD</th>\n",
       "      <th>cityE</th>\n",
       "      <th>cityUF</th>\n",
       "      <th>co2A</th>\n",
       "      <th>...</th>\n",
       "      <th>fuelCostA08</th>\n",
       "      <th>fuelType2</th>\n",
       "      <th>ghgScoreA</th>\n",
       "      <th>highwayA08U</th>\n",
       "      <th>highwayCD</th>\n",
       "      <th>highwayE</th>\n",
       "      <th>highwayUF</th>\n",
       "      <th>id</th>\n",
       "      <th>phevBlended</th>\n",
       "      <th>charge240b</th>\n",
       "    </tr>\n",
       "  </thead>\n",
       "  <tbody>\n",
       "    <tr>\n",
       "      <th>232</th>\n",
       "      <td>2017</td>\n",
       "      <td>Kia</td>\n",
       "      <td>Optima Plug-in Hybrid</td>\n",
       "      <td>3.224983</td>\n",
       "      <td>2.0</td>\n",
       "      <td>102.0</td>\n",
       "      <td>0.0</td>\n",
       "      <td>33.0</td>\n",
       "      <td>0.0</td>\n",
       "      <td>-1.0</td>\n",
       "      <td>...</td>\n",
       "      <td>0.0</td>\n",
       "      <td>Electricity</td>\n",
       "      <td>-1.0</td>\n",
       "      <td>104.0</td>\n",
       "      <td>0.0</td>\n",
       "      <td>32.0</td>\n",
       "      <td>0.0</td>\n",
       "      <td>38406.0</td>\n",
       "      <td>True</td>\n",
       "      <td>0.0</td>\n",
       "    </tr>\n",
       "    <tr>\n",
       "      <th>262</th>\n",
       "      <td>2017</td>\n",
       "      <td>Ford</td>\n",
       "      <td>C-MAX Energi Plug-In Hybrid</td>\n",
       "      <td>4.099308</td>\n",
       "      <td>2.0</td>\n",
       "      <td>103.0</td>\n",
       "      <td>0.0</td>\n",
       "      <td>33.0</td>\n",
       "      <td>0.0</td>\n",
       "      <td>-1.0</td>\n",
       "      <td>...</td>\n",
       "      <td>0.0</td>\n",
       "      <td>Electricity</td>\n",
       "      <td>-1.0</td>\n",
       "      <td>86.0</td>\n",
       "      <td>0.0</td>\n",
       "      <td>38.0</td>\n",
       "      <td>0.0</td>\n",
       "      <td>38506.0</td>\n",
       "      <td>True</td>\n",
       "      <td>0.0</td>\n",
       "    </tr>\n",
       "    <tr>\n",
       "      <th>298</th>\n",
       "      <td>2017</td>\n",
       "      <td>Cadillac</td>\n",
       "      <td>CT6 Plug-In</td>\n",
       "      <td>4.925935</td>\n",
       "      <td>4.0</td>\n",
       "      <td>56.0</td>\n",
       "      <td>0.0</td>\n",
       "      <td>59.0</td>\n",
       "      <td>0.0</td>\n",
       "      <td>-1.0</td>\n",
       "      <td>...</td>\n",
       "      <td>0.0</td>\n",
       "      <td>Electricity</td>\n",
       "      <td>-1.0</td>\n",
       "      <td>70.0</td>\n",
       "      <td>0.0</td>\n",
       "      <td>48.0</td>\n",
       "      <td>0.0</td>\n",
       "      <td>38650.0</td>\n",
       "      <td>True</td>\n",
       "      <td>0.0</td>\n",
       "    </tr>\n",
       "    <tr>\n",
       "      <th>423</th>\n",
       "      <td>2018</td>\n",
       "      <td>Chevrolet</td>\n",
       "      <td>Volt</td>\n",
       "      <td>1.739975</td>\n",
       "      <td>4.0</td>\n",
       "      <td>113.0</td>\n",
       "      <td>0.0</td>\n",
       "      <td>29.0</td>\n",
       "      <td>0.0</td>\n",
       "      <td>-1.0</td>\n",
       "      <td>...</td>\n",
       "      <td>650.0</td>\n",
       "      <td>Electricity</td>\n",
       "      <td>-1.0</td>\n",
       "      <td>99.0</td>\n",
       "      <td>0.0</td>\n",
       "      <td>34.0</td>\n",
       "      <td>0.0</td>\n",
       "      <td>39190.0</td>\n",
       "      <td>False</td>\n",
       "      <td>0.0</td>\n",
       "    </tr>\n",
       "    <tr>\n",
       "      <th>544</th>\n",
       "      <td>2018</td>\n",
       "      <td>Kia</td>\n",
       "      <td>Niro Plug-in Hybrid</td>\n",
       "      <td>3.023126</td>\n",
       "      <td>2.0</td>\n",
       "      <td>109.0</td>\n",
       "      <td>0.0</td>\n",
       "      <td>30.0</td>\n",
       "      <td>0.0</td>\n",
       "      <td>-1.0</td>\n",
       "      <td>...</td>\n",
       "      <td>0.0</td>\n",
       "      <td>Electricity</td>\n",
       "      <td>-1.0</td>\n",
       "      <td>99.0</td>\n",
       "      <td>0.0</td>\n",
       "      <td>34.0</td>\n",
       "      <td>0.0</td>\n",
       "      <td>39799.0</td>\n",
       "      <td>True</td>\n",
       "      <td>0.0</td>\n",
       "    </tr>\n",
       "  </tbody>\n",
       "</table>\n",
       "<p>5 rows × 26 columns</p>\n",
       "</div>"
      ],
      "text/plain": [
       "     Year Manufacturer                        Model  barrels08  charge240  \\\n",
       "232  2017          Kia        Optima Plug-in Hybrid   3.224983        2.0   \n",
       "262  2017         Ford  C-MAX Energi Plug-In Hybrid   4.099308        2.0   \n",
       "298  2017     Cadillac                  CT6 Plug-In   4.925935        4.0   \n",
       "423  2018    Chevrolet                         Volt   1.739975        4.0   \n",
       "544  2018          Kia          Niro Plug-in Hybrid   3.023126        2.0   \n",
       "\n",
       "     cityA08U  cityCD  cityE  cityUF  co2A  ...  fuelCostA08    fuelType2  \\\n",
       "232     102.0     0.0   33.0     0.0  -1.0  ...          0.0  Electricity   \n",
       "262     103.0     0.0   33.0     0.0  -1.0  ...          0.0  Electricity   \n",
       "298      56.0     0.0   59.0     0.0  -1.0  ...          0.0  Electricity   \n",
       "423     113.0     0.0   29.0     0.0  -1.0  ...        650.0  Electricity   \n",
       "544     109.0     0.0   30.0     0.0  -1.0  ...          0.0  Electricity   \n",
       "\n",
       "     ghgScoreA  highwayA08U  highwayCD  highwayE  highwayUF       id  \\\n",
       "232       -1.0        104.0        0.0      32.0        0.0  38406.0   \n",
       "262       -1.0         86.0        0.0      38.0        0.0  38506.0   \n",
       "298       -1.0         70.0        0.0      48.0        0.0  38650.0   \n",
       "423       -1.0         99.0        0.0      34.0        0.0  39190.0   \n",
       "544       -1.0         99.0        0.0      34.0        0.0  39799.0   \n",
       "\n",
       "     phevBlended  charge240b  \n",
       "232         True         0.0  \n",
       "262         True         0.0  \n",
       "298         True         0.0  \n",
       "423        False         0.0  \n",
       "544         True         0.0  \n",
       "\n",
       "[5 rows x 26 columns]"
      ]
     },
     "execution_count": 26,
     "metadata": {},
     "output_type": "execute_result"
    }
   ],
   "source": [
    "# Extraigo los autos eléctricos de \"_Alternative\" para generar el nuevo data set de vehículos eléctricos\n",
    "Electric_car2 = df_fE_Alternative[df_fE_Alternative['fuelType2'] == 'Electricity']\n",
    "Electric_car2.head()"
   ]
  },
  {
   "cell_type": "code",
   "execution_count": 27,
   "metadata": {},
   "outputs": [],
   "source": [
    "# Agrego los vehículos que funcionan con gas natural al dataset con vehículos que utilizan combustible alternativo\n",
    "df_fE_Alternative = pd.concat([df_fE_Alternative, Gas_car])"
   ]
  },
  {
   "cell_type": "code",
   "execution_count": 28,
   "metadata": {},
   "outputs": [],
   "source": [
    "# Quito los autos eléctricos del data set con vehículos de gasolina y diesel\n",
    "df_fE_Gasoline.drop(Electric_car1.index.to_list(), axis = 0, inplace = True)\n",
    "# Quito los autos que consumen gas natural del data set con vehículos de gasolina y diesel\n",
    "df_fE_Gasoline.drop(Gas_car.index.to_list(), axis = 0, inplace = True)\n",
    "# Quito los autos eléctricos del data set con vehículos que utilizan un combustible alternativo\n",
    "df_fE_Alternative.drop(Electric_car2.index.to_list(), axis = 0, inplace = True)"
   ]
  },
  {
   "cell_type": "markdown",
   "metadata": {},
   "source": [
    "Creo un nuevo dataset que incluye solo vehículos eléctricos"
   ]
  },
  {
   "cell_type": "code",
   "execution_count": 29,
   "metadata": {},
   "outputs": [
    {
     "data": {
      "text/html": [
       "<div>\n",
       "<style scoped>\n",
       "    .dataframe tbody tr th:only-of-type {\n",
       "        vertical-align: middle;\n",
       "    }\n",
       "\n",
       "    .dataframe tbody tr th {\n",
       "        vertical-align: top;\n",
       "    }\n",
       "\n",
       "    .dataframe thead th {\n",
       "        text-align: right;\n",
       "    }\n",
       "</style>\n",
       "<table border=\"1\" class=\"dataframe\">\n",
       "  <thead>\n",
       "    <tr style=\"text-align: right;\">\n",
       "      <th></th>\n",
       "      <th>Year</th>\n",
       "      <th>Manufacturer</th>\n",
       "      <th>Model</th>\n",
       "      <th>barrels08</th>\n",
       "      <th>charge240</th>\n",
       "      <th>cityA08U</th>\n",
       "      <th>cityCD</th>\n",
       "      <th>cityE</th>\n",
       "      <th>cityUF</th>\n",
       "      <th>co2A</th>\n",
       "      <th>...</th>\n",
       "      <th>fuelCostA08</th>\n",
       "      <th>fuelType2</th>\n",
       "      <th>ghgScoreA</th>\n",
       "      <th>highwayA08U</th>\n",
       "      <th>highwayCD</th>\n",
       "      <th>highwayE</th>\n",
       "      <th>highwayUF</th>\n",
       "      <th>id</th>\n",
       "      <th>phevBlended</th>\n",
       "      <th>charge240b</th>\n",
       "    </tr>\n",
       "  </thead>\n",
       "  <tbody>\n",
       "    <tr>\n",
       "      <th>187</th>\n",
       "      <td>2017</td>\n",
       "      <td>Kia</td>\n",
       "      <td>Soul Electric</td>\n",
       "      <td>0.0768</td>\n",
       "      <td>4.0</td>\n",
       "      <td>119.0</td>\n",
       "      <td>0.0</td>\n",
       "      <td>28.0</td>\n",
       "      <td>0.0</td>\n",
       "      <td>0.0</td>\n",
       "      <td>...</td>\n",
       "      <td>650.0</td>\n",
       "      <td>Electricity</td>\n",
       "      <td>10.0</td>\n",
       "      <td>92.0</td>\n",
       "      <td>0.0</td>\n",
       "      <td>36.0</td>\n",
       "      <td>0.0</td>\n",
       "      <td>38168.0</td>\n",
       "      <td>False</td>\n",
       "      <td>0.0</td>\n",
       "    </tr>\n",
       "    <tr>\n",
       "      <th>239</th>\n",
       "      <td>2017</td>\n",
       "      <td>Hyundai</td>\n",
       "      <td>Ioniq Electric</td>\n",
       "      <td>0.0600</td>\n",
       "      <td>4.0</td>\n",
       "      <td>150.0</td>\n",
       "      <td>0.0</td>\n",
       "      <td>22.0</td>\n",
       "      <td>0.0</td>\n",
       "      <td>0.0</td>\n",
       "      <td>...</td>\n",
       "      <td>500.0</td>\n",
       "      <td>Electricity</td>\n",
       "      <td>10.0</td>\n",
       "      <td>122.0</td>\n",
       "      <td>0.0</td>\n",
       "      <td>28.0</td>\n",
       "      <td>0.0</td>\n",
       "      <td>38431.0</td>\n",
       "      <td>False</td>\n",
       "      <td>0.0</td>\n",
       "    </tr>\n",
       "    <tr>\n",
       "      <th>261</th>\n",
       "      <td>2017</td>\n",
       "      <td>Ford</td>\n",
       "      <td>Focus Electric</td>\n",
       "      <td>0.0744</td>\n",
       "      <td>5.0</td>\n",
       "      <td>118.0</td>\n",
       "      <td>0.0</td>\n",
       "      <td>28.0</td>\n",
       "      <td>0.0</td>\n",
       "      <td>0.0</td>\n",
       "      <td>...</td>\n",
       "      <td>650.0</td>\n",
       "      <td>Electricity</td>\n",
       "      <td>10.0</td>\n",
       "      <td>95.0</td>\n",
       "      <td>0.0</td>\n",
       "      <td>35.0</td>\n",
       "      <td>0.0</td>\n",
       "      <td>38505.0</td>\n",
       "      <td>False</td>\n",
       "      <td>0.0</td>\n",
       "    </tr>\n",
       "    <tr>\n",
       "      <th>561</th>\n",
       "      <td>2018</td>\n",
       "      <td>Nissan</td>\n",
       "      <td>Leaf</td>\n",
       "      <td>0.0720</td>\n",
       "      <td>8.0</td>\n",
       "      <td>125.0</td>\n",
       "      <td>0.0</td>\n",
       "      <td>26.0</td>\n",
       "      <td>0.0</td>\n",
       "      <td>0.0</td>\n",
       "      <td>...</td>\n",
       "      <td>650.0</td>\n",
       "      <td>Electricity</td>\n",
       "      <td>10.0</td>\n",
       "      <td>99.0</td>\n",
       "      <td>0.0</td>\n",
       "      <td>33.0</td>\n",
       "      <td>0.0</td>\n",
       "      <td>39860.0</td>\n",
       "      <td>False</td>\n",
       "      <td>0.0</td>\n",
       "    </tr>\n",
       "    <tr>\n",
       "      <th>684</th>\n",
       "      <td>2019</td>\n",
       "      <td>Hyundai</td>\n",
       "      <td>Ioniq Electric</td>\n",
       "      <td>0.0600</td>\n",
       "      <td>4.0</td>\n",
       "      <td>150.0</td>\n",
       "      <td>0.0</td>\n",
       "      <td>22.0</td>\n",
       "      <td>0.0</td>\n",
       "      <td>0.0</td>\n",
       "      <td>...</td>\n",
       "      <td>500.0</td>\n",
       "      <td>Electricity</td>\n",
       "      <td>10.0</td>\n",
       "      <td>122.0</td>\n",
       "      <td>0.0</td>\n",
       "      <td>28.0</td>\n",
       "      <td>0.0</td>\n",
       "      <td>40384.0</td>\n",
       "      <td>False</td>\n",
       "      <td>0.0</td>\n",
       "    </tr>\n",
       "  </tbody>\n",
       "</table>\n",
       "<p>5 rows × 26 columns</p>\n",
       "</div>"
      ],
      "text/plain": [
       "     Year Manufacturer           Model  barrels08  charge240  cityA08U  \\\n",
       "187  2017          Kia   Soul Electric     0.0768        4.0     119.0   \n",
       "239  2017      Hyundai  Ioniq Electric     0.0600        4.0     150.0   \n",
       "261  2017         Ford  Focus Electric     0.0744        5.0     118.0   \n",
       "561  2018       Nissan            Leaf     0.0720        8.0     125.0   \n",
       "684  2019      Hyundai  Ioniq Electric     0.0600        4.0     150.0   \n",
       "\n",
       "     cityCD  cityE  cityUF  co2A  ...  fuelCostA08    fuelType2  ghgScoreA  \\\n",
       "187     0.0   28.0     0.0   0.0  ...        650.0  Electricity       10.0   \n",
       "239     0.0   22.0     0.0   0.0  ...        500.0  Electricity       10.0   \n",
       "261     0.0   28.0     0.0   0.0  ...        650.0  Electricity       10.0   \n",
       "561     0.0   26.0     0.0   0.0  ...        650.0  Electricity       10.0   \n",
       "684     0.0   22.0     0.0   0.0  ...        500.0  Electricity       10.0   \n",
       "\n",
       "     highwayA08U  highwayCD  highwayE  highwayUF       id  phevBlended  \\\n",
       "187         92.0        0.0      36.0        0.0  38168.0        False   \n",
       "239        122.0        0.0      28.0        0.0  38431.0        False   \n",
       "261         95.0        0.0      35.0        0.0  38505.0        False   \n",
       "561         99.0        0.0      33.0        0.0  39860.0        False   \n",
       "684        122.0        0.0      28.0        0.0  40384.0        False   \n",
       "\n",
       "     charge240b  \n",
       "187         0.0  \n",
       "239         0.0  \n",
       "261         0.0  \n",
       "561         0.0  \n",
       "684         0.0  \n",
       "\n",
       "[5 rows x 26 columns]"
      ]
     },
     "execution_count": 29,
     "metadata": {},
     "output_type": "execute_result"
    }
   ],
   "source": [
    "# 3er dataset\n",
    "df_fE_Electricity = pd.concat([Electric_car1, Electric_car2])\n",
    "df_fE_Electricity.head()"
   ]
  },
  {
   "cell_type": "code",
   "execution_count": 30,
   "metadata": {},
   "outputs": [
    {
     "data": {
      "text/plain": [
       "Year            0\n",
       "Manufacturer    0\n",
       "Model           0\n",
       "barrels08       0\n",
       "charge240       0\n",
       "city08U         0\n",
       "cityCD          0\n",
       "cityE           0\n",
       "cityUF          0\n",
       "co2             0\n",
       "comb08U         0\n",
       "combE           0\n",
       "combinedCD      0\n",
       "combinedUF      0\n",
       "cylinders       0\n",
       "feScore         0\n",
       "fuelCost08      0\n",
       "fuelType1       0\n",
       "ghgScore        0\n",
       "highway08U      0\n",
       "highwayCD       0\n",
       "highwayE        0\n",
       "highwayUF       0\n",
       "id              0\n",
       "phevBlended     0\n",
       "charge240b      0\n",
       "dtype: int64"
      ]
     },
     "execution_count": 30,
     "metadata": {},
     "output_type": "execute_result"
    }
   ],
   "source": [
    "# Busco valores nulos en el dataset de vehículos que funcionan con gasolina y diesel\n",
    "df_fE_Gasoline.isna().sum()"
   ]
  },
  {
   "cell_type": "code",
   "execution_count": 31,
   "metadata": {},
   "outputs": [
    {
     "name": "stdout",
     "output_type": "stream",
     "text": [
      "<class 'pandas.core.frame.DataFrame'>\n",
      "RangeIndex: 5253 entries, 0 to 5252\n",
      "Data columns (total 26 columns):\n",
      " #   Column        Non-Null Count  Dtype  \n",
      "---  ------        --------------  -----  \n",
      " 0   Year          5253 non-null   int64  \n",
      " 1   Manufacturer  5253 non-null   object \n",
      " 2   Model         5253 non-null   object \n",
      " 3   barrels08     5253 non-null   float64\n",
      " 4   charge240     5253 non-null   float64\n",
      " 5   city08U       5253 non-null   float64\n",
      " 6   cityCD        5253 non-null   float64\n",
      " 7   cityE         5253 non-null   float64\n",
      " 8   cityUF        5253 non-null   float64\n",
      " 9   co2           5253 non-null   float64\n",
      " 10  comb08U       5253 non-null   float64\n",
      " 11  combE         5253 non-null   float64\n",
      " 12  combinedCD    5253 non-null   float64\n",
      " 13  combinedUF    5253 non-null   float64\n",
      " 14  cylinders     5253 non-null   float64\n",
      " 15  feScore       5253 non-null   float64\n",
      " 16  fuelCost08    5253 non-null   float64\n",
      " 17  fuelType1     5253 non-null   object \n",
      " 18  ghgScore      5253 non-null   float64\n",
      " 19  highway08U    5253 non-null   float64\n",
      " 20  highwayCD     5253 non-null   float64\n",
      " 21  highwayE      5253 non-null   float64\n",
      " 22  highwayUF     5253 non-null   float64\n",
      " 23  id            5253 non-null   float64\n",
      " 24  phevBlended   5253 non-null   object \n",
      " 25  charge240b    5253 non-null   float64\n",
      "dtypes: float64(21), int64(1), object(4)\n",
      "memory usage: 1.0+ MB\n"
     ]
    }
   ],
   "source": [
    "# Reseteo los índices y veo la información del dataset \"df_fE_Gasoline\"\n",
    "df_fE_Gasoline = df_fE_Gasoline.reset_index(drop = True)\n",
    "df_fE_Gasoline.info()"
   ]
  },
  {
   "cell_type": "code",
   "execution_count": 32,
   "metadata": {},
   "outputs": [
    {
     "data": {
      "text/html": [
       "<div>\n",
       "<style scoped>\n",
       "    .dataframe tbody tr th:only-of-type {\n",
       "        vertical-align: middle;\n",
       "    }\n",
       "\n",
       "    .dataframe tbody tr th {\n",
       "        vertical-align: top;\n",
       "    }\n",
       "\n",
       "    .dataframe thead th {\n",
       "        text-align: right;\n",
       "    }\n",
       "</style>\n",
       "<table border=\"1\" class=\"dataframe\">\n",
       "  <thead>\n",
       "    <tr style=\"text-align: right;\">\n",
       "      <th></th>\n",
       "      <th>Year</th>\n",
       "      <th>Manufacturer</th>\n",
       "      <th>Model</th>\n",
       "      <th>barrels08</th>\n",
       "      <th>charge240</th>\n",
       "      <th>city08U</th>\n",
       "      <th>cityCD</th>\n",
       "      <th>cityE</th>\n",
       "      <th>cityUF</th>\n",
       "      <th>co2</th>\n",
       "      <th>...</th>\n",
       "      <th>fuelCost08</th>\n",
       "      <th>fuelType1</th>\n",
       "      <th>ghgScore</th>\n",
       "      <th>highway08U</th>\n",
       "      <th>highwayCD</th>\n",
       "      <th>highwayE</th>\n",
       "      <th>highwayUF</th>\n",
       "      <th>id</th>\n",
       "      <th>phevBlended</th>\n",
       "      <th>charge240b</th>\n",
       "    </tr>\n",
       "  </thead>\n",
       "  <tbody>\n",
       "  </tbody>\n",
       "</table>\n",
       "<p>0 rows × 26 columns</p>\n",
       "</div>"
      ],
      "text/plain": [
       "Empty DataFrame\n",
       "Columns: [Year, Manufacturer, Model, barrels08, charge240, city08U, cityCD, cityE, cityUF, co2, comb08U, combE, combinedCD, combinedUF, cylinders, feScore, fuelCost08, fuelType1, ghgScore, highway08U, highwayCD, highwayE, highwayUF, id, phevBlended, charge240b]\n",
       "Index: []\n",
       "\n",
       "[0 rows x 26 columns]"
      ]
     },
     "execution_count": 32,
     "metadata": {},
     "output_type": "execute_result"
    }
   ],
   "source": [
    "# Busco filas duplicadas\n",
    "df_fE_Gasoline[df_fE_Gasoline.duplicated()]"
   ]
  },
  {
   "cell_type": "markdown",
   "metadata": {},
   "source": [
    "Modifico el tipo de datos de algunos campos para ver mejor el contenido de los elementos del dataset"
   ]
  },
  {
   "cell_type": "code",
   "execution_count": 33,
   "metadata": {},
   "outputs": [],
   "source": [
    "df_fE_Gasoline['Year'] = df_fE_Gasoline['Year'].astype(str)\n",
    "df_fE_Gasoline['feScore'] = df_fE_Gasoline['feScore'].astype(int)\n",
    "df_fE_Gasoline['ghgScore']= df_fE_Gasoline['ghgScore'].astype(int)\n",
    "df_fE_Gasoline['id'] = df_fE_Gasoline['id'].astype(int)\n",
    "df_fE_Gasoline['id'] = df_fE_Gasoline['id'].astype(str)"
   ]
  },
  {
   "cell_type": "code",
   "execution_count": 34,
   "metadata": {},
   "outputs": [
    {
     "data": {
      "text/html": [
       "<div>\n",
       "<style scoped>\n",
       "    .dataframe tbody tr th:only-of-type {\n",
       "        vertical-align: middle;\n",
       "    }\n",
       "\n",
       "    .dataframe tbody tr th {\n",
       "        vertical-align: top;\n",
       "    }\n",
       "\n",
       "    .dataframe thead th {\n",
       "        text-align: right;\n",
       "    }\n",
       "</style>\n",
       "<table border=\"1\" class=\"dataframe\">\n",
       "  <thead>\n",
       "    <tr style=\"text-align: right;\">\n",
       "      <th></th>\n",
       "      <th>Year</th>\n",
       "      <th>Manufacturer</th>\n",
       "      <th>Model</th>\n",
       "      <th>fuelType1</th>\n",
       "      <th>id</th>\n",
       "      <th>phevBlended</th>\n",
       "    </tr>\n",
       "  </thead>\n",
       "  <tbody>\n",
       "    <tr>\n",
       "      <th>count</th>\n",
       "      <td>5253</td>\n",
       "      <td>5253</td>\n",
       "      <td>5253</td>\n",
       "      <td>5253</td>\n",
       "      <td>5253</td>\n",
       "      <td>5253</td>\n",
       "    </tr>\n",
       "    <tr>\n",
       "      <th>unique</th>\n",
       "      <td>15</td>\n",
       "      <td>41</td>\n",
       "      <td>747</td>\n",
       "      <td>4</td>\n",
       "      <td>5253</td>\n",
       "      <td>2</td>\n",
       "    </tr>\n",
       "    <tr>\n",
       "      <th>top</th>\n",
       "      <td>2014</td>\n",
       "      <td>BMW</td>\n",
       "      <td>Jetta</td>\n",
       "      <td>Regular Gasoline</td>\n",
       "      <td>37348</td>\n",
       "      <td>False</td>\n",
       "    </tr>\n",
       "    <tr>\n",
       "      <th>freq</th>\n",
       "      <td>447</td>\n",
       "      <td>511</td>\n",
       "      <td>71</td>\n",
       "      <td>2646</td>\n",
       "      <td>1</td>\n",
       "      <td>5150</td>\n",
       "    </tr>\n",
       "  </tbody>\n",
       "</table>\n",
       "</div>"
      ],
      "text/plain": [
       "        Year Manufacturer  Model         fuelType1     id phevBlended\n",
       "count   5253         5253   5253              5253   5253        5253\n",
       "unique    15           41    747                 4   5253           2\n",
       "top     2014          BMW  Jetta  Regular Gasoline  37348       False\n",
       "freq     447          511     71              2646      1        5150"
      ]
     },
     "execution_count": 34,
     "metadata": {},
     "output_type": "execute_result"
    }
   ],
   "source": [
    "# Veo una descripción de los datos cuantitativos\n",
    "df_fE_Gasoline.describe(include = ['O'])"
   ]
  },
  {
   "cell_type": "code",
   "execution_count": 35,
   "metadata": {},
   "outputs": [
    {
     "name": "stdout",
     "output_type": "stream",
     "text": [
      "Los valores únicos del campo 'phevBlended' son: [False, True]\n"
     ]
    }
   ],
   "source": [
    "print(\"Los valores únicos del campo 'phevBlended' son:\", df_fE_Gasoline['phevBlended'].unique().tolist())"
   ]
  },
  {
   "cell_type": "markdown",
   "metadata": {},
   "source": [
    "Lo anterior significa que en este dataset también hay autos híbridos."
   ]
  },
  {
   "cell_type": "code",
   "execution_count": 36,
   "metadata": {},
   "outputs": [],
   "source": [
    "# Exporto el dataset df_fE_Gasoline\n",
    "df_fE_Gasoline.to_csv('Datasets_procesados_cars/Vehicle-Gasoline.csv')"
   ]
  },
  {
   "cell_type": "code",
   "execution_count": 37,
   "metadata": {},
   "outputs": [
    {
     "data": {
      "text/plain": [
       "Year            0\n",
       "Manufacturer    0\n",
       "Model           0\n",
       "barrels08       0\n",
       "charge240       0\n",
       "cityA08U        0\n",
       "cityCD          0\n",
       "cityE           0\n",
       "cityUF          0\n",
       "co2A            0\n",
       "combA08U        0\n",
       "combE           0\n",
       "combinedCD      0\n",
       "combinedUF      0\n",
       "cylinders       0\n",
       "feScore         0\n",
       "fuelCostA08     0\n",
       "fuelType2       0\n",
       "ghgScoreA       0\n",
       "highwayA08U     0\n",
       "highwayCD       0\n",
       "highwayE        0\n",
       "highwayUF       0\n",
       "id              0\n",
       "phevBlended     0\n",
       "charge240b      0\n",
       "dtype: int64"
      ]
     },
     "execution_count": 37,
     "metadata": {},
     "output_type": "execute_result"
    }
   ],
   "source": [
    "# Busco valores nulos en el dataset de vehículos que funcionan con combustibles alternativos\n",
    "df_fE_Alternative.isna().sum()"
   ]
  },
  {
   "cell_type": "code",
   "execution_count": 38,
   "metadata": {},
   "outputs": [
    {
     "name": "stdout",
     "output_type": "stream",
     "text": [
      "<class 'pandas.core.frame.DataFrame'>\n",
      "RangeIndex: 154 entries, 0 to 153\n",
      "Data columns (total 26 columns):\n",
      " #   Column        Non-Null Count  Dtype  \n",
      "---  ------        --------------  -----  \n",
      " 0   Year          154 non-null    int64  \n",
      " 1   Manufacturer  154 non-null    object \n",
      " 2   Model         154 non-null    object \n",
      " 3   barrels08     154 non-null    float64\n",
      " 4   charge240     154 non-null    float64\n",
      " 5   cityA08U      154 non-null    float64\n",
      " 6   cityCD        154 non-null    float64\n",
      " 7   cityE         154 non-null    float64\n",
      " 8   cityUF        154 non-null    float64\n",
      " 9   co2A          154 non-null    float64\n",
      " 10  combA08U      154 non-null    float64\n",
      " 11  combE         154 non-null    float64\n",
      " 12  combinedCD    154 non-null    float64\n",
      " 13  combinedUF    154 non-null    float64\n",
      " 14  cylinders     154 non-null    float64\n",
      " 15  feScore       154 non-null    float64\n",
      " 16  fuelCostA08   154 non-null    float64\n",
      " 17  fuelType2     154 non-null    object \n",
      " 18  ghgScoreA     154 non-null    float64\n",
      " 19  highwayA08U   154 non-null    float64\n",
      " 20  highwayCD     154 non-null    float64\n",
      " 21  highwayE      154 non-null    float64\n",
      " 22  highwayUF     154 non-null    float64\n",
      " 23  id            154 non-null    float64\n",
      " 24  phevBlended   154 non-null    object \n",
      " 25  charge240b    154 non-null    float64\n",
      "dtypes: float64(21), int64(1), object(4)\n",
      "memory usage: 31.4+ KB\n"
     ]
    }
   ],
   "source": [
    "# Reseteo los índices y veo la información del dataset \"df_fE_Gasoline\"\n",
    "df_fE_Alternative = df_fE_Alternative.reset_index(drop = True)\n",
    "df_fE_Alternative.info()"
   ]
  },
  {
   "cell_type": "code",
   "execution_count": 39,
   "metadata": {},
   "outputs": [
    {
     "data": {
      "text/html": [
       "<div>\n",
       "<style scoped>\n",
       "    .dataframe tbody tr th:only-of-type {\n",
       "        vertical-align: middle;\n",
       "    }\n",
       "\n",
       "    .dataframe tbody tr th {\n",
       "        vertical-align: top;\n",
       "    }\n",
       "\n",
       "    .dataframe thead th {\n",
       "        text-align: right;\n",
       "    }\n",
       "</style>\n",
       "<table border=\"1\" class=\"dataframe\">\n",
       "  <thead>\n",
       "    <tr style=\"text-align: right;\">\n",
       "      <th></th>\n",
       "      <th>Year</th>\n",
       "      <th>Manufacturer</th>\n",
       "      <th>Model</th>\n",
       "      <th>barrels08</th>\n",
       "      <th>charge240</th>\n",
       "      <th>cityA08U</th>\n",
       "      <th>cityCD</th>\n",
       "      <th>cityE</th>\n",
       "      <th>cityUF</th>\n",
       "      <th>co2A</th>\n",
       "      <th>...</th>\n",
       "      <th>fuelCostA08</th>\n",
       "      <th>fuelType2</th>\n",
       "      <th>ghgScoreA</th>\n",
       "      <th>highwayA08U</th>\n",
       "      <th>highwayCD</th>\n",
       "      <th>highwayE</th>\n",
       "      <th>highwayUF</th>\n",
       "      <th>id</th>\n",
       "      <th>phevBlended</th>\n",
       "      <th>charge240b</th>\n",
       "    </tr>\n",
       "  </thead>\n",
       "  <tbody>\n",
       "  </tbody>\n",
       "</table>\n",
       "<p>0 rows × 26 columns</p>\n",
       "</div>"
      ],
      "text/plain": [
       "Empty DataFrame\n",
       "Columns: [Year, Manufacturer, Model, barrels08, charge240, cityA08U, cityCD, cityE, cityUF, co2A, combA08U, combE, combinedCD, combinedUF, cylinders, feScore, fuelCostA08, fuelType2, ghgScoreA, highwayA08U, highwayCD, highwayE, highwayUF, id, phevBlended, charge240b]\n",
       "Index: []\n",
       "\n",
       "[0 rows x 26 columns]"
      ]
     },
     "execution_count": 39,
     "metadata": {},
     "output_type": "execute_result"
    }
   ],
   "source": [
    "# Busco filas duplicadas\n",
    "df_fE_Alternative[df_fE_Alternative.duplicated()]"
   ]
  },
  {
   "cell_type": "markdown",
   "metadata": {},
   "source": [
    "Modifico el tipo de datos de algunos campos para ver mejor el contenido de los elementos del dataset"
   ]
  },
  {
   "cell_type": "code",
   "execution_count": 40,
   "metadata": {},
   "outputs": [],
   "source": [
    "df_fE_Alternative['Year'] = df_fE_Alternative['Year'].astype(str)\n",
    "df_fE_Alternative['feScore'] = df_fE_Alternative['feScore'].astype(int)\n",
    "df_fE_Alternative['ghgScoreA']= df_fE_Alternative['ghgScoreA'].astype(int)\n",
    "df_fE_Alternative['id'] = df_fE_Alternative['id'].astype(int)\n",
    "df_fE_Alternative['id'] = df_fE_Alternative['id'].astype(str)"
   ]
  },
  {
   "cell_type": "code",
   "execution_count": 41,
   "metadata": {},
   "outputs": [
    {
     "data": {
      "text/html": [
       "<div>\n",
       "<style scoped>\n",
       "    .dataframe tbody tr th:only-of-type {\n",
       "        vertical-align: middle;\n",
       "    }\n",
       "\n",
       "    .dataframe tbody tr th {\n",
       "        vertical-align: top;\n",
       "    }\n",
       "\n",
       "    .dataframe thead th {\n",
       "        text-align: right;\n",
       "    }\n",
       "</style>\n",
       "<table border=\"1\" class=\"dataframe\">\n",
       "  <thead>\n",
       "    <tr style=\"text-align: right;\">\n",
       "      <th></th>\n",
       "      <th>Year</th>\n",
       "      <th>Manufacturer</th>\n",
       "      <th>Model</th>\n",
       "      <th>fuelType2</th>\n",
       "      <th>id</th>\n",
       "      <th>phevBlended</th>\n",
       "    </tr>\n",
       "  </thead>\n",
       "  <tbody>\n",
       "    <tr>\n",
       "      <th>count</th>\n",
       "      <td>154</td>\n",
       "      <td>154</td>\n",
       "      <td>154</td>\n",
       "      <td>154</td>\n",
       "      <td>154</td>\n",
       "      <td>154</td>\n",
       "    </tr>\n",
       "    <tr>\n",
       "      <th>unique</th>\n",
       "      <td>10</td>\n",
       "      <td>15</td>\n",
       "      <td>42</td>\n",
       "      <td>2</td>\n",
       "      <td>154</td>\n",
       "      <td>1</td>\n",
       "    </tr>\n",
       "    <tr>\n",
       "      <th>top</th>\n",
       "      <td>2012</td>\n",
       "      <td>Ford</td>\n",
       "      <td>Focus FWD FFV</td>\n",
       "      <td>E85</td>\n",
       "      <td>38099</td>\n",
       "      <td>False</td>\n",
       "    </tr>\n",
       "    <tr>\n",
       "      <th>freq</th>\n",
       "      <td>31</td>\n",
       "      <td>27</td>\n",
       "      <td>18</td>\n",
       "      <td>148</td>\n",
       "      <td>1</td>\n",
       "      <td>154</td>\n",
       "    </tr>\n",
       "  </tbody>\n",
       "</table>\n",
       "</div>"
      ],
      "text/plain": [
       "        Year Manufacturer          Model fuelType2     id phevBlended\n",
       "count    154          154            154       154    154         154\n",
       "unique    10           15             42         2    154           1\n",
       "top     2012         Ford  Focus FWD FFV       E85  38099       False\n",
       "freq      31           27             18       148      1         154"
      ]
     },
     "execution_count": 41,
     "metadata": {},
     "output_type": "execute_result"
    }
   ],
   "source": [
    "# Veo una descripción de los datos cuantitativos\n",
    "df_fE_Alternative.describe(include = ['O'])"
   ]
  },
  {
   "cell_type": "code",
   "execution_count": 42,
   "metadata": {},
   "outputs": [
    {
     "name": "stdout",
     "output_type": "stream",
     "text": [
      "El valor único del campo 'phevBlended' es: [False]\n"
     ]
    }
   ],
   "source": [
    "print(\"El valor único del campo 'phevBlended' es:\", df_fE_Alternative['phevBlended'].unique().tolist())"
   ]
  },
  {
   "cell_type": "markdown",
   "metadata": {},
   "source": [
    "Lo anterior era de esperarse, ya que son vehículos que funcionan con combustibles alternativos a la gasolina, y el campo 'phevBlended' indica una combinación de trabajo del motor con gasolina y eléctrico, cosa que es especial para autos híbridos"
   ]
  },
  {
   "cell_type": "code",
   "execution_count": 43,
   "metadata": {},
   "outputs": [],
   "source": [
    "# Exporto el dataset df_fE_Alternative\n",
    "df_fE_Alternative.to_csv('Datasets_procesados_cars/Vehicle-Alternative.csv')"
   ]
  },
  {
   "cell_type": "code",
   "execution_count": 44,
   "metadata": {},
   "outputs": [
    {
     "data": {
      "text/plain": [
       "Year              0\n",
       "Manufacturer      0\n",
       "Model             0\n",
       "barrels08         0\n",
       "charge240         0\n",
       "cityA08U          0\n",
       "cityCD            0\n",
       "cityE             0\n",
       "cityUF            0\n",
       "co2A              0\n",
       "combA08U          0\n",
       "combE             0\n",
       "combinedCD        0\n",
       "combinedUF        0\n",
       "cylinders       164\n",
       "feScore           0\n",
       "fuelCostA08       0\n",
       "fuelType2         0\n",
       "ghgScoreA         0\n",
       "highwayA08U       0\n",
       "highwayCD         0\n",
       "highwayE          0\n",
       "highwayUF         0\n",
       "id                0\n",
       "phevBlended       0\n",
       "charge240b        0\n",
       "dtype: int64"
      ]
     },
     "execution_count": 44,
     "metadata": {},
     "output_type": "execute_result"
    }
   ],
   "source": [
    "# Busco valores nulos en el dataset de vehículos eléctricos\n",
    "df_fE_Electricity.isna().sum()"
   ]
  },
  {
   "cell_type": "markdown",
   "metadata": {},
   "source": [
    "Los vehículos que tienen algún valor en el campo **cylinders** es porque son híbridos"
   ]
  },
  {
   "cell_type": "code",
   "execution_count": 45,
   "metadata": {},
   "outputs": [
    {
     "name": "stdout",
     "output_type": "stream",
     "text": [
      "<class 'pandas.core.frame.DataFrame'>\n",
      "RangeIndex: 276 entries, 0 to 275\n",
      "Data columns (total 26 columns):\n",
      " #   Column        Non-Null Count  Dtype  \n",
      "---  ------        --------------  -----  \n",
      " 0   Year          276 non-null    int64  \n",
      " 1   Manufacturer  276 non-null    object \n",
      " 2   Model         276 non-null    object \n",
      " 3   barrels08     276 non-null    float64\n",
      " 4   charge240     276 non-null    float64\n",
      " 5   cityA08U      276 non-null    float64\n",
      " 6   cityCD        276 non-null    float64\n",
      " 7   cityE         276 non-null    float64\n",
      " 8   cityUF        276 non-null    float64\n",
      " 9   co2A          276 non-null    float64\n",
      " 10  combA08U      276 non-null    float64\n",
      " 11  combE         276 non-null    float64\n",
      " 12  combinedCD    276 non-null    float64\n",
      " 13  combinedUF    276 non-null    float64\n",
      " 14  cylinders     112 non-null    float64\n",
      " 15  feScore       276 non-null    float64\n",
      " 16  fuelCostA08   276 non-null    float64\n",
      " 17  fuelType2     276 non-null    object \n",
      " 18  ghgScoreA     276 non-null    float64\n",
      " 19  highwayA08U   276 non-null    float64\n",
      " 20  highwayCD     276 non-null    float64\n",
      " 21  highwayE      276 non-null    float64\n",
      " 22  highwayUF     276 non-null    float64\n",
      " 23  id            276 non-null    float64\n",
      " 24  phevBlended   276 non-null    object \n",
      " 25  charge240b    276 non-null    float64\n",
      "dtypes: float64(21), int64(1), object(4)\n",
      "memory usage: 56.2+ KB\n"
     ]
    }
   ],
   "source": [
    "# Reseteo los índices y veo la información del dataset \"df_fE_Electricity\"\n",
    "df_fE_Electricity = df_fE_Electricity.reset_index(drop = True)\n",
    "df_fE_Electricity.info()"
   ]
  },
  {
   "cell_type": "code",
   "execution_count": 46,
   "metadata": {},
   "outputs": [
    {
     "data": {
      "text/html": [
       "<div>\n",
       "<style scoped>\n",
       "    .dataframe tbody tr th:only-of-type {\n",
       "        vertical-align: middle;\n",
       "    }\n",
       "\n",
       "    .dataframe tbody tr th {\n",
       "        vertical-align: top;\n",
       "    }\n",
       "\n",
       "    .dataframe thead th {\n",
       "        text-align: right;\n",
       "    }\n",
       "</style>\n",
       "<table border=\"1\" class=\"dataframe\">\n",
       "  <thead>\n",
       "    <tr style=\"text-align: right;\">\n",
       "      <th></th>\n",
       "      <th>Year</th>\n",
       "      <th>Manufacturer</th>\n",
       "      <th>Model</th>\n",
       "      <th>barrels08</th>\n",
       "      <th>charge240</th>\n",
       "      <th>cityA08U</th>\n",
       "      <th>cityCD</th>\n",
       "      <th>cityE</th>\n",
       "      <th>cityUF</th>\n",
       "      <th>co2A</th>\n",
       "      <th>...</th>\n",
       "      <th>fuelCostA08</th>\n",
       "      <th>fuelType2</th>\n",
       "      <th>ghgScoreA</th>\n",
       "      <th>highwayA08U</th>\n",
       "      <th>highwayCD</th>\n",
       "      <th>highwayE</th>\n",
       "      <th>highwayUF</th>\n",
       "      <th>id</th>\n",
       "      <th>phevBlended</th>\n",
       "      <th>charge240b</th>\n",
       "    </tr>\n",
       "  </thead>\n",
       "  <tbody>\n",
       "  </tbody>\n",
       "</table>\n",
       "<p>0 rows × 26 columns</p>\n",
       "</div>"
      ],
      "text/plain": [
       "Empty DataFrame\n",
       "Columns: [Year, Manufacturer, Model, barrels08, charge240, cityA08U, cityCD, cityE, cityUF, co2A, combA08U, combE, combinedCD, combinedUF, cylinders, feScore, fuelCostA08, fuelType2, ghgScoreA, highwayA08U, highwayCD, highwayE, highwayUF, id, phevBlended, charge240b]\n",
       "Index: []\n",
       "\n",
       "[0 rows x 26 columns]"
      ]
     },
     "execution_count": 46,
     "metadata": {},
     "output_type": "execute_result"
    }
   ],
   "source": [
    "# Busco filas duplicadas\n",
    "df_fE_Electricity[df_fE_Electricity.duplicated()]"
   ]
  },
  {
   "cell_type": "markdown",
   "metadata": {},
   "source": [
    "Modifico el tipo de datos de algunos campos para ver mejor el contenido de los elementos del dataset"
   ]
  },
  {
   "cell_type": "code",
   "execution_count": 47,
   "metadata": {},
   "outputs": [],
   "source": [
    "df_fE_Electricity['Year'] = df_fE_Electricity['Year'].astype(str)\n",
    "df_fE_Electricity['feScore'] = df_fE_Electricity['feScore'].astype(int)\n",
    "df_fE_Electricity['ghgScoreA']= df_fE_Electricity['ghgScoreA'].astype(int)\n",
    "df_fE_Electricity['id'] = df_fE_Electricity['id'].astype(int)\n",
    "df_fE_Electricity['id'] = df_fE_Electricity['id'].astype(str)"
   ]
  },
  {
   "cell_type": "code",
   "execution_count": 48,
   "metadata": {},
   "outputs": [
    {
     "data": {
      "text/html": [
       "<div>\n",
       "<style scoped>\n",
       "    .dataframe tbody tr th:only-of-type {\n",
       "        vertical-align: middle;\n",
       "    }\n",
       "\n",
       "    .dataframe tbody tr th {\n",
       "        vertical-align: top;\n",
       "    }\n",
       "\n",
       "    .dataframe thead th {\n",
       "        text-align: right;\n",
       "    }\n",
       "</style>\n",
       "<table border=\"1\" class=\"dataframe\">\n",
       "  <thead>\n",
       "    <tr style=\"text-align: right;\">\n",
       "      <th></th>\n",
       "      <th>Year</th>\n",
       "      <th>Manufacturer</th>\n",
       "      <th>Model</th>\n",
       "      <th>fuelType2</th>\n",
       "      <th>id</th>\n",
       "      <th>phevBlended</th>\n",
       "    </tr>\n",
       "  </thead>\n",
       "  <tbody>\n",
       "    <tr>\n",
       "      <th>count</th>\n",
       "      <td>276</td>\n",
       "      <td>276</td>\n",
       "      <td>276</td>\n",
       "      <td>276</td>\n",
       "      <td>276</td>\n",
       "      <td>276</td>\n",
       "    </tr>\n",
       "    <tr>\n",
       "      <th>unique</th>\n",
       "      <td>13</td>\n",
       "      <td>21</td>\n",
       "      <td>120</td>\n",
       "      <td>1</td>\n",
       "      <td>276</td>\n",
       "      <td>2</td>\n",
       "    </tr>\n",
       "    <tr>\n",
       "      <th>top</th>\n",
       "      <td>2023</td>\n",
       "      <td>Porsche</td>\n",
       "      <td>Volt</td>\n",
       "      <td>Electricity</td>\n",
       "      <td>38168</td>\n",
       "      <td>False</td>\n",
       "    </tr>\n",
       "    <tr>\n",
       "      <th>freq</th>\n",
       "      <td>46</td>\n",
       "      <td>30</td>\n",
       "      <td>9</td>\n",
       "      <td>276</td>\n",
       "      <td>1</td>\n",
       "      <td>173</td>\n",
       "    </tr>\n",
       "  </tbody>\n",
       "</table>\n",
       "</div>"
      ],
      "text/plain": [
       "        Year Manufacturer Model    fuelType2     id phevBlended\n",
       "count    276          276   276          276    276         276\n",
       "unique    13           21   120            1    276           2\n",
       "top     2023      Porsche  Volt  Electricity  38168       False\n",
       "freq      46           30     9          276      1         173"
      ]
     },
     "execution_count": 48,
     "metadata": {},
     "output_type": "execute_result"
    }
   ],
   "source": [
    "# Veo una descripción de los datos cuantitativos\n",
    "df_fE_Electricity.describe(include = ['O'])"
   ]
  },
  {
   "cell_type": "code",
   "execution_count": 49,
   "metadata": {},
   "outputs": [
    {
     "name": "stdout",
     "output_type": "stream",
     "text": [
      "Los valores únicos del campo 'phevBlended' son: [False, True]\n"
     ]
    }
   ],
   "source": [
    "print(\"Los valores únicos del campo 'phevBlended' son:\", df_fE_Electricity['phevBlended'].unique().tolist())"
   ]
  },
  {
   "cell_type": "markdown",
   "metadata": {},
   "source": [
    "Lo anterior era de esperarse porque los auto híbridos también son eléctricos"
   ]
  },
  {
   "cell_type": "code",
   "execution_count": 50,
   "metadata": {},
   "outputs": [],
   "source": [
    "# Exporto el dataset df_fE_Alternative\n",
    "df_fE_Electricity.to_csv('Datasets_procesados_cars/Vehicle-Electricity.csv')"
   ]
  }
 ],
 "metadata": {
  "kernelspec": {
   "display_name": "Python 3",
   "language": "python",
   "name": "python3"
  },
  "language_info": {
   "codemirror_mode": {
    "name": "ipython",
    "version": 3
   },
   "file_extension": ".py",
   "mimetype": "text/x-python",
   "name": "python",
   "nbconvert_exporter": "python",
   "pygments_lexer": "ipython3",
   "version": "3.11.1"
  },
  "orig_nbformat": 4
 },
 "nbformat": 4,
 "nbformat_minor": 2
}
