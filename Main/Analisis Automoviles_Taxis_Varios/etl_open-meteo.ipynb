{
 "cells": [
  {
   "cell_type": "code",
   "execution_count": 6,
   "metadata": {},
   "outputs": [],
   "source": [
    "import pandas as pd\n",
    "import seaborn as sns"
   ]
  },
  {
   "cell_type": "code",
   "execution_count": 7,
   "metadata": {},
   "outputs": [
    {
     "data": {
      "text/html": [
       "<div>\n",
       "<style scoped>\n",
       "    .dataframe tbody tr th:only-of-type {\n",
       "        vertical-align: middle;\n",
       "    }\n",
       "\n",
       "    .dataframe tbody tr th {\n",
       "        vertical-align: top;\n",
       "    }\n",
       "\n",
       "    .dataframe thead th {\n",
       "        text-align: right;\n",
       "    }\n",
       "</style>\n",
       "<table border=\"1\" class=\"dataframe\">\n",
       "  <thead>\n",
       "    <tr style=\"text-align: right;\">\n",
       "      <th></th>\n",
       "      <th>time</th>\n",
       "      <th>apparent_temperature (°C)</th>\n",
       "      <th>rain (mm)</th>\n",
       "      <th>snowfall (cm)</th>\n",
       "    </tr>\n",
       "  </thead>\n",
       "  <tbody>\n",
       "    <tr>\n",
       "      <th>0</th>\n",
       "      <td>2014-01-01T00:00</td>\n",
       "      <td>-9.5</td>\n",
       "      <td>0.0</td>\n",
       "      <td>0.0</td>\n",
       "    </tr>\n",
       "    <tr>\n",
       "      <th>1</th>\n",
       "      <td>2014-01-01T01:00</td>\n",
       "      <td>-9.8</td>\n",
       "      <td>0.0</td>\n",
       "      <td>0.0</td>\n",
       "    </tr>\n",
       "    <tr>\n",
       "      <th>2</th>\n",
       "      <td>2014-01-01T02:00</td>\n",
       "      <td>-9.8</td>\n",
       "      <td>0.0</td>\n",
       "      <td>0.0</td>\n",
       "    </tr>\n",
       "    <tr>\n",
       "      <th>3</th>\n",
       "      <td>2014-01-01T03:00</td>\n",
       "      <td>-9.9</td>\n",
       "      <td>0.0</td>\n",
       "      <td>0.0</td>\n",
       "    </tr>\n",
       "    <tr>\n",
       "      <th>4</th>\n",
       "      <td>2014-01-01T04:00</td>\n",
       "      <td>-10.0</td>\n",
       "      <td>0.0</td>\n",
       "      <td>0.0</td>\n",
       "    </tr>\n",
       "    <tr>\n",
       "      <th>...</th>\n",
       "      <td>...</td>\n",
       "      <td>...</td>\n",
       "      <td>...</td>\n",
       "      <td>...</td>\n",
       "    </tr>\n",
       "    <tr>\n",
       "      <th>84115</th>\n",
       "      <td>2023-08-06T19:00</td>\n",
       "      <td>NaN</td>\n",
       "      <td>NaN</td>\n",
       "      <td>NaN</td>\n",
       "    </tr>\n",
       "    <tr>\n",
       "      <th>84116</th>\n",
       "      <td>2023-08-06T20:00</td>\n",
       "      <td>NaN</td>\n",
       "      <td>NaN</td>\n",
       "      <td>NaN</td>\n",
       "    </tr>\n",
       "    <tr>\n",
       "      <th>84117</th>\n",
       "      <td>2023-08-06T21:00</td>\n",
       "      <td>NaN</td>\n",
       "      <td>NaN</td>\n",
       "      <td>NaN</td>\n",
       "    </tr>\n",
       "    <tr>\n",
       "      <th>84118</th>\n",
       "      <td>2023-08-06T22:00</td>\n",
       "      <td>NaN</td>\n",
       "      <td>NaN</td>\n",
       "      <td>NaN</td>\n",
       "    </tr>\n",
       "    <tr>\n",
       "      <th>84119</th>\n",
       "      <td>2023-08-06T23:00</td>\n",
       "      <td>NaN</td>\n",
       "      <td>NaN</td>\n",
       "      <td>NaN</td>\n",
       "    </tr>\n",
       "  </tbody>\n",
       "</table>\n",
       "<p>84120 rows × 4 columns</p>\n",
       "</div>"
      ],
      "text/plain": [
       "                   time  apparent_temperature (°C)  rain (mm)  snowfall (cm)\n",
       "0      2014-01-01T00:00                       -9.5        0.0            0.0\n",
       "1      2014-01-01T01:00                       -9.8        0.0            0.0\n",
       "2      2014-01-01T02:00                       -9.8        0.0            0.0\n",
       "3      2014-01-01T03:00                       -9.9        0.0            0.0\n",
       "4      2014-01-01T04:00                      -10.0        0.0            0.0\n",
       "...                 ...                        ...        ...            ...\n",
       "84115  2023-08-06T19:00                        NaN        NaN            NaN\n",
       "84116  2023-08-06T20:00                        NaN        NaN            NaN\n",
       "84117  2023-08-06T21:00                        NaN        NaN            NaN\n",
       "84118  2023-08-06T22:00                        NaN        NaN            NaN\n",
       "84119  2023-08-06T23:00                        NaN        NaN            NaN\n",
       "\n",
       "[84120 rows x 4 columns]"
      ]
     },
     "execution_count": 7,
     "metadata": {},
     "output_type": "execute_result"
    }
   ],
   "source": [
    "#Llamada a la API sería: https://archive-api.open-meteo.com/v1/archive?latitude=40.7143&longitude=-74.006&start_date=2021-01-01&end_date=2023-08-04&hourly=apparent_temperature,rain,snowfall&timezone=America%2FNew_York\n",
    "df = pd.read_csv('..\\Datasets\\weather_nyc_temperature_rain_snowfall_raw.csv', skiprows=3)\n",
    "#Con skiprows omitimos la primera información sobre latitud, longitud, y huso horario de NYC ya que es innecesaria.\n",
    "df"
   ]
  },
  {
   "cell_type": "code",
   "execution_count": 8,
   "metadata": {},
   "outputs": [
    {
     "data": {
      "text/plain": [
       "<AxesSubplot:>"
      ]
     },
     "execution_count": 8,
     "metadata": {},
     "output_type": "execute_result"
    },
    {
     "data": {
      "image/png": "[encoded data removed]",
      "text/plain": [
       "<Figure size 640x480 with 2 Axes>"
      ]
     },
     "metadata": {},
     "output_type": "display_data"
    }
   ],
   "source": [
    "sns.heatmap(df.isna().transpose(), #Visualizamos los nulos, vemos que solo hay algunos faltantes en las fechas mas recientes\n",
    "            cmap=\"YlGnBu\",\n",
    "            cbar_kws={'label': 'Nulos'})  "
   ]
  },
  {
   "cell_type": "code",
   "execution_count": 9,
   "metadata": {},
   "outputs": [
    {
     "name": "stdout",
     "output_type": "stream",
     "text": [
      "                   time  apparent_temperature (°C)  rain (mm)  snowfall (cm)\n",
      "84092  2023-08-05T20:00                        NaN        NaN            NaN\n",
      "84093  2023-08-05T21:00                        NaN        NaN            NaN\n",
      "84094  2023-08-05T22:00                        NaN        NaN            NaN\n",
      "84095  2023-08-05T23:00                        NaN        NaN            NaN\n",
      "84096  2023-08-06T00:00                        NaN        NaN            NaN\n",
      "84097  2023-08-06T01:00                        NaN        NaN            NaN\n",
      "84098  2023-08-06T02:00                        NaN        NaN            NaN\n",
      "84099  2023-08-06T03:00                        NaN        NaN            NaN\n",
      "84100  2023-08-06T04:00                        NaN        NaN            NaN\n",
      "84101  2023-08-06T05:00                        NaN        NaN            NaN\n",
      "84102  2023-08-06T06:00                        NaN        NaN            NaN\n",
      "84103  2023-08-06T07:00                        NaN        NaN            NaN\n",
      "84104  2023-08-06T08:00                        NaN        NaN            NaN\n",
      "84105  2023-08-06T09:00                        NaN        NaN            NaN\n",
      "84106  2023-08-06T10:00                        NaN        NaN            NaN\n",
      "84107  2023-08-06T11:00                        NaN        NaN            NaN\n",
      "84108  2023-08-06T12:00                        NaN        NaN            NaN\n",
      "84109  2023-08-06T13:00                        NaN        NaN            NaN\n",
      "84110  2023-08-06T14:00                        NaN        NaN            NaN\n",
      "84111  2023-08-06T15:00                        NaN        NaN            NaN\n",
      "84112  2023-08-06T16:00                        NaN        NaN            NaN\n",
      "84113  2023-08-06T17:00                        NaN        NaN            NaN\n",
      "84114  2023-08-06T18:00                        NaN        NaN            NaN\n",
      "84115  2023-08-06T19:00                        NaN        NaN            NaN\n",
      "84116  2023-08-06T20:00                        NaN        NaN            NaN\n",
      "84117  2023-08-06T21:00                        NaN        NaN            NaN\n",
      "84118  2023-08-06T22:00                        NaN        NaN            NaN\n",
      "84119  2023-08-06T23:00                        NaN        NaN            NaN\n"
     ]
    }
   ],
   "source": [
    "print(df[df.isnull().any(axis=1)]) #Comprobamos esto y procedemos a eliminarlos\n",
    "df.dropna(axis=0,inplace=True)"
   ]
  },
  {
   "cell_type": "code",
   "execution_count": 10,
   "metadata": {},
   "outputs": [],
   "source": [
    "df.to_csv('..\\Datasets_procesados_varios\\weather_nyc_temperature_rain_snowfall.csv', index=False)"
   ]
  }
 ],
 "metadata": {
  "kernelspec": {
   "display_name": "pida",
   "language": "python",
   "name": "python3"
  },
  "language_info": {
   "codemirror_mode": {
    "name": "ipython",
    "version": 3
   },
   "file_extension": ".py",
   "mimetype": "text/x-python",
   "name": "python",
   "nbconvert_exporter": "python",
   "pygments_lexer": "ipython3",
   "version": "3.7.10"
  },
  "orig_nbformat": 4
 },
 "nbformat": 4,
 "nbformat_minor": 2
}
