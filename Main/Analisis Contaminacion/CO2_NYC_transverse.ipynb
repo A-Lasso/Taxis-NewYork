{
 "cells": [
  {
   "cell_type": "code",
   "execution_count": 1,
   "metadata": {},
   "outputs": [],
   "source": [
    "import pandas as pd"
   ]
  },
  {
   "cell_type": "code",
   "execution_count": 2,
   "metadata": {},
   "outputs": [],
   "source": [
    "df = pd.read_csv(r'..\\Datasets\\2005_2021_NYC_CO2_transporte.csv')"
   ]
  },
  {
   "cell_type": "code",
   "execution_count": 3,
   "metadata": {},
   "outputs": [
    {
     "data": {
      "text/plain": [
       "Index(['Sectors Sector', 'Category Label', 'Source Label', 'Source Units',\n",
       "       '2005 CO2 Generado', '2006 CO2 Generado', '2007 CO2 Generado',\n",
       "       '2008 CO2 Generado', '2009 CO2 Generado', '2010 CO2 Generado',\n",
       "       '2011 CO2 Generado', '2012 CO2 Generado', '2013 CO2 Generado',\n",
       "       '2014 CO2 Generado', '2015 CO2 Generado', '2016 CO2 Generado',\n",
       "       '2017 CO2 Generado', '2018 CO2 Generado', '2019 CO2 Generado',\n",
       "       '2020 CO2 Generado', '2021 CO2 Generado', '2005 - 2021 % change'],\n",
       "      dtype='object')"
      ]
     },
     "execution_count": 3,
     "metadata": {},
     "output_type": "execute_result"
    }
   ],
   "source": [
    "df.columns"
   ]
  },
  {
   "cell_type": "code",
   "execution_count": 4,
   "metadata": {},
   "outputs": [],
   "source": [
    "df.drop(columns='2005 - 2021 % change', inplace=True)"
   ]
  },
  {
   "cell_type": "code",
   "execution_count": 5,
   "metadata": {},
   "outputs": [],
   "source": [
    "# Suponiendo que 'df' es tu DataFrame actual\n",
    "melted_df = df.melt(id_vars=['Sectors Sector', 'Category Label', 'Source Label', 'Source Units'],\n",
    "                    var_name='year', value_name='CO2 Generado')\n",
    "\n",
    "# Cambiar el nombre de la columna '2005 CO2 Generado' a '2005', y así sucesivamente para otros años\n",
    "melted_df['year'] = melted_df['year'].str.split().str[0]\n",
    "\n",
    "# Convertir la columna 'year' a tipo numérico (entero)\n",
    "melted_df['year'] = pd.to_numeric(melted_df['year'])\n",
    "\n",
    "# Ordenar el DataFrame por sector y año\n",
    "final_df = melted_df.sort_values(by=['Sectors Sector', 'year'])\n"
   ]
  },
  {
   "cell_type": "code",
   "execution_count": 6,
   "metadata": {},
   "outputs": [],
   "source": [
    "final_df.to_csv('..\\Datasets_procesados_contaminacion\\CO2_NYC.csv',index=False)"
   ]
  }
 ],
 "metadata": {
  "kernelspec": {
   "display_name": "Python 3",
   "language": "python",
   "name": "python3"
  },
  "language_info": {
   "codemirror_mode": {
    "name": "ipython",
    "version": 3
   },
   "file_extension": ".py",
   "mimetype": "text/x-python",
   "name": "python",
   "nbconvert_exporter": "python",
   "pygments_lexer": "ipython3",
   "version": "3.11.3"
  },
  "orig_nbformat": 4
 },
 "nbformat": 4,
 "nbformat_minor": 2
}
