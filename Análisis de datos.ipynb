{
 "cells": [
  {
   "cell_type": "code",
   "execution_count": 47,
   "metadata": {},
   "outputs": [],
   "source": [
    "#Importo las librerías a usar\n",
    "import pandas as pd\n",
    "import numpy as np"
   ]
  },
  {
   "cell_type": "markdown",
   "metadata": {},
   "source": [
    "-- Nota recomiendo para el pipelines solo automatizar para ese primer csvla eliminación de Message y Start_Date dado que se repite la información el resto de los datos a mi parecer están bien correlacionados"
   ]
  },
  {
   "cell_type": "code",
   "execution_count": 48,
   "metadata": {},
   "outputs": [],
   "source": [
    "#Traigo los archivos a evaluar\n",
    "df_calidadDelAire = pd.read_csv(\"Taxis-NewYork\\Datasets\\Air_Quality.csv\")\n",
    "df_energia = pd.read_csv(\"Taxis-NewYork\\Datasets\\energy.csv\")\n",
    "df_contaminacionSonora = pd.read_csv(r\"C:\\Users\\Patricia\\Desktop\\Proyecto grupal\\Taxis-NewYork\\Datasets\\annotations.csv\")"
   ]
  },
  {
   "cell_type": "code",
   "execution_count": 49,
   "metadata": {},
   "outputs": [
    {
     "name": "stdout",
     "output_type": "stream",
     "text": [
      "<class 'pandas.core.frame.DataFrame'>\n",
      "RangeIndex: 16122 entries, 0 to 16121\n",
      "Data columns (total 12 columns):\n",
      " #   Column          Non-Null Count  Dtype  \n",
      "---  ------          --------------  -----  \n",
      " 0   Unique ID       16122 non-null  int64  \n",
      " 1   Indicator ID    16122 non-null  int64  \n",
      " 2   Name            16122 non-null  object \n",
      " 3   Measure         16122 non-null  object \n",
      " 4   Measure Info    16122 non-null  object \n",
      " 5   Geo Type Name   16122 non-null  object \n",
      " 6   Geo Join ID     16122 non-null  int64  \n",
      " 7   Geo Place Name  16122 non-null  object \n",
      " 8   Time Period     16122 non-null  object \n",
      " 9   Start_Date      16122 non-null  object \n",
      " 10  Data Value      16122 non-null  float64\n",
      " 11  Message         0 non-null      float64\n",
      "dtypes: float64(2), int64(3), object(7)\n",
      "memory usage: 1.5+ MB\n"
     ]
    }
   ],
   "source": [
    "df_calidadDelAire.info() #Evaluo la informacion existente"
   ]
  },
  {
   "cell_type": "code",
   "execution_count": 50,
   "metadata": {},
   "outputs": [
    {
     "data": {
      "text/plain": [
       "Unique ID             0\n",
       "Indicator ID          0\n",
       "Name                  0\n",
       "Measure               0\n",
       "Measure Info          0\n",
       "Geo Type Name         0\n",
       "Geo Join ID           0\n",
       "Geo Place Name        0\n",
       "Time Period           0\n",
       "Start_Date            0\n",
       "Data Value            0\n",
       "Message           16122\n",
       "dtype: int64"
      ]
     },
     "execution_count": 50,
     "metadata": {},
     "output_type": "execute_result"
    }
   ],
   "source": [
    "#El totoal de entradas de la ultima columna están vacíos, el resto cuenta con los datos\n",
    "df_calidadDelAire.isnull().sum()\n",
    "#df_calidadDelAire.shape = (16122, 12) tenemos 16.122 filas y 12 columnas"
   ]
  },
  {
   "cell_type": "code",
   "execution_count": 51,
   "metadata": {},
   "outputs": [],
   "source": [
    "#Elimino la columna que no tiene ningun dato representativo\n",
    "df_calidadDelAire.drop(columns=['Message'], inplace=True)"
   ]
  },
  {
   "cell_type": "code",
   "execution_count": 52,
   "metadata": {},
   "outputs": [
    {
     "data": {
      "text/html": [
       "<div>\n",
       "<style scoped>\n",
       "    .dataframe tbody tr th:only-of-type {\n",
       "        vertical-align: middle;\n",
       "    }\n",
       "\n",
       "    .dataframe tbody tr th {\n",
       "        vertical-align: top;\n",
       "    }\n",
       "\n",
       "    .dataframe thead th {\n",
       "        text-align: right;\n",
       "    }\n",
       "</style>\n",
       "<table border=\"1\" class=\"dataframe\">\n",
       "  <thead>\n",
       "    <tr style=\"text-align: right;\">\n",
       "      <th></th>\n",
       "      <th>Unique ID</th>\n",
       "      <th>Indicator ID</th>\n",
       "      <th>Name</th>\n",
       "      <th>Measure</th>\n",
       "      <th>Measure Info</th>\n",
       "      <th>Geo Type Name</th>\n",
       "      <th>Geo Join ID</th>\n",
       "      <th>Geo Place Name</th>\n",
       "      <th>Time Period</th>\n",
       "      <th>Start_Date</th>\n",
       "      <th>Data Value</th>\n",
       "    </tr>\n",
       "  </thead>\n",
       "  <tbody>\n",
       "    <tr>\n",
       "      <th>0</th>\n",
       "      <td>216498</td>\n",
       "      <td>386</td>\n",
       "      <td>Ozone (O3)</td>\n",
       "      <td>Mean</td>\n",
       "      <td>ppb</td>\n",
       "      <td>CD</td>\n",
       "      <td>313</td>\n",
       "      <td>Coney Island (CD13)</td>\n",
       "      <td>Summer 2013</td>\n",
       "      <td>06/01/2013</td>\n",
       "      <td>34.64</td>\n",
       "    </tr>\n",
       "    <tr>\n",
       "      <th>1</th>\n",
       "      <td>216499</td>\n",
       "      <td>386</td>\n",
       "      <td>Ozone (O3)</td>\n",
       "      <td>Mean</td>\n",
       "      <td>ppb</td>\n",
       "      <td>CD</td>\n",
       "      <td>313</td>\n",
       "      <td>Coney Island (CD13)</td>\n",
       "      <td>Summer 2014</td>\n",
       "      <td>06/01/2014</td>\n",
       "      <td>33.22</td>\n",
       "    </tr>\n",
       "    <tr>\n",
       "      <th>2</th>\n",
       "      <td>219969</td>\n",
       "      <td>386</td>\n",
       "      <td>Ozone (O3)</td>\n",
       "      <td>Mean</td>\n",
       "      <td>ppb</td>\n",
       "      <td>Borough</td>\n",
       "      <td>1</td>\n",
       "      <td>Bronx</td>\n",
       "      <td>Summer 2013</td>\n",
       "      <td>06/01/2013</td>\n",
       "      <td>31.25</td>\n",
       "    </tr>\n",
       "  </tbody>\n",
       "</table>\n",
       "</div>"
      ],
      "text/plain": [
       "   Unique ID  Indicator ID        Name Measure Measure Info Geo Type Name   \n",
       "0     216498           386  Ozone (O3)    Mean          ppb            CD  \\\n",
       "1     216499           386  Ozone (O3)    Mean          ppb            CD   \n",
       "2     219969           386  Ozone (O3)    Mean          ppb       Borough   \n",
       "\n",
       "   Geo Join ID       Geo Place Name  Time Period  Start_Date  Data Value  \n",
       "0          313  Coney Island (CD13)  Summer 2013  06/01/2013       34.64  \n",
       "1          313  Coney Island (CD13)  Summer 2014  06/01/2014       33.22  \n",
       "2            1                Bronx  Summer 2013  06/01/2013       31.25  "
      ]
     },
     "execution_count": 52,
     "metadata": {},
     "output_type": "execute_result"
    }
   ],
   "source": [
    "#Verifico que los datos estén quedando bien\n",
    "df_calidadDelAire.head(3)"
   ]
  },
  {
   "cell_type": "code",
   "execution_count": 53,
   "metadata": {},
   "outputs": [],
   "source": [
    "# Inicio con el segundo dataset sin embargo noto que contiene datos de muchos países y años por lo cual utilizo un filtro\n",
    "\n",
    "df_filtrado = df_energia.loc[(df_energia['Country'] == 'United States') & (df_energia['Year'] >= 2000)]"
   ]
  },
  {
   "cell_type": "code",
   "execution_count": 54,
   "metadata": {},
   "outputs": [
    {
     "data": {
      "text/plain": [
       "Unnamed: 0                     0\n",
       "Country                        0\n",
       "Energy_type                    0\n",
       "Year                           0\n",
       "Energy_consumption             0\n",
       "Energy_production              0\n",
       "GDP                            0\n",
       "Population                     0\n",
       "Energy_intensity_per_capita    0\n",
       "Energy_intensity_by_GDP        0\n",
       "CO2_emission                   0\n",
       "dtype: int64"
      ]
     },
     "execution_count": 54,
     "metadata": {},
     "output_type": "execute_result"
    }
   ],
   "source": [
    "df_filtrado.isnull().sum() #Notese que pese a que no salen valores nulos en la columna CO2_emission hay valores 0\n",
    "#Son 41 datos con numero 0, no están asociado a uso de energías que generen emision de CO2\n",
    "# df_filtrado.shape --> (120, 11)"
   ]
  },
  {
   "cell_type": "code",
   "execution_count": 55,
   "metadata": {},
   "outputs": [
    {
     "name": "stdout",
     "output_type": "stream",
     "text": [
      "<class 'pandas.core.frame.DataFrame'>\n",
      "Index: 120 entries, 29040 to 55379\n",
      "Data columns (total 11 columns):\n",
      " #   Column                       Non-Null Count  Dtype  \n",
      "---  ------                       --------------  -----  \n",
      " 0   Unnamed: 0                   120 non-null    int64  \n",
      " 1   Country                      120 non-null    object \n",
      " 2   Energy_type                  120 non-null    object \n",
      " 3   Year                         120 non-null    int64  \n",
      " 4   Energy_consumption           120 non-null    float64\n",
      " 5   Energy_production            120 non-null    float64\n",
      " 6   GDP                          120 non-null    float64\n",
      " 7   Population                   120 non-null    float64\n",
      " 8   Energy_intensity_per_capita  120 non-null    float64\n",
      " 9   Energy_intensity_by_GDP      120 non-null    float64\n",
      " 10  CO2_emission                 120 non-null    float64\n",
      "dtypes: float64(7), int64(2), object(2)\n",
      "memory usage: 11.2+ KB\n"
     ]
    }
   ],
   "source": [
    "df_filtrado.info()"
   ]
  },
  {
   "cell_type": "code",
   "execution_count": 56,
   "metadata": {},
   "outputs": [
    {
     "data": {
      "text/html": [
       "<div>\n",
       "<style scoped>\n",
       "    .dataframe tbody tr th:only-of-type {\n",
       "        vertical-align: middle;\n",
       "    }\n",
       "\n",
       "    .dataframe tbody tr th {\n",
       "        vertical-align: top;\n",
       "    }\n",
       "\n",
       "    .dataframe thead th {\n",
       "        text-align: right;\n",
       "    }\n",
       "</style>\n",
       "<table border=\"1\" class=\"dataframe\">\n",
       "  <thead>\n",
       "    <tr style=\"text-align: right;\">\n",
       "      <th></th>\n",
       "      <th>Unnamed: 0</th>\n",
       "      <th>Country</th>\n",
       "      <th>Energy_type</th>\n",
       "      <th>Year</th>\n",
       "      <th>Energy_consumption</th>\n",
       "      <th>Energy_production</th>\n",
       "      <th>GDP</th>\n",
       "      <th>Population</th>\n",
       "      <th>Energy_intensity_per_capita</th>\n",
       "      <th>Energy_intensity_by_GDP</th>\n",
       "      <th>CO2_emission</th>\n",
       "    </tr>\n",
       "  </thead>\n",
       "  <tbody>\n",
       "    <tr>\n",
       "      <th>29040</th>\n",
       "      <td>29040</td>\n",
       "      <td>United States</td>\n",
       "      <td>all_energy_types</td>\n",
       "      <td>2000</td>\n",
       "      <td>98.702224</td>\n",
       "      <td>71.270590</td>\n",
       "      <td>13754.31</td>\n",
       "      <td>282054.2</td>\n",
       "      <td>349.940629</td>\n",
       "      <td>7.176094</td>\n",
       "      <td>5700.252865</td>\n",
       "    </tr>\n",
       "    <tr>\n",
       "      <th>29041</th>\n",
       "      <td>29041</td>\n",
       "      <td>United States</td>\n",
       "      <td>coal</td>\n",
       "      <td>2000</td>\n",
       "      <td>22.579528</td>\n",
       "      <td>22.735478</td>\n",
       "      <td>13754.31</td>\n",
       "      <td>282054.2</td>\n",
       "      <td>349.940629</td>\n",
       "      <td>7.176094</td>\n",
       "      <td>2061.622698</td>\n",
       "    </tr>\n",
       "    <tr>\n",
       "      <th>29042</th>\n",
       "      <td>29042</td>\n",
       "      <td>United States</td>\n",
       "      <td>natural_gas</td>\n",
       "      <td>2000</td>\n",
       "      <td>23.823977</td>\n",
       "      <td>19.661529</td>\n",
       "      <td>13754.31</td>\n",
       "      <td>282054.2</td>\n",
       "      <td>349.940629</td>\n",
       "      <td>7.176094</td>\n",
       "      <td>1196.935249</td>\n",
       "    </tr>\n",
       "  </tbody>\n",
       "</table>\n",
       "</div>"
      ],
      "text/plain": [
       "       Unnamed: 0        Country       Energy_type  Year  Energy_consumption   \n",
       "29040       29040  United States  all_energy_types  2000           98.702224  \\\n",
       "29041       29041  United States              coal  2000           22.579528   \n",
       "29042       29042  United States       natural_gas  2000           23.823977   \n",
       "\n",
       "       Energy_production       GDP  Population  Energy_intensity_per_capita   \n",
       "29040          71.270590  13754.31    282054.2                   349.940629  \\\n",
       "29041          22.735478  13754.31    282054.2                   349.940629   \n",
       "29042          19.661529  13754.31    282054.2                   349.940629   \n",
       "\n",
       "       Energy_intensity_by_GDP  CO2_emission  \n",
       "29040                 7.176094   5700.252865  \n",
       "29041                 7.176094   2061.622698  \n",
       "29042                 7.176094   1196.935249  "
      ]
     },
     "execution_count": 56,
     "metadata": {},
     "output_type": "execute_result"
    }
   ],
   "source": [
    "df_filtrado.head(3)"
   ]
  },
  {
   "cell_type": "code",
   "execution_count": 57,
   "metadata": {},
   "outputs": [
    {
     "data": {
      "text/plain": [
       "5.040496889753446"
      ]
     },
     "execution_count": 57,
     "metadata": {},
     "output_type": "execute_result"
    }
   ],
   "source": [
    "df_filtrado['Energy_intensity_by_GDP'].min()"
   ]
  }
 ],
 "metadata": {
  "kernelspec": {
   "display_name": "Python 3",
   "language": "python",
   "name": "python3"
  },
  "language_info": {
   "codemirror_mode": {
    "name": "ipython",
    "version": 3
   },
   "file_extension": ".py",
   "mimetype": "text/x-python",
   "name": "python",
   "nbconvert_exporter": "python",
   "pygments_lexer": "ipython3",
   "version": "3.10.11"
  },
  "orig_nbformat": 4
 },
 "nbformat": 4,
 "nbformat_minor": 2
}
